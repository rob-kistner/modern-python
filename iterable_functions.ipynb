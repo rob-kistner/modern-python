{
 "cells": [
  {
   "cell_type": "markdown",
   "metadata": {},
   "source": [
    "# Iterable Functions"
   ]
  },
  {
   "cell_type": "markdown",
   "metadata": {},
   "source": [
    "## reversed()\n",
    "\n",
    "Returns a reversed iterator\n",
    "\n",
    "`reversed()` normally returns a `reversed` object so you'd have to convert it or loop through it."
   ]
  },
  {
   "cell_type": "code",
   "execution_count": 66,
   "metadata": {},
   "outputs": [
    {
     "data": {
      "text/plain": [
       "<reversed at 0x10958f820>"
      ]
     },
     "execution_count": 66,
     "metadata": {},
     "output_type": "execute_result"
    }
   ],
   "source": [
    "output = reversed(\"hello\")\n",
    "\n",
    "output"
   ]
  },
  {
   "cell_type": "code",
   "execution_count": 68,
   "metadata": {},
   "outputs": [
    {
     "data": {
      "text/plain": [
       "[]"
      ]
     },
     "execution_count": 68,
     "metadata": {},
     "output_type": "execute_result"
    }
   ],
   "source": [
    "list(output)"
   ]
  },
  {
   "cell_type": "code",
   "execution_count": 69,
   "metadata": {
    "tags": []
   },
   "outputs": [
    {
     "name": "stdout",
     "output_type": "stream",
     "text": [
      "4\n",
      "3\n",
      "2\n",
      "1\n"
     ]
    }
   ],
   "source": [
    "output = reversed([1,2,3,4])\n",
    "\n",
    "for item in output:\n",
    "    print(item)"
   ]
  },
  {
   "cell_type": "markdown",
   "metadata": {},
   "source": [
    "Reversed could be useful if you're working with something that's already an iterator instead of the usual `<string>.reverse()` or \n",
    "`[::-1]` `slice` methods."
   ]
  },
  {
   "cell_type": "markdown",
   "metadata": {},
   "source": [
    "### Set Comprehension\n",
    "\n",
    "Create like a dict without k,v"
   ]
  },
  {
   "cell_type": "code",
   "execution_count": 2,
   "metadata": {},
   "outputs": [
    {
     "data": {
      "text/plain": [
       "{0, 1, 4, 9, 16, 25, 36, 49, 64, 81}"
      ]
     },
     "execution_count": 2,
     "metadata": {},
     "output_type": "execute_result"
    }
   ],
   "source": [
    "newset = {x**2 for x in range(10)}\n",
    "\n",
    "newset"
   ]
  },
  {
   "cell_type": "code",
   "execution_count": 1,
   "metadata": {},
   "outputs": [
    {
     "data": {
      "text/plain": [
       "{'E', 'H', 'L', 'O'}"
      ]
     },
     "execution_count": 1,
     "metadata": {},
     "output_type": "execute_result"
    }
   ],
   "source": [
    "newset = {char.upper() for char in 'hello'}\n",
    "\n",
    "newset"
   ]
  },
  {
   "cell_type": "markdown",
   "metadata": {},
   "source": [
    "Example: Making a function to count unique vowels"
   ]
  },
  {
   "cell_type": "code",
   "execution_count": 3,
   "metadata": {},
   "outputs": [
    {
     "data": {
      "text/plain": [
       "2"
      ]
     },
     "execution_count": 3,
     "metadata": {},
     "output_type": "execute_result"
    }
   ],
   "source": [
    "def count_unique_vowels(s):\n",
    "    return len({char for char in s if char in 'aeiou'})\n",
    "\n",
    "count_unique_vowels('happenstance')"
   ]
  },
  {
   "cell_type": "code",
   "execution_count": null,
   "metadata": {},
   "outputs": [],
   "source": []
  },
  {
   "cell_type": "markdown",
   "metadata": {},
   "source": [
    "## Iterable Functions"
   ]
  },
  {
   "cell_type": "markdown",
   "metadata": {},
   "source": [
    "### sorted()"
   ]
  },
  {
   "cell_type": "markdown",
   "metadata": {},
   "source": [
    "Basic usage"
   ]
  },
  {
   "cell_type": "code",
   "execution_count": 23,
   "metadata": {},
   "outputs": [],
   "source": [
    "more_numbers = [6,1,2,8]\n",
    "\n",
    "more_numbers"
   ]
  },
  {
   "cell_type": "code",
   "execution_count": 19,
   "metadata": {},
   "outputs": [
    {
     "data": {
      "text/plain": [
       "[1, 2, 6, 8]"
      ]
     },
     "execution_count": 19,
     "metadata": {},
     "output_type": "execute_result"
    }
   ],
   "source": [
    "sorted(more_numbers)"
   ]
  },
  {
   "cell_type": "code",
   "execution_count": 20,
   "metadata": {},
   "outputs": [
    {
     "data": {
      "text/plain": [
       "'note: it does not mutate the original: [6, 1, 2, 8]'"
      ]
     },
     "execution_count": 20,
     "metadata": {},
     "output_type": "execute_result"
    }
   ],
   "source": [
    "f\"note: it does not mutate the original: {more_numbers}\""
   ]
  },
  {
   "cell_type": "code",
   "execution_count": 21,
   "metadata": {},
   "outputs": [
    {
     "data": {
      "text/plain": [
       "[8, 6, 2, 1]"
      ]
     },
     "execution_count": 21,
     "metadata": {},
     "output_type": "execute_result"
    }
   ],
   "source": [
    "sorted(more_numbers, reverse=True)"
   ]
  },
  {
   "cell_type": "markdown",
   "metadata": {},
   "source": [
    "Can accept a tuple…"
   ]
  },
  {
   "cell_type": "code",
   "execution_count": 24,
   "metadata": {},
   "outputs": [
    {
     "data": {
      "text/plain": [
       "[1, 4, 6, 23, 30, 55]"
      ]
     },
     "execution_count": 24,
     "metadata": {},
     "output_type": "execute_result"
    }
   ],
   "source": [
    "more_numbers_tuple = (4,6,1,30,55,23)\n",
    "\n",
    "sorted(more_numbers_tuple)"
   ]
  },
  {
   "cell_type": "markdown",
   "metadata": {},
   "source": [
    "Sorting dicts…"
   ]
  },
  {
   "cell_type": "code",
   "execution_count": null,
   "metadata": {},
   "outputs": [],
   "source": [
    "associates = [\n",
    "    {\n",
    "        \"firstname\": \"Rob\",\n",
    "        \"lastname\": \"Kistner\",\n",
    "        \"role\": \"admin\",\n",
    "        \"title\": \"Art Director\"\n",
    "    },\n",
    "    {\n",
    "        \"firstname\": \"Jeff\",\n",
    "        \"lastname\": \"Hastings\",\n",
    "        \"role\": \"admin\",\n",
    "        \"title\": \"Creative Director\",\n",
    "        \"color\": \"orange\"\n",
    "    },\n",
    "    {\n",
    "        \"firstname\": \"Cindy\",\n",
    "        \"lastname\": \"Xiong\",\n",
    "        \"title\": \"Graphic Designer\"\n",
    "    },\n",
    "    {\n",
    "        \"firstname\": \"Marjan\",\n",
    "        \"lastname\": \"Samadi\",\n",
    "        \"role\": \"user\",\n",
    "        \"title\": \"Graphic Designer\"\n",
    "    }\n",
    "]"
   ]
  },
  {
   "cell_type": "markdown",
   "metadata": {},
   "source": [
    "This will sort by how many keys are present, not really what we're looking for…"
   ]
  },
  {
   "cell_type": "code",
   "execution_count": 6,
   "metadata": {},
   "outputs": [
    {
     "data": {
      "text/plain": [
       "[{'firstname': 'Cindy', 'lastname': 'Xiong', 'title': 'Graphic Designer'},\n",
       " {'firstname': 'Rob',\n",
       "  'lastname': 'Kistner',\n",
       "  'role': 'admin',\n",
       "  'title': 'Art Director'},\n",
       " {'firstname': 'Marjan',\n",
       "  'lastname': 'Samadi',\n",
       "  'role': 'user',\n",
       "  'title': 'Graphic Designer'},\n",
       " {'firstname': 'Jeff',\n",
       "  'lastname': 'Hastings',\n",
       "  'role': 'admin',\n",
       "  'title': 'Creative Director',\n",
       "  'color': 'orange'}]"
      ]
     },
     "execution_count": 6,
     "metadata": {},
     "output_type": "execute_result"
    }
   ],
   "source": [
    "sorted(associates, key=len)"
   ]
  },
  {
   "cell_type": "markdown",
   "metadata": {},
   "source": [
    "This will sort by the user's last name…"
   ]
  },
  {
   "cell_type": "code",
   "execution_count": 7,
   "metadata": {},
   "outputs": [
    {
     "data": {
      "text/plain": [
       "[{'firstname': 'Jeff',\n",
       "  'lastname': 'Hastings',\n",
       "  'role': 'admin',\n",
       "  'title': 'Creative Director',\n",
       "  'color': 'orange'},\n",
       " {'firstname': 'Rob',\n",
       "  'lastname': 'Kistner',\n",
       "  'role': 'admin',\n",
       "  'title': 'Art Director'},\n",
       " {'firstname': 'Marjan',\n",
       "  'lastname': 'Samadi',\n",
       "  'role': 'user',\n",
       "  'title': 'Graphic Designer'},\n",
       " {'firstname': 'Cindy', 'lastname': 'Xiong', 'title': 'Graphic Designer'}]"
      ]
     },
     "execution_count": 7,
     "metadata": {},
     "output_type": "execute_result"
    }
   ],
   "source": [
    "sorted(\n",
    "    associates, \n",
    "    key=lambda user: user['lastname']\n",
    ")"
   ]
  }
 ],
 "metadata": {
  "kernelspec": {
   "display_name": "Python 3",
   "language": "python",
   "name": "python3"
  },
  "language_info": {
   "codemirror_mode": {
    "name": "ipython",
    "version": 3
   },
   "file_extension": ".py",
   "mimetype": "text/x-python",
   "name": "python",
   "nbconvert_exporter": "python",
   "pygments_lexer": "ipython3",
   "version": "3.8.5"
  }
 },
 "nbformat": 4,
 "nbformat_minor": 2
}