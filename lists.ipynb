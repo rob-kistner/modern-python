{
 "metadata": {
  "language_info": {
   "codemirror_mode": {
    "name": "ipython",
    "version": 3
   },
   "file_extension": ".py",
   "mimetype": "text/x-python",
   "name": "python",
   "nbconvert_exporter": "python",
   "pygments_lexer": "ipython3",
   "version": 3
  },
  "orig_nbformat": 2,
  "kernelspec": {
   "name": "python_defaultSpec_1596350822516",
   "display_name": "Python 3.8.5 64-bit"
  }
 },
 "nbformat": 4,
 "nbformat_minor": 2,
 "cells": [
  {
   "cell_type": "markdown",
   "metadata": {},
   "source": [
    "# Lists"
   ]
  },
  {
   "cell_type": "markdown",
   "metadata": {},
   "source": [
    "\n",
    "## Qualities of a list in Python:\n",
    "\n",
    "* Every item has an index\n",
    "* List starts at 0\n",
    "* There's an order to the items"
   ]
  },
  {
   "cell_type": "markdown",
   "metadata": {},
   "source": [
    "## Creating Lists"
   ]
  },
  {
   "cell_type": "code",
   "execution_count": 16,
   "metadata": {
    "tags": []
   },
   "outputs": [],
   "source": [
    "tasks = ['a', 1, 45, True, 6.778]"
   ]
  },
  {
   "cell_type": "markdown",
   "metadata": {
    "tags": []
   },
   "source": [
    "Getting list length with `len()`"
   ]
  },
  {
   "cell_type": "code",
   "execution_count": 17,
   "metadata": {
    "tags": []
   },
   "outputs": [
    {
     "output_type": "execute_result",
     "data": {
      "text/plain": "5"
     },
     "metadata": {},
     "execution_count": 17
    }
   ],
   "source": [
    "len(tasks)"
   ]
  },
  {
   "cell_type": "markdown",
   "metadata": {
    "tags": []
   },
   "source": [
    "Turning a range into a list"
   ]
  },
  {
   "cell_type": "code",
   "execution_count": 14,
   "metadata": {
    "tags": []
   },
   "outputs": [
    {
     "output_type": "execute_result",
     "data": {
      "text/plain": "[1, 2, 3, 4, 5, 6, 7, 8, 9]"
     },
     "metadata": {},
     "execution_count": 14
    }
   ],
   "source": [
    "list(range(1, 10))"
   ]
  },
  {
   "cell_type": "code",
   "execution_count": 7,
   "metadata": {},
   "outputs": [],
   "source": [
    "friends = ['Ashley', 'Matt', 'Michael']\n",
    "colors = ['purple', 'teal', 'orange']"
   ]
  },
  {
   "cell_type": "markdown",
   "metadata": {},
   "source": [
    "Getting a single list value"
   ]
  },
  {
   "cell_type": "code",
   "execution_count": 9,
   "metadata": {},
   "outputs": [
    {
     "output_type": "execute_result",
     "data": {
      "text/plain": "'Ashley'"
     },
     "metadata": {},
     "execution_count": 9
    }
   ],
   "source": [
    "friends[0]"
   ]
  },
  {
   "cell_type": "code",
   "execution_count": 10,
   "metadata": {},
   "outputs": [
    {
     "output_type": "error",
     "ename": "IndexError",
     "evalue": "list index out of range",
     "traceback": [
      "\u001b[0;31m---------------------------------------------------------------------------\u001b[0m",
      "\u001b[0;31mIndexError\u001b[0m                                Traceback (most recent call last)",
      "\u001b[0;32m<ipython-input-10-96e9738e6192>\u001b[0m in \u001b[0;36m<module>\u001b[0;34m\u001b[0m\n\u001b[1;32m      1\u001b[0m \u001b[0;31m# Error: list index out of range\u001b[0m\u001b[0;34m\u001b[0m\u001b[0;34m\u001b[0m\u001b[0;34m\u001b[0m\u001b[0m\n\u001b[0;32m----> 2\u001b[0;31m \u001b[0mfriends\u001b[0m\u001b[0;34m[\u001b[0m\u001b[0;36m3\u001b[0m\u001b[0;34m]\u001b[0m\u001b[0;34m\u001b[0m\u001b[0;34m\u001b[0m\u001b[0m\n\u001b[0m",
      "\u001b[0;31mIndexError\u001b[0m: list index out of range"
     ]
    }
   ],
   "source": [
    "# Error: list index out of range\n",
    "friends[3]"
   ]
  },
  {
   "cell_type": "markdown",
   "metadata": {},
   "source": [
    "Getting a single list value with negative index"
   ]
  },
  {
   "cell_type": "code",
   "execution_count": 11,
   "metadata": {},
   "outputs": [
    {
     "output_type": "execute_result",
     "data": {
      "text/plain": "'Michael'"
     },
     "metadata": {},
     "execution_count": 11
    }
   ],
   "source": [
    "friends[-1]"
   ]
  },
  {
   "cell_type": "code",
   "execution_count": 12,
   "metadata": {},
   "outputs": [
    {
     "output_type": "execute_result",
     "data": {
      "text/plain": "'Ashley'"
     },
     "metadata": {},
     "execution_count": 12
    }
   ],
   "source": [
    "friends[-3]"
   ]
  },
  {
   "cell_type": "markdown",
   "metadata": {},
   "source": [
    "Check if value in a list"
   ]
  },
  {
   "cell_type": "code",
   "execution_count": 18,
   "metadata": {},
   "outputs": [
    {
     "output_type": "execute_result",
     "data": {
      "text/plain": "True"
     },
     "metadata": {},
     "execution_count": 18
    }
   ],
   "source": [
    "\"Ashley\" in friends\n"
   ]
  },
  {
   "cell_type": "markdown",
   "metadata": {
    "tags": []
   },
   "source": [
    "## Slices\n",
    "\n",
    "Specify `[<start>:<end>:<step>]` to get portions of a list back in list format."
   ]
  },
  {
   "cell_type": "markdown",
   "metadata": {},
   "source": [
    "### List for all examples below"
   ]
  },
  {
   "cell_type": "code",
   "execution_count": null,
   "metadata": {},
   "outputs": [],
   "source": [
    "numbers = [1, 2, 3, 4, 5, 6, 7, 8, 9, 10]"
   ]
  },
  {
   "cell_type": "markdown",
   "metadata": {
    "tags": []
   },
   "source": [
    "### START param"
   ]
  },
  {
   "cell_type": "code",
   "execution_count": 104,
   "metadata": {},
   "outputs": [
    {
     "output_type": "execute_result",
     "data": {
      "text/plain": "[1, 2, 3, 4, 5, 6, 7, 8, 9, 10]"
     },
     "metadata": {},
     "execution_count": 104
    }
   ],
   "source": [
    "numbers"
   ]
  },
  {
   "cell_type": "code",
   "execution_count": 105,
   "metadata": {},
   "outputs": [
    {
     "output_type": "execute_result",
     "data": {
      "text/plain": "[4, 5, 6, 7, 8, 9, 10]"
     },
     "metadata": {},
     "execution_count": 105
    }
   ],
   "source": [
    "numbers[3:]"
   ]
  },
  {
   "cell_type": "code",
   "execution_count": 106,
   "metadata": {},
   "outputs": [
    {
     "output_type": "execute_result",
     "data": {
      "text/plain": "[10]"
     },
     "metadata": {},
     "execution_count": 106
    }
   ],
   "source": [
    "numbers[9:]"
   ]
  },
  {
   "cell_type": "markdown",
   "metadata": {},
   "source": [
    "Out of range, returns empty"
   ]
  },
  {
   "cell_type": "code",
   "execution_count": 107,
   "metadata": {},
   "outputs": [
    {
     "output_type": "execute_result",
     "data": {
      "text/plain": "[]"
     },
     "metadata": {},
     "execution_count": 107
    }
   ],
   "source": [
    "numbers[12:]"
   ]
  },
  {
   "cell_type": "markdown",
   "metadata": {},
   "source": [
    "### Returns the exact number of items from the end"
   ]
  },
  {
   "cell_type": "code",
   "execution_count": 108,
   "metadata": {},
   "outputs": [
    {
     "output_type": "execute_result",
     "data": {
      "text/plain": "[8, 9, 10]"
     },
     "metadata": {},
     "execution_count": 108
    }
   ],
   "source": [
    "numbers[-3:]"
   ]
  },
  {
   "cell_type": "markdown",
   "metadata": {},
   "source": [
    "### Returns the original list"
   ]
  },
  {
   "cell_type": "code",
   "execution_count": 109,
   "metadata": {},
   "outputs": [
    {
     "output_type": "execute_result",
     "data": {
      "text/plain": "[1, 2, 3, 4, 5, 6, 7, 8, 9, 10]"
     },
     "metadata": {},
     "execution_count": 109
    }
   ],
   "source": [
    "numbers[:]"
   ]
  },
  {
   "cell_type": "markdown",
   "metadata": {},
   "source": [
    "### Makes a copy of the list"
   ]
  },
  {
   "cell_type": "code",
   "execution_count": 110,
   "metadata": {},
   "outputs": [
    {
     "output_type": "execute_result",
     "data": {
      "text/plain": "[1, 2, 3, 4, 5, 6, 7, 8, 9, 10]"
     },
     "metadata": {},
     "execution_count": 110
    }
   ],
   "source": [
    "numbers[0:]"
   ]
  },
  {
   "cell_type": "markdown",
   "metadata": {
    "tags": []
   },
   "source": [
    "### END param"
   ]
  },
  {
   "cell_type": "code",
   "execution_count": 111,
   "metadata": {},
   "outputs": [
    {
     "output_type": "execute_result",
     "data": {
      "text/plain": "[1, 2, 3, 4, 5, 6, 7, 8, 9, 10]"
     },
     "metadata": {},
     "execution_count": 111
    }
   ],
   "source": [
    "numbers"
   ]
  },
  {
   "cell_type": "code",
   "execution_count": 112,
   "metadata": {},
   "outputs": [
    {
     "output_type": "execute_result",
     "data": {
      "text/plain": "[1, 2]"
     },
     "metadata": {},
     "execution_count": 112
    }
   ],
   "source": [
    "numbers[:2]"
   ]
  },
  {
   "cell_type": "code",
   "execution_count": 113,
   "metadata": {},
   "outputs": [
    {
     "output_type": "execute_result",
     "data": {
      "text/plain": "[1, 2, 3, 4]"
     },
     "metadata": {},
     "execution_count": 113
    }
   ],
   "source": [
    "numbers[:4]"
   ]
  },
  {
   "cell_type": "markdown",
   "metadata": {
    "tags": []
   },
   "source": [
    "### START & END params"
   ]
  },
  {
   "cell_type": "code",
   "execution_count": 114,
   "metadata": {
    "tags": []
   },
   "outputs": [
    {
     "output_type": "execute_result",
     "data": {
      "text/plain": "[1, 2, 3, 4, 5, 6, 7, 8, 9, 10]"
     },
     "metadata": {},
     "execution_count": 114
    }
   ],
   "source": [
    "numbers = list(range(1, 11))\n",
    "\n",
    "numbers"
   ]
  },
  {
   "cell_type": "code",
   "execution_count": 115,
   "metadata": {
    "tags": []
   },
   "outputs": [
    {
     "output_type": "execute_result",
     "data": {
      "text/plain": "[2, 3]"
     },
     "metadata": {},
     "execution_count": 115
    }
   ],
   "source": [
    "numbers[1:3]"
   ]
  },
  {
   "cell_type": "code",
   "execution_count": 116,
   "metadata": {},
   "outputs": [
    {
     "output_type": "execute_result",
     "data": {
      "text/plain": "[3, 4, 5, 6, 7]"
     },
     "metadata": {},
     "execution_count": 116
    }
   ],
   "source": [
    "numbers[2:-3]"
   ]
  },
  {
   "cell_type": "markdown",
   "metadata": {},
   "source": [
    "### STEP param"
   ]
  },
  {
   "cell_type": "code",
   "execution_count": 117,
   "metadata": {},
   "outputs": [
    {
     "output_type": "execute_result",
     "data": {
      "text/plain": "[1, 2, 3, 4, 5, 6, 7, 8, 9, 10]"
     },
     "metadata": {},
     "execution_count": 117
    }
   ],
   "source": [
    "numbers = list(range(1, 11))\n",
    "\n",
    "numbers"
   ]
  },
  {
   "cell_type": "markdown",
   "metadata": {},
   "source": [
    "### Index 1 to the end, every other item (step 2)"
   ]
  },
  {
   "cell_type": "code",
   "execution_count": 118,
   "metadata": {},
   "outputs": [
    {
     "output_type": "execute_result",
     "data": {
      "text/plain": "[2, 4, 6, 8, 10]"
     },
     "metadata": {},
     "execution_count": 118
    }
   ],
   "source": [
    "numbers[1::2]"
   ]
  },
  {
   "cell_type": "markdown",
   "metadata": {},
   "source": [
    "### From start to end, step 3"
   ]
  },
  {
   "cell_type": "code",
   "execution_count": 119,
   "metadata": {},
   "outputs": [
    {
     "output_type": "execute_result",
     "data": {
      "text/plain": "[1, 4, 7, 10]"
     },
     "metadata": {},
     "execution_count": 119
    }
   ],
   "source": [
    "numbers[::3]"
   ]
  },
  {
   "cell_type": "markdown",
   "metadata": {},
   "source": [
    "### Negative steps reverse the order\n",
    "\n",
    "Start at index 4, count back 1 at a time"
   ]
  },
  {
   "cell_type": "code",
   "execution_count": 120,
   "metadata": {},
   "outputs": [
    {
     "output_type": "execute_result",
     "data": {
      "text/plain": "[4, 3, 2, 1]"
     },
     "metadata": {},
     "execution_count": 120
    }
   ],
   "source": [
    "numbers[3::-1]"
   ]
  },
  {
   "cell_type": "markdown",
   "metadata": {},
   "source": [
    "* Start at end (first empty :)\n",
    "* Go before index 4 (:3)\n",
    "* Backward by 1 (-1)"
   ]
  },
  {
   "cell_type": "code",
   "execution_count": 121,
   "metadata": {},
   "outputs": [
    {
     "output_type": "execute_result",
     "data": {
      "text/plain": "[10, 9, 8, 7, 6, 5]"
     },
     "metadata": {},
     "execution_count": 121
    }
   ],
   "source": [
    "numbers[:3:-1]"
   ]
  },
  {
   "cell_type": "markdown",
   "metadata": {},
   "source": [
    "* Start at index 3 (2:)\n",
    "* No end (::)\n",
    "* Backward (-1)"
   ]
  },
  {
   "cell_type": "code",
   "execution_count": 122,
   "metadata": {},
   "outputs": [
    {
     "output_type": "execute_result",
     "data": {
      "text/plain": "[3, 2, 1]"
     },
     "metadata": {},
     "execution_count": 122
    }
   ],
   "source": [
    "numbers[2::-1]"
   ]
  },
  {
   "cell_type": "markdown",
   "metadata": {},
   "source": [
    "## Tricks with slices"
   ]
  },
  {
   "cell_type": "code",
   "execution_count": 123,
   "metadata": {},
   "outputs": [
    {
     "output_type": "execute_result",
     "data": {
      "text/plain": "[1, 2, 3, 4, 5, 6, 7, 8, 9, 10]"
     },
     "metadata": {},
     "execution_count": 123
    }
   ],
   "source": [
    "numbers = list(range(1, 11))\n",
    "\n",
    "numbers"
   ]
  },
  {
   "cell_type": "markdown",
   "metadata": {},
   "source": [
    "### Reverse the list"
   ]
  },
  {
   "cell_type": "code",
   "execution_count": 124,
   "metadata": {
    "tags": []
   },
   "outputs": [
    {
     "output_type": "execute_result",
     "data": {
      "text/plain": "[10, 9, 8, 7, 6, 5, 4, 3, 2, 1]"
     },
     "metadata": {},
     "execution_count": 124
    }
   ],
   "source": [
    "\n",
    "numbers[::-1]"
   ]
  },
  {
   "cell_type": "code",
   "execution_count": 125,
   "metadata": {},
   "outputs": [
    {
     "output_type": "execute_result",
     "data": {
      "text/plain": "[1, 'a', 'b', 'c', 4, 5, 6, 7, 8, 9, 10]"
     },
     "metadata": {},
     "execution_count": 125
    }
   ],
   "source": [
    "numbers[1:3] = ['a', 'b', 'c']\n",
    "\n",
    "numbers"
   ]
  },
  {
   "cell_type": "markdown",
   "metadata": {},
   "source": [
    "## Lists: Swapping\n",
    "\n",
    "Swapping items in a list, similar to javascript destructuring."
   ]
  },
  {
   "cell_type": "code",
   "execution_count": 129,
   "metadata": {
    "tags": []
   },
   "outputs": [],
   "source": [
    "names = ['James', 'Michelle']"
   ]
  },
  {
   "cell_type": "code",
   "execution_count": 128,
   "metadata": {},
   "outputs": [
    {
     "output_type": "execute_result",
     "data": {
      "text/plain": "['Michelle', 'James']"
     },
     "metadata": {},
     "execution_count": 128
    }
   ],
   "source": [
    "names[0], names[1] = names[1], names[0]\n",
    "\n",
    "names"
   ]
  },
  {
   "cell_type": "markdown",
   "metadata": {},
   "source": [
    "## Lists: Nested"
   ]
  },
  {
   "cell_type": "markdown",
   "metadata": {},
   "source": [
    "### When would you use nested Lists?\n",
    "\n",
    "* Any time you have a matrix of some type storing data\n",
    "* Games, Mazes\n",
    "* Rows & columns for visualizations, tabulation, grouping data\n",
    "\n",
    "**NOTE on nested list comprehension:** this can get pretty darned difficult, so try working from outside in and it could help you visualize the result in a better way.\n"
   ]
  },
  {
   "cell_type": "code",
   "execution_count": 1,
   "metadata": {},
   "outputs": [],
   "source": [
    "nested_list = [ [1,2,3], [4,5,6], [7,8,9] ]\n",
    "coords = [ [10.423, 9.123], [37.212, -14.092], [37.212, -14.092], [21.367, 32.572] ]"
   ]
  },
  {
   "cell_type": "code",
   "execution_count": 2,
   "metadata": {},
   "outputs": [
    {
     "output_type": "execute_result",
     "data": {
      "text/plain": "2"
     },
     "metadata": {},
     "execution_count": 2
    }
   ],
   "source": [
    "nested_list[0][1]"
   ]
  },
  {
   "cell_type": "code",
   "execution_count": 3,
   "metadata": {},
   "outputs": [
    {
     "output_type": "execute_result",
     "data": {
      "text/plain": "8"
     },
     "metadata": {},
     "execution_count": 3
    }
   ],
   "source": [
    "nested_list[2][1]"
   ]
  },
  {
   "cell_type": "code",
   "execution_count": 4,
   "metadata": {},
   "outputs": [
    {
     "output_type": "execute_result",
     "data": {
      "text/plain": "9"
     },
     "metadata": {},
     "execution_count": 4
    }
   ],
   "source": [
    "nested_list[-1][2]"
   ]
  },
  {
   "cell_type": "markdown",
   "metadata": {},
   "source": [
    "### Printing values requires 2 loops…"
   ]
  },
  {
   "cell_type": "code",
   "execution_count": 6,
   "metadata": {},
   "outputs": [],
   "source": [
    "# TODO: This one doesn't work !\n",
    "# expected(\n",
    "#     \"\"\"Nested list comprehension:\n",
    "#     [[print(val) for val in l] for l in nested_list]\n",
    "#     \"\"\",\n",
    "#     [[print(val) for val in l] for l in nested_list]\n",
    "# )"
   ]
  },
  {
   "cell_type": "code",
   "execution_count": 7,
   "metadata": {
    "tags": []
   },
   "outputs": [
    {
     "output_type": "stream",
     "name": "stdout",
     "text": "1\n2\n3\n4\n5\n6\n7\n8\n9\n"
    },
    {
     "output_type": "error",
     "ename": "NameError",
     "evalue": "name 'banner' is not defined",
     "traceback": [
      "\u001b[0;31m---------------------------------------------------------------------------\u001b[0m",
      "\u001b[0;31mNameError\u001b[0m                                 Traceback (most recent call last)",
      "\u001b[0;32m<ipython-input-7-1e07332ffe9a>\u001b[0m in \u001b[0;36m<module>\u001b[0;34m\u001b[0m\n\u001b[1;32m      4\u001b[0m \u001b[0;34m\u001b[0m\u001b[0m\n\u001b[1;32m      5\u001b[0m \u001b[0;34m\u001b[0m\u001b[0m\n\u001b[0;32m----> 6\u001b[0;31m \u001b[0mbanner\u001b[0m\u001b[0;34m(\u001b[0m\u001b[0;34m\"Creating a nested list via comprehension\"\u001b[0m\u001b[0;34m)\u001b[0m\u001b[0;34m\u001b[0m\u001b[0;34m\u001b[0m\u001b[0m\n\u001b[0m\u001b[1;32m      7\u001b[0m \u001b[0;31m# ----------------------------------------\u001b[0m\u001b[0;34m\u001b[0m\u001b[0;34m\u001b[0m\u001b[0;34m\u001b[0m\u001b[0m\n\u001b[1;32m      8\u001b[0m \u001b[0mboard\u001b[0m \u001b[0;34m=\u001b[0m \u001b[0;34m[\u001b[0m\u001b[0;34m[\u001b[0m\u001b[0mnum\u001b[0m \u001b[0;32mfor\u001b[0m \u001b[0mnum\u001b[0m \u001b[0;32min\u001b[0m \u001b[0mrange\u001b[0m\u001b[0;34m(\u001b[0m\u001b[0;36m1\u001b[0m\u001b[0;34m,\u001b[0m \u001b[0;36m4\u001b[0m\u001b[0;34m)\u001b[0m\u001b[0;34m]\u001b[0m \u001b[0;32mfor\u001b[0m \u001b[0mval\u001b[0m \u001b[0;32min\u001b[0m \u001b[0mrange\u001b[0m\u001b[0;34m(\u001b[0m\u001b[0;36m1\u001b[0m\u001b[0;34m,\u001b[0m \u001b[0;36m4\u001b[0m\u001b[0;34m)\u001b[0m\u001b[0;34m]\u001b[0m\u001b[0;34m\u001b[0m\u001b[0;34m\u001b[0m\u001b[0m\n",
      "\u001b[0;31mNameError\u001b[0m: name 'banner' is not defined"
     ]
    }
   ],
   "source": [
    "for l in nested_list:\n",
    "    for val in l:\n",
    "        print(val)\n",
    "\n",
    "\n",
    "banner(\"Creating a nested list via comprehension\")\n",
    "# ----------------------------------------\n",
    "board = [[num for num in range(1, 4)] for val in range(1, 4)]\n",
    "print(board)\n",
    "\n",
    "banner(\"Creating a tic-tac-toe board via comprehension\")\n",
    "# ----------------------------------------\n",
    "tictactoe = [[\"X\" if num%2 != 0 else \"O\" for num in range(1, 4)] for val in range(1,4)]\n",
    "print(tictactoe)\n",
    "\n",
    "banner(\"Exercise 24: List Exercise 5: Nested with Comprehension\")\n",
    "# ----------------------------------------\n",
    "answer = [ [num for num in range(0, 3)] for nums in range(0, 3) ]\n",
    "print(answer)"
   ]
  },
  {
   "cell_type": "markdown",
   "metadata": {},
   "source": [
    "### Exercise 25\n",
    "\n",
    "One more nested list comprehension exercise"
   ]
  },
  {
   "cell_type": "code",
   "execution_count": null,
   "metadata": {},
   "outputs": [],
   "source": [
    "[ [num for num in range(0, 10)] for nums in range(0, 10) ]\n"
   ]
  },
  {
   "cell_type": "markdown",
   "metadata": {},
   "source": [
    "## Lists: Iterating"
   ]
  },
  {
   "cell_type": "code",
   "execution_count": 131,
   "metadata": {
    "tags": []
   },
   "outputs": [
    {
     "output_type": "stream",
     "name": "stdout",
     "text": "\n\u001b[33m--------------------\u001b[0m\n\u001b[33m    The lists...\u001b[0m\n\u001b[33m--------------------\u001b[0m\n\nnumbers: [4, 6, 2, 9, 7, 10]\ncolors: ['purple', 'teal', 'magenta', 'crimson', 'emerald']\n\n\u001b[33m----------------\u001b[0m\n\u001b[33m    For list\u001b[0m\n\u001b[33m----------------\u001b[0m\n\n4\n6\n2\n9\n7\n10\n\npurple\nteal\nmagenta\ncrimson\nemerald\n\n8\n12\n4\n18\n14\n20\n\n\u001b[33m------------------\u001b[0m\n\u001b[33m    While loop\u001b[0m\n\u001b[33m------------------\u001b[0m\n\n4\n6\n2\n9\n7\n10\n\n0: purple\n1: teal\n2: magenta\n3: crimson\n4: emerald\n\n\u001b[33m-------------------\u001b[0m\n\u001b[33m    Exercise...\u001b[0m\n\u001b[33m-------------------\u001b[0m\n\nSUPERCALIFRAGILISTICEXPIALIDOCIOUS\n"
    }
   ],
   "source": [
    "from modules.printutils import *\n",
    "\n",
    "numbers = [4,6,2,9,7,10]\n",
    "colors = ['purple', 'teal', 'magenta', 'crimson', 'emerald']\n",
    "\n",
    "\n",
    "banner('The lists...')\n",
    "# ----------------------------------------\n",
    "var_dump('numbers', numbers)\n",
    "var_dump('colors', colors)\n",
    "\n",
    "\n",
    "banner('For list')\n",
    "# ----------------------------------------\n",
    "for num in numbers:\n",
    "    print(num)\n",
    "\n",
    "print()\n",
    "\n",
    "for color in colors:\n",
    "    print(color)\n",
    "\n",
    "print()\n",
    "\n",
    "for num in numbers:\n",
    "    print(num*2)\n",
    "\n",
    "\n",
    "banner('While loop')\n",
    "# ----------------------------------------\n",
    "i = 0\n",
    "while i < len(numbers):\n",
    "    print(numbers[i])\n",
    "    i += 1\n",
    "\n",
    "print()\n",
    "\n",
    "index = 0\n",
    "while index < len(colors):\n",
    "    print(f\"{index}: {colors[index]}\")\n",
    "    index += 1\n",
    "\n",
    "\n",
    "banner('Exercise...')\n",
    "# ----------------------------------------\n",
    "sounds = [\"super\", \"cali\", \"fragil\", \"istic\", \"expi\", \"ali\", \"docious\"]\n",
    "\n",
    "# Define your code below:\n",
    "result = ''\n",
    "idx = 0\n",
    "while idx < len(sounds):\n",
    "    result += sounds[idx]\n",
    "    idx +=1\n",
    "print(result.upper())"
   ]
  },
  {
   "cell_type": "markdown",
   "metadata": {},
   "source": [
    "## Lists: Methods"
   ]
  },
  {
   "cell_type": "code",
   "execution_count": 181,
   "metadata": {
    "tags": []
   },
   "outputs": [
    {
     "output_type": "stream",
     "name": "stdout",
     "text": "\n\u001b[33m-----------------\u001b[0m\n\u001b[33m    The Lists\u001b[0m\n\u001b[33m-----------------\u001b[0m\n\nnumbers: [5, 6, 7, 8, 9, 10]\nfirst_list: [1, 2, 3, 4]\nwords: ['coding', 'is', 'fun']\n\n\u001b[33m-------------------------------\u001b[0m\n\u001b[33m    append()\u001b[0m\n\u001b[33m    Add an item to the list\u001b[0m\n\u001b[33m-------------------------------\u001b[0m\n\nwords.append('isn\\'t'): ['coding', 'is', 'fun', \"isn't\", 'it']\n\n\u001b[33m----------------------------\u001b[0m\n\u001b[33m    extend()\u001b[0m\n\u001b[33m    Add a list to a list\u001b[0m\n\u001b[33m----------------------------\u001b[0m\n\nnumbers.extend([5, 8, 10, 6, 5]): None\n\n\u001b[33m---------------------------------------------------\u001b[0m\n\u001b[33m    insert(<index>, <list item>)\u001b[0m\n\u001b[33m    Add an item to a list at a certain position\u001b[0m\n\u001b[33m---------------------------------------------------\u001b[0m\n\nnumbers.insert(2, -4): [5, 6, -4, 7, 8, 9, 10, 5, 8, 10, 6, 5, 5, 8, 10, 6, 5]\n\n\u001b[33m-----------------------------------------------\u001b[0m\n\u001b[33m    index()\u001b[0m\n\u001b[33m    Shows index location of passed argument\u001b[0m\n\u001b[33m-----------------------------------------------\u001b[0m\n\nnumbers.index(6): 1\nnumbers.index(10): 6\n\n\u001b[33m------------------------------------\u001b[0m\n\u001b[33m    index: with start and end...\u001b[0m\n\u001b[33m------------------------------------\u001b[0m\n\nnumbers.index(5): 0\nnumbers.index(7, 1): 3\nnumbers.index(8, 2, 5): 4\n\n\u001b[33m-----------------------------------------------\u001b[0m\n\u001b[33m    count()\u001b[0m\n\u001b[33m    Shows number of times result is in list\u001b[0m\n\u001b[33m-----------------------------------------------\u001b[0m\n\nnumbers.count(10): 3\n\n\u001b[33m-------------------------------------------------\u001b[0m\n\u001b[33m    reverse()\u001b[0m\n\u001b[33m    Shows list in reverse. This is a function\u001b[0m\n\u001b[33m    that mutates the original list.\u001b[0m\n\u001b[33m-------------------------------------------------\u001b[0m\n\nfirst_list.reverse(): [4, 3, 2, 1]\n\n\u001b[33m----------------------------------------------\u001b[0m\n\u001b[33m    sort()\u001b[0m\n\u001b[33m    Sorts list, mutates the original list.\u001b[0m\n\u001b[33m----------------------------------------------\u001b[0m\n\nfirst_list.sort(): [1, 2, 3, 4]\nfirst_list.append(-2) then sort(): [-2, 1, 2, 3, 4]\n\n\u001b[33m--------------------------------------------------------------\u001b[0m\n\u001b[33m    join()\u001b[0m\n\u001b[33m    String method, joins list members together as a string\u001b[0m\n\u001b[33m--------------------------------------------------------------\u001b[0m\n\n' '.join(words): coding is fun isn't it\n''.join(words): codingisfunisn'tit\n'-'.join(words): coding-is-fun-isn't-it\n', '.join(words): coding, is, fun, isn't, it\n\n\u001b[33m-----------------------------------------------------------\u001b[0m\n\u001b[33m    clear()\u001b[0m\n\u001b[33m    Remove all items from a list. Mutates the original.\u001b[0m\n\u001b[33m-----------------------------------------------------------\u001b[0m\n\nfirst_list: []\n\n\u001b[33m--------------------------------------------------------\u001b[0m\n\u001b[33m    pop()\u001b[0m\n\u001b[33m    Remove an item at specified index and return it.\u001b[0m\n\u001b[33m    Mutates the original.\u001b[0m\n\u001b[33m--------------------------------------------------------\u001b[0m\n\nif there's no index specified, it'll just remove the last item\nfirst_list.pop(): 4\nfirst_list: [1, 2, 3]\nfirst_list.pop(1): 2\nfirst_list: [1, 3]\n\n\u001b[33m--------------------------------------------------------\u001b[0m\n\u001b[33m    remove()\u001b[0m\n\u001b[33m    Provide a value to the remove method to have it\u001b[0m\n\u001b[33m    remove the first instance of the value in a list\u001b[0m\n\u001b[33m--------------------------------------------------------\u001b[0m\n\nfirst_list: [1, 2, 3, 4, 4, 4]\nfirst_list.remove(2): [1, 3, 4, 4, 4]\nfirst_list.remove(4): [1, 3, 4, 4]\n\n\u001b[33m-------------------\u001b[0m\n\u001b[33m    Exercise...\u001b[0m\n\u001b[33m-------------------\u001b[0m\n\nAdded using append()\n['Colt', 'Blue', 'Lisa']\n"
    }
   ],
   "source": [
    "\n",
    "from modules.printutils import *\n",
    "\n",
    "numbers = [5, 6, 7, 8, 9, 10]\n",
    "first_list = [1, 2, 3, 4]\n",
    "words = ['coding', 'is', 'fun']\n",
    "\n",
    "\n",
    "banner('The Lists')\n",
    "# ----------------------------------------\n",
    "print(f'numbers: {numbers}')\n",
    "print(f'first_list: {first_list}')\n",
    "print(f'words: {words}')\n",
    "\n",
    "\n",
    "banner('''append()\n",
    "Add an item to the list''')\n",
    "# ----------------------------------------\n",
    "words.append('isn\\'t')\n",
    "words.append('it')\n",
    "print(f\"words.append('isn\\\\\\'t'): {words}\")\n",
    "\n",
    "\n",
    "banner('''extend()\n",
    "Add a list to a list''')\n",
    "# ----------------------------------------\n",
    "numbers.extend([5, 8, 10, 6, 5])\n",
    "print(f\"numbers.extend([5, 8, 10, 6, 5]): {numbers.extend([5, 8, 10, 6, 5])}\")\n",
    "\n",
    "\n",
    "banner('''insert(<index>, <list item>)\n",
    "Add an item to a list at a certain position''')\n",
    "# ----------------------------------------\n",
    "numbers.insert(2, -4)\n",
    "print(f\"numbers.insert(2, -4): {numbers}\")\n",
    "\n",
    "\n",
    "banner('''index()\n",
    "Shows index location of passed argument\n",
    "''')\n",
    "# ----------------------------------------\n",
    "print(f'numbers.index(6): {numbers.index(6)}')\n",
    "print(f'numbers.index(10): {numbers.index(10)}')\n",
    "\n",
    "\n",
    "banner('index: with start and end...')\n",
    "# ----------------------------------------\n",
    "print(f'numbers.index(5): {numbers.index(5)}')\n",
    "print(f'numbers.index(7, 1): {numbers.index(7, 1)}')\n",
    "print(f'numbers.index(8, 2, 5): {numbers.index(8, 2, 5)}')\n",
    "\n",
    "\n",
    "banner('''count()\n",
    "Shows number of times result is in list''')\n",
    "# ----------------------------------------\n",
    "print(f'numbers.count(10): {numbers.count(10)}')\n",
    "\n",
    "\n",
    "banner('''reverse()\n",
    "Shows list in reverse. This is a function \n",
    "that mutates the original list.''')\n",
    "# ----------------------------------------\n",
    "first_list.reverse()\n",
    "print(f'first_list.reverse(): {first_list}')\n",
    "\n",
    "\n",
    "banner('''sort()\n",
    "Sorts list, mutates the original list.''')\n",
    "# ----------------------------------------\n",
    "first_list.sort()\n",
    "print(f'first_list.sort(): {first_list}')\n",
    "first_list.append(-2)\n",
    "first_list.sort()\n",
    "print(f'first_list.append(-2) then sort(): {first_list}')\n",
    "\n",
    "\n",
    "banner('''join()\n",
    "String method, joins list members together as a string''')\n",
    "# ----------------------------------------\n",
    "print(f\"' '.join(words): {' '.join(words)}\")\n",
    "print(f\"''.join(words): {''.join(words)}\")\n",
    "print(f\"'-'.join(words): {'-'.join(words)}\")\n",
    "print(f\"', '.join(words): {', '.join(words)}\")\n",
    "\n",
    "\n",
    "banner('''clear()\n",
    "Remove all items from a list. Mutates the original.''')\n",
    "# ----------------------------------------\n",
    "first_list.clear()\n",
    "print(f'first_list: {first_list}')\n",
    "\n",
    "\n",
    "banner('''pop()\n",
    "Remove an item at specified index and return it.\n",
    "Mutates the original.''')\n",
    "# ----------------------------------------\n",
    "first_list = [1, 2, 3, 4]\n",
    "print(\"if there's no index specified, it'll just remove the last item\")\n",
    "print(f'first_list.pop(): {first_list.pop()}')\n",
    "print(f'first_list: {first_list}')\n",
    "print(f'first_list.pop(1): {first_list.pop(1)}')\n",
    "print(f'first_list: {first_list}')\n",
    "\n",
    "\n",
    "banner('''remove()\n",
    "Provide a value to the remove method to have it\n",
    "remove the first instance of the value in a list''')\n",
    "# ----------------------------------------\n",
    "first_list = [1, 2, 3, 4, 4, 4]\n",
    "print(f'first_list: {first_list}')\n",
    "first_list.remove(2)\n",
    "print(f'first_list.remove(2): {first_list}')\n",
    "first_list.remove(4)\n",
    "print(f'first_list.remove(4): {first_list}')\n",
    "\n",
    "\n",
    "banner('Exercise...')\n",
    "# -----------------------------------------\n",
    "# Create a list called instructors\n",
    "# Add the following strings to the instructors list \n",
    "    # \"Colt\"\n",
    "    # \"Blue\"\n",
    "    # \"Lisa\"\n",
    "\n",
    "instructors = []\n",
    "instructors.append('Colt')\n",
    "instructors.append('Blue')\n",
    "instructors.append('Lisa')\n",
    "print('Added using append()')\n",
    "print(instructors)"
   ]
  },
  {
   "cell_type": "markdown",
   "metadata": {},
   "source": [
    "### Added using extend()"
   ]
  },
  {
   "cell_type": "code",
   "execution_count": 186,
   "metadata": {},
   "outputs": [
    {
     "output_type": "execute_result",
     "data": {
      "text/plain": "['Colt', 'Blue', 'Lisa']"
     },
     "metadata": {},
     "execution_count": 186
    }
   ],
   "source": [
    "instructors = []\n",
    "\n",
    "instructors.extend(['Colt', 'Blue', 'Lisa'])\n",
    "\n",
    "instructors"
   ]
  },
  {
   "cell_type": "markdown",
   "metadata": {
    "tags": []
   },
   "source": [
    "## List Comprehension\n"
   ]
  },
  {
   "cell_type": "markdown",
   "metadata": {},
   "source": [
    "### Things to remember in list comprehension\n",
    "\n",
    "* Basic pattern…\n",
    "\n",
    "`[<expression> for <iter variable> in <list>]`\n",
    "  \n",
    "* When using an if statement, the if needs to go at the end, example…\n",
    "\n",
    "`[num for num in numlist if num%2 == 0]`"
   ]
  },
  {
   "cell_type": "markdown",
   "metadata": {},
   "source": [
    "The lists:"
   ]
  },
  {
   "cell_type": "code",
   "execution_count": 180,
   "metadata": {},
   "outputs": [],
   "source": [
    "name = \"colt\"\n",
    "\n",
    "nums = [1, 2, 3, 4, 5, 6]\n",
    "\n",
    "friends = [\"ashley\", \"matt\", \"michael\"]"
   ]
  },
  {
   "cell_type": "code",
   "execution_count": 177,
   "metadata": {},
   "outputs": [
    {
     "output_type": "execute_result",
     "data": {
      "text/plain": "['C', 'O', 'L', 'T']"
     },
     "metadata": {},
     "execution_count": 177
    }
   ],
   "source": [
    "[char.upper() for char in name] "
   ]
  },
  {
   "cell_type": "code",
   "execution_count": 173,
   "metadata": {},
   "outputs": [
    {
     "output_type": "execute_result",
     "data": {
      "text/plain": "['Ashley', 'Matt', 'Michael']"
     },
     "metadata": {},
     "execution_count": 173
    }
   ],
   "source": [
    "[(friend[0].upper() + friend[1:]) for friend in friends]"
   ]
  },
  {
   "cell_type": "code",
   "execution_count": 171,
   "metadata": {},
   "outputs": [
    {
     "output_type": "execute_result",
     "data": {
      "text/plain": "[10, 20, 30, 40, 50]"
     },
     "metadata": {},
     "execution_count": 171
    }
   ],
   "source": [
    "[num*10 for num in range(1,6)] "
   ]
  },
  {
   "cell_type": "code",
   "execution_count": 169,
   "metadata": {},
   "outputs": [
    {
     "output_type": "execute_result",
     "data": {
      "text/plain": "[True, False, False]"
     },
     "metadata": {},
     "execution_count": 169
    }
   ],
   "source": [
    "[bool(val) for val in [1, [], '']]"
   ]
  },
  {
   "cell_type": "markdown",
   "metadata": {},
   "source": [
    "### Convert integer list to string list"
   ]
  },
  {
   "cell_type": "code",
   "execution_count": 166,
   "metadata": {},
   "outputs": [
    {
     "output_type": "execute_result",
     "data": {
      "text/plain": "['1', '2', '3', '4', '5']"
     },
     "metadata": {},
     "execution_count": 166
    }
   ],
   "source": [
    "[str(num) for num in [1,2,3,4,5]]"
   ]
  },
  {
   "cell_type": "markdown",
   "metadata": {},
   "source": [
    "Evens"
   ]
  },
  {
   "cell_type": "code",
   "execution_count": 162,
   "metadata": {},
   "outputs": [
    {
     "output_type": "execute_result",
     "data": {
      "text/plain": "[2, 4, 6]"
     },
     "metadata": {},
     "execution_count": 162
    }
   ],
   "source": [
    "[num for num in nums if num % 2 == 0]"
   ]
  },
  {
   "cell_type": "markdown",
   "metadata": {},
   "source": [
    "Odds"
   ]
  },
  {
   "cell_type": "code",
   "execution_count": 163,
   "metadata": {},
   "outputs": [
    {
     "output_type": "execute_result",
     "data": {
      "text/plain": "[1, 3, 5]"
     },
     "metadata": {},
     "execution_count": 163
    }
   ],
   "source": [
    "[num for num in nums if num % 2 != 0]"
   ]
  },
  {
   "cell_type": "markdown",
   "metadata": {},
   "source": [
    "### A complex if/else\n",
    "\n",
    "Double number if even, or half if it's odd…"
   ]
  },
  {
   "cell_type": "code",
   "execution_count": 159,
   "metadata": {},
   "outputs": [
    {
     "output_type": "execute_result",
     "data": {
      "text/plain": "[0.5, 4, 1.5, 8, 2.5, 12]"
     },
     "metadata": {},
     "execution_count": 159
    }
   ],
   "source": [
    "[num*2 if num%2 == 0 else num/2 for num in nums]"
   ]
  },
  {
   "cell_type": "markdown",
   "metadata": {},
   "source": [
    "### Strip out vowels from a string…"
   ]
  },
  {
   "cell_type": "code",
   "execution_count": 156,
   "metadata": {},
   "outputs": [
    {
     "output_type": "execute_result",
     "data": {
      "text/plain": "'Ths s s mch fn'"
     },
     "metadata": {},
     "execution_count": 156
    }
   ],
   "source": [
    "with_vowels = \"This is so much fun\"\n",
    "\n",
    "''.join(char for char in with_vowels if char not in \"aeiou\")"
   ]
  },
  {
   "cell_type": "markdown",
   "metadata": {},
   "source": [
    "### Exercise 20: List Comprehension"
   ]
  },
  {
   "cell_type": "code",
   "execution_count": 150,
   "metadata": {},
   "outputs": [
    {
     "output_type": "execute_result",
     "data": {
      "text/plain": "['E', 'T', 'M']"
     },
     "metadata": {},
     "execution_count": 150
    }
   ],
   "source": [
    "[char[0] for char in [\"Elie\", \"Tim\", \"Matt\"]]"
   ]
  },
  {
   "cell_type": "code",
   "execution_count": 149,
   "metadata": {},
   "outputs": [
    {
     "output_type": "execute_result",
     "data": {
      "text/plain": "[2, 4, 6]"
     },
     "metadata": {},
     "execution_count": 149
    }
   ],
   "source": [
    "[num for num in [1,2,3,4,5,6] if num%2 == 0]"
   ]
  },
  {
   "cell_type": "markdown",
   "metadata": {},
   "source": [
    "### Exercise 21: More List Comprehension"
   ]
  },
  {
   "cell_type": "code",
   "execution_count": 151,
   "metadata": {
    "tags": []
   },
   "outputs": [
    {
     "output_type": "execute_result",
     "data": {
      "text/plain": "[3, 4]"
     },
     "metadata": {},
     "execution_count": 151
    }
   ],
   "source": [
    "[num for num in [3,4,5,6] if num in [1,2,3,4]]"
   ]
  },
  {
   "cell_type": "code",
   "execution_count": 152,
   "metadata": {
    "tags": []
   },
   "outputs": [
    {
     "output_type": "execute_result",
     "data": {
      "text/plain": "['eile', 'mit', 'ttam']"
     },
     "metadata": {},
     "execution_count": 152
    }
   ],
   "source": [
    "[name[::-1].lower() for name in [\"Elie\", \"Tim\", \"Matt\"]]"
   ]
  },
  {
   "cell_type": "markdown",
   "metadata": {},
   "source": [
    "### Exercise 22: Another List Comprehension Exercise"
   ]
  },
  {
   "cell_type": "code",
   "execution_count": 153,
   "metadata": {},
   "outputs": [
    {
     "output_type": "execute_result",
     "data": {
      "text/plain": "[12, 24, 36, 48, 60, 72, 84, 96]"
     },
     "metadata": {},
     "execution_count": 153
    }
   ],
   "source": [
    "[num for num in range(1, 101) if num%12 == 0]"
   ]
  },
  {
   "cell_type": "markdown",
   "metadata": {},
   "source": [
    "### Exercise 23: List Exercises 4"
   ]
  },
  {
   "cell_type": "code",
   "execution_count": 154,
   "metadata": {},
   "outputs": [
    {
     "output_type": "execute_result",
     "data": {
      "text/plain": "['m', 'z', 'n', 'g']"
     },
     "metadata": {},
     "execution_count": 154
    }
   ],
   "source": [
    "[char for char in \"amazing\" if char not in 'aeiou']"
   ]
  }
 ]
}