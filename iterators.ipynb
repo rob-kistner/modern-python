{
 "metadata": {
  "language_info": {
   "codemirror_mode": {
    "name": "ipython",
    "version": 3
   },
   "file_extension": ".py",
   "mimetype": "text/x-python",
   "name": "python",
   "nbconvert_exporter": "python",
   "pygments_lexer": "ipython3",
   "version": 3
  },
  "orig_nbformat": 2,
  "kernelspec": {
   "name": "python_defaultSpec_1596342075666",
   "display_name": "Python 3.8.5 64-bit"
  }
 },
 "nbformat": 4,
 "nbformat_minor": 2,
 "cells": [
  {
   "cell_type": "markdown",
   "metadata": {},
   "source": [
    "# Iterators\n",
    "\n",
    "An object that can be iterated on. Returns data, one element at a time when `next()` is called.\n",
    "\n",
    "### Iterable\n",
    "\n",
    "An object which returns an iterator when `iter()` is called on it.\n",
    "\n",
    "### Example\n",
    "\n",
    "  * `'HELLO'` is an iterable, but it is not an iterator\n",
    "  \n",
    "  * `iter('HELLO')` returns an iterator\n",
    "\n",
    "The iterator returns the next item. Keeps returning when `next()` is called again until it reaches the end. Then it will raise a stop-iteration error."
   ]
  },
  {
   "cell_type": "code",
   "execution_count": 1,
   "metadata": {
    "tags": []
   },
   "outputs": [
    {
     "output_type": "stream",
     "name": "stdout",
     "text": "\n\u001b[33m*************************************************************\u001b[0m\n\u001b[33m*                                                           *\u001b[0m\n\u001b[33m*    Iterator:                                              *\u001b[0m\n\u001b[33m*    ---------                                              *\u001b[0m\n\u001b[33m*    An object that can be iterated                         *\u001b[0m\n\u001b[33m*    on. Returns data, one element at a time                *\u001b[0m\n\u001b[33m*    when next() is called.                                 *\u001b[0m\n\u001b[33m*    -                                                      *\u001b[0m\n\u001b[33m*    Iterable:                                              *\u001b[0m\n\u001b[33m*    ---------                                              *\u001b[0m\n\u001b[33m*    An object which returns an iterator                    *\u001b[0m\n\u001b[33m*    when iter() is called on it.                           *\u001b[0m\n\u001b[33m*    -                                                      *\u001b[0m\n\u001b[33m*    Example:                                               *\u001b[0m\n\u001b[33m*    --------                                               *\u001b[0m\n\u001b[33m*    • 'HELLO' is an iterable, but it is not an iterator    *\u001b[0m\n\u001b[33m*    • iter('HELLO') returns an iterator                    *\u001b[0m\n\u001b[33m*                                                           *\u001b[0m\n\u001b[33m*************************************************************\u001b[0m\n\n\n\u001b[33m-----------------------------------------------------------\u001b[0m\n\u001b[33m    NEXT\u001b[0m\n\u001b[33m    Iterator returns the next item. Keeps returning\u001b[0m\n\u001b[33m    when next() is called again until it reaches\u001b[0m\n\u001b[33m    the end. Then it will raise a stop-iteration error.\u001b[0m\n\u001b[33m-----------------------------------------------------------\u001b[0m\n\n<str_iterator object at 0x1036daf40>\nO\np\nr\na\nh\n\n\u001b[33m-------------------------------\u001b[0m\n\u001b[33m    List of numbers example\u001b[0m\n\u001b[33m-------------------------------\u001b[0m\n\n<range_iterator object at 0x1036daa80>\n1\n2\n3\n4\n5\n\n\u001b[33m-----------------------------------------\u001b[0m\n\u001b[33m    An iterator for-loop:\u001b[0m\n\u001b[33m    Here, we're passing in a function\u001b[0m\n\u001b[33m    to apply to each iteration.\u001b[0m\n\u001b[33m-----------------------------------------\u001b[0m\n\nelse reached…\nH\nelse reached…\ne\nelse reached…\nl\nelse reached…\nl\nelse reached…\no\nend of iterator\n\n\u001b[33m------------------\u001b[0m\n\u001b[33m    range(1,5)\u001b[0m\n\u001b[33m------------------\u001b[0m\n\nelse reached…\n1\nelse reached…\n2\nelse reached…\n3\nelse reached…\n4\nend of iterator\n\n\u001b[33m----------------------\u001b[0m\n\u001b[33m    [5,6,7], print\u001b[0m\n\u001b[33m----------------------\u001b[0m\n\nelse reached…\n5\nelse reached…\n6\nelse reached…\n7\nend of iterator\n"
    }
   ],
   "source": [
    "name = \"Oprah\" # the iterable\n",
    "it = iter(name) # the iterator\n",
    "# looping starts here\n",
    "print(it)\n",
    "print(next(it))\n",
    "print(next(it))\n",
    "print(next(it))\n",
    "print(next(it))\n",
    "print(next(it))\n",
    "    # out of letter in \"Oprah\", raises an error here…\n",
    "    # ----------------------------------------\n",
    "# print(next(it))\n",
    "\n",
    "banner(\"\"\"List of numbers example\"\"\")\n",
    "# ------------------------------\n",
    "nums = range(1, 6)\n",
    "it = iter(nums)\n",
    "print(it)\n",
    "print(next(it))\n",
    "print(next(it))\n",
    "print(next(it))\n",
    "print(next(it))\n",
    "print(next(it))\n",
    "# StopIteration error\n",
    "# print(next(it))\n",
    "\n",
    "banner(\"\"\"An iterator for-loop:\n",
    "Here, we're passing in a function \n",
    "to apply to each iteration.\"\"\")\n",
    "# ------------------------------\n",
    "def my_for(iterable, func):\n",
    "    iterator = iter(iterable)\n",
    "    while True:\n",
    "        try:\n",
    "            item = next(iterator)\n",
    "        except StopIteration:\n",
    "            print(\"end of iterator\")\n",
    "            break\n",
    "        else:\n",
    "            # always runs this unless except\n",
    "            # is reached\n",
    "            print(\"else reached…\")\n",
    "            func(item)\n",
    "    \n",
    "my_for(\"Hello\", print)\n",
    "\n",
    "banner(\"\"\"range(1,5)\"\"\")\n",
    "# ------------------------------\n",
    "my_for(range(1,5), print)\n",
    "\n",
    "banner(\"\"\"[5,6,7], print\"\"\")\n",
    "# ------------------------------\n",
    "my_for([5, 6, 7], print)"
   ]
  },
  {
   "cell_type": "markdown",
   "metadata": {
    "tags": []
   },
   "source": [
    "## Iterators: Custom"
   ]
  },
  {
   "cell_type": "markdown",
   "metadata": {},
   "source": [
    "### Counter Class"
   ]
  },
  {
   "cell_type": "code",
   "execution_count": 20,
   "metadata": {
    "tags": []
   },
   "outputs": [],
   "source": [
    "class Counter:\n",
    "    def __init__(self, low, high):\n",
    "        self.current = low\n",
    "        self.high = high\n",
    "\n",
    "    def __iter__(self):\n",
    "        # need to return an iterator\n",
    "        # return iter(\"hello\") <-- this works\n",
    "        return self\n",
    "\n",
    "    def __next__(self):\n",
    "        if self.current < self.high + 1:\n",
    "            num = self.current\n",
    "            self.current += 1\n",
    "            return num\n",
    "        raise StopIteration"
   ]
  },
  {
   "cell_type": "code",
   "execution_count": 19,
   "metadata": {
    "tags": []
   },
   "outputs": [
    {
     "output_type": "stream",
     "name": "stdout",
     "text": "50\n51\n52\n53\n54\n55\n56\n57\n58\n59\n60\n61\n62\n63\n64\n65\n66\n67\n68\n69\n70\n"
    }
   ],
   "source": [
    "for n in Counter(50, 70):\n",
    "    print(n)"
   ]
  },
  {
   "cell_type": "markdown",
   "metadata": {
    "tags": []
   },
   "source": [
    "\n",
    "##  Iterators: Using the Deck class\n",
    "\n",
    "Using deck of cards classes project\n"
   ]
  },
  {
   "cell_type": "markdown",
   "metadata": {},
   "source": [
    "### Card Class\n",
    "\n",
    "Random functions used in Card and Deck classes"
   ]
  },
  {
   "cell_type": "code",
   "execution_count": 16,
   "metadata": {},
   "outputs": [],
   "source": [
    "from random import randint, shuffle\n",
    "\n",
    "class Card:\n",
    "\n",
    "    valid_values = (\"2\",\"3\",\"4\",\"5\",\"6\",\"7\",\"8\",\"9\",\"10\",\"J\",\"Q\",\"K\",\"A\")\n",
    "    valid_suits = (\"Hearts\", \"Diamonds\", \"Clubs\", \"Spades\")\n",
    "    suit_symbols = {\n",
    "        \"Clubs\": \"♣\", \n",
    "        \"Hearts\": \"♥\", \n",
    "        \"Spades\": \"♠\", \n",
    "        \"Diamonds\": \"♦\"\n",
    "    }\n",
    "\n",
    "    def __repr__(self):\n",
    "        return f\"{Card.suit_symbols.get(self.suit)}{self.value}\"\n",
    "\n",
    "    def __init__(self, suit, value):\n",
    "        # suit is valid ?\n",
    "        if suit not in Card.valid_suits:\n",
    "            raise ValueError(f\"\\n{suit} is not a valid suit. Choose from {', '.join(Card.valid_suits)}.\")\n",
    "        # card value is valid ?\n",
    "        if value not in Card.valid_values:\n",
    "            raise ValueError(f\"\\n{value} is not a valid card value. Choose from {', '.join(Card.valid_values)}.\")\n",
    "        self.suit = suit\n",
    "        self.value = str(value)"
   ]
  },
  {
   "cell_type": "markdown",
   "metadata": {},
   "source": [
    "### Deck Class:"
   ]
  },
  {
   "cell_type": "code",
   "execution_count": 10,
   "metadata": {},
   "outputs": [],
   "source": [
    "class Deck:\n",
    "\n",
    "    def __repr__(self):\n",
    "        return f\"Deck of {self.count()} cards.\"\n",
    "\n",
    "    def __init__(self):\n",
    "        self.cards = [\n",
    "            Card(suit, value) for suit in Card.valid_suits \n",
    "                for value in Card.valid_values\n",
    "        ]\n",
    "\n",
    "    def __iter__(self):\n",
    "        return iter(self.cards)\n",
    "\n",
    "    def count(self):\n",
    "        return len(self.cards)\n",
    "\n",
    "    def _deal(self, num_cards):\n",
    "        if self.count() == 0:\n",
    "            raise ValueError(\"All cards have been dealt.\")\n",
    "        # return [self.cards.pop(randint(0, self.count()-1)) \n",
    "        #     for card in range(0,min(self.count(), num_cards))\n",
    "        return [self.cards.pop() for card in range(0, num_cards)]\n",
    "\n",
    "    def shuffle(self):\n",
    "        if self.count() != 52:\n",
    "            raise ValueError(\"Only full decks can be shuffled.\")\n",
    "        shuffle(self.cards)\n",
    "    \n",
    "    def deal_card(self):\n",
    "        return self._deal(1)\n",
    "\n",
    "    def deal_hand(self, num_cards):\n",
    "        return self._deal(num_cards)"
   ]
  },
  {
   "cell_type": "markdown",
   "metadata": {
    "tags": []
   },
   "source": [
    "### Running iter on a new shuffled deck"
   ]
  },
  {
   "cell_type": "code",
   "execution_count": 8,
   "metadata": {},
   "outputs": [],
   "source": [
    "deck = Deck()\n",
    "deck.shuffle()"
   ]
  },
  {
   "cell_type": "markdown",
   "metadata": {},
   "source": [
    "### Iterate over cards"
   ]
  },
  {
   "cell_type": "code",
   "execution_count": 6,
   "metadata": {
    "tags": []
   },
   "outputs": [
    {
     "output_type": "stream",
     "name": "stdout",
     "text": "♠2\n♠5\n♠A\n♣A\n♥J\n♦K\n♣5\n♦7\n♥5\n♦4\n♠3\n♦2\n♦A\n♥Q\n♦3\n♦10\n♣7\n♥9\n♥7\n♣6\n♣4\n♥10\n♣K\n♣10\n♦Q\n♥3\n♣9\n♣J\n♠Q\n♥2\n♥4\n♠7\n♣3\n♦J\n♦5\n♦9\n♥6\n♣Q\n♠J\n♦6\n♣8\n♣2\n♠6\n♠4\n♥K\n♠8\n♦8\n♠K\n♠9\n♥A\n♠10\n♥8\n"
    }
   ],
   "source": [
    "for card in deck:\n",
    "    print(card)"
   ]
  }
 ]
}