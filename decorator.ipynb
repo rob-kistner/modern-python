{
 "metadata": {
  "language_info": {
   "codemirror_mode": {
    "name": "ipython",
    "version": 3
   },
   "file_extension": ".py",
   "mimetype": "text/x-python",
   "name": "python",
   "nbconvert_exporter": "python",
   "pygments_lexer": "ipython3",
   "version": 3
  },
  "orig_nbformat": 2,
  "kernelspec": {
   "name": "python_defaultSpec_1596476192475",
   "display_name": "Python 3.8.5 64-bit"
  }
 },
 "nbformat": 4,
 "nbformat_minor": 2,
 "cells": [
  {
   "cell_type": "markdown",
   "metadata": {},
   "source": [
    "# Decorators"
   ]
  },
  {
   "cell_type": "markdown",
   "metadata": {},
   "source": [
    "## Higher Order Functions\n",
    "\n",
    "* Returns another function from inside\n",
    "* Or takes in one or more functions as arguments"
   ]
  },
  {
   "cell_type": "code",
   "execution_count": 6,
   "metadata": {},
   "outputs": [
    {
     "output_type": "execute_result",
     "data": {
      "text/plain": "14"
     },
     "metadata": {},
     "execution_count": 6
    }
   ],
   "source": [
    "def sum(n, func):\n",
    "    total = 0\n",
    "    for num in range(1, n+1):\n",
    "        total += func(num)\n",
    "    return total\n",
    "\n",
    "def square(x):\n",
    "    return x*x\n",
    "\n",
    "def cube(x):\n",
    "    return x*x*x\n",
    "\n",
    "sum(3, square)"
   ]
  },
  {
   "cell_type": "markdown",
   "metadata": {},
   "source": [
    "Explanation: The above example would return, in order of the loop:\n",
    "\n",
    "* (1): 1\n",
    "* (2): 4\n",
    "* (3): 9\n",
    "\n",
    "9 + 4 + 1 = 14"
   ]
  },
  {
   "cell_type": "code",
   "execution_count": 7,
   "metadata": {},
   "outputs": [
    {
     "output_type": "execute_result",
     "data": {
      "text/plain": "36"
     },
     "metadata": {},
     "execution_count": 7
    }
   ],
   "source": [
    "sum(3, cube)"
   ]
  },
  {
   "cell_type": "markdown",
   "metadata": {},
   "source": [
    "Another example using randomized strings"
   ]
  },
  {
   "cell_type": "code",
   "execution_count": 9,
   "metadata": {},
   "outputs": [
    {
     "output_type": "execute_result",
     "data": {
      "text/plain": "'Hello there Toby'"
     },
     "metadata": {},
     "execution_count": 9
    }
   ],
   "source": [
    "from random import choice\n",
    "\n",
    "def greet(person):\n",
    "    def get_mood():\n",
    "        msg = choice(('Hello there', 'Go away', 'I love you lots'))\n",
    "        return msg\n",
    "    result = f\"{get_mood()} {person}\"\n",
    "    return result\n",
    "\n",
    "greet(\"Toby\")"
   ]
  },
  {
   "cell_type": "code",
   "execution_count": 10,
   "metadata": {},
   "outputs": [
    {
     "output_type": "execute_result",
     "data": {
      "text/plain": "'Go away Nadia'"
     },
     "metadata": {},
     "execution_count": 10
    }
   ],
   "source": [
    "greet(\"Nadia\")"
   ]
  },
  {
   "cell_type": "code",
   "execution_count": 11,
   "metadata": {},
   "outputs": [
    {
     "output_type": "execute_result",
     "data": {
      "text/plain": "'Hello there Mikael'"
     },
     "metadata": {},
     "execution_count": 11
    }
   ],
   "source": [
    "greet(\"Mikael\")"
   ]
  },
  {
   "cell_type": "markdown",
   "metadata": {},
   "source": [
    "Showing that arguments get passed in from the higher order function.\n",
    "\n",
    "This is actually known as a **closure**."
   ]
  },
  {
   "cell_type": "code",
   "execution_count": 25,
   "metadata": {
    "tags": []
   },
   "outputs": [
    {
     "output_type": "stream",
     "name": "stdout",
     "text": "teeheehee Linda\nlol Linda\nHAHAHA Linda\nlol Linda\n"
    }
   ],
   "source": [
    "from random import choice\n",
    "\n",
    "def make_laugh_at_func(person):\n",
    "    def get_laugh():\n",
    "        laugh = choice(('HAHAHA', 'lol', 'teeheehee'))\n",
    "        # has access to person\n",
    "        return f\"{laugh} {person}\"\n",
    "    return get_laugh\n",
    "\n",
    "laugh_at = make_laugh_at_func(\"Linda\")\n",
    "\n",
    "print(laugh_at())\n",
    "print(laugh_at())\n",
    "print(laugh_at())\n",
    "print(laugh_at())"
   ]
  },
  {
   "cell_type": "markdown",
   "metadata": {},
   "source": [
    "## Decorators\n",
    "\n",
    "* Decorators are functions\n",
    "* Decorators wrap other functions and enhance their behavior\n",
    "* Decorators are examples of higher order functions\n",
    "* Decorators have their own syntax, using \"@\" (as syntactic sugar)"
   ]
  },
  {
   "cell_type": "code",
   "execution_count": null,
   "metadata": {},
   "outputs": [],
   "source": []
  }
 ]
}