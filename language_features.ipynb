{
 "metadata": {
  "language_info": {
   "codemirror_mode": {
    "name": "ipython",
    "version": 3
   },
   "file_extension": ".py",
   "mimetype": "text/x-python",
   "name": "python",
   "nbconvert_exporter": "python",
   "pygments_lexer": "ipython3",
   "version": 3
  },
  "orig_nbformat": 2,
  "kernelspec": {
   "name": "python_defaultSpec_1596421952436",
   "display_name": "Python 3.8.5 64-bit"
  }
 },
 "nbformat": 4,
 "nbformat_minor": 2,
 "cells": [
  {
   "cell_type": "markdown",
   "metadata": {
    "tags": []
   },
   "source": [
    "# Python Language Features"
   ]
  },
  {
   "cell_type": "markdown",
   "metadata": {
    "tags": []
   },
   "source": [
    "## Data Types\n",
    "\n",
    "***\n",
    "\n",
    "### Boolean (bool)\n",
    "\n",
    "True or False\n",
    "\n",
    ">```\n",
    "myval = True\n",
    "```\n",
    "\n",
    "\n",
    "### Integer (int)\n",
    "\n",
    "A number without decimals\n",
    "\n",
    ">```\n",
    "myval = 5\n",
    "```\n",
    "\n",
    "\n",
    "### String (str)\n",
    "\n",
    "A sequence of unicode characters\n",
    "\n",
    ">```\n",
    "myval = \"An now I'm a string\"\n",
    "```\n",
    "\n",
    "### List (list)\n",
    "\n",
    "An ordered sequence of other data types\n",
    "\n",
    ">```\n",
    "mylist1 = [0, 23, 1, 0.8, 13]\n",
    "mylist2 = [\"Michael\", \"Cindy\", \"Andy\", \"Joan\"]\n",
    "```\n",
    "\n",
    "### Dictionaries\n",
    "\n",
    "Unordered collection of key/value pairs\n",
    "\n",
    ">```\n",
    "me = {\n",
    "    \"firstname\": \"Rob\",\n",
    "    \"lastname\": \"Kistner\",\n",
    "    \"age\": 50,\n",
    "    \"birthyear\": 1969,\n",
    "    \"interests\": [\"photography\", \"wine\", \"film\"]\n",
    "}\n",
    "```\n",
    "\n",
    "### Tuples (tuple)\n",
    "\n",
    "An immutable iterable sequence of values\n",
    "\n",
    ">```\n",
    "mytuple = (\"coffee\", \"tea\", \"beer\")\n",
    "```"
   ]
  },
  {
   "cell_type": "markdown",
   "metadata": {},
   "source": [
    "### Sets\n",
    "\n",
    "* Are just like formal mathematical sets\n",
    "* Cannot have duplicate values\n",
    "* Are not ordered\n",
    "* Cannot access items by index"
   ]
  },
  {
   "cell_type": "code",
   "execution_count": 27,
   "metadata": {
    "tags": []
   },
   "outputs": [
    {
     "output_type": "stream",
     "name": "stdout",
     "text": "\n\u001b[33m**************************************************\u001b[0m\n\u001b[33m*                                                *\u001b[0m\n\u001b[33m*    SETS                                        *\u001b[0m\n\u001b[33m*    --------------------                        *\u001b[0m\n\u001b[33m*    • are just like formal mathematical sets    *\u001b[0m\n\u001b[33m*    • cannot have duplicate values              *\u001b[0m\n\u001b[33m*    • are not ordered                           *\u001b[0m\n\u001b[33m*    • cannot access items by index              *\u001b[0m\n\u001b[33m*                                                *\u001b[0m\n\u001b[33m**************************************************\u001b[0m\n\n\n\u001b[33m---------------------\u001b[0m\n\u001b[33m    writing a set\u001b[0m\n\u001b[33m---------------------\u001b[0m\n\nsetting just like a dict without key/vals: {1, 4, 5}\nusing set function plus duplicates: {1, 4, 5}\ndoesn't have to all be the same type: {1, 4, 5, 8.382, 'a', 'b'}\n\n\u001b[33m---------------------------------------------\u001b[0m\n\u001b[33m    Can use all the logical list methods…\u001b[0m\n\u001b[33m---------------------------------------------\u001b[0m\n\nfor loop…\n1\n4\n5\n8.382\na\nb\n\n\u001b[33m------------------------------------------------------------\u001b[0m\n\u001b[33m    Can get unique vals in a list by casting it to a set\u001b[0m\n\u001b[33m------------------------------------------------------------\u001b[0m\n\nThe list: ['Oak Park', 'Lombard', 'Chicago', 'Naperville', 'Lisle', 'Lombard', 'Wheaton', 'Chicago']\n\nUniques as a set: ['Chicago', 'Lombard', 'Lisle', 'Wheaton', 'Naperville', 'Oak Park']\n\nOr just get the unique number of items using set: 6\n\n\u001b[33m-------------\u001b[0m\n\u001b[33m    add()\u001b[0m\n\u001b[33m-------------\u001b[0m\n\n{1, 2, 3, 4}\n{1, 2, 3, 4}\n\n\u001b[33m----------------\u001b[0m\n\u001b[33m    remove()\u001b[0m\n\u001b[33m----------------\u001b[0m\n\n{1, 2, 3, 4, 5, 6}\n\n{1, 2, 4, 5, 6}\n"
    }
   ],
   "source": [
    "banner(\"writing a set\")\n",
    "# ----------------------------------------\n",
    "s = {1, 4, 5}\n",
    "print(\"setting just like a dict without key/vals: {}\".format(s))\n",
    "\n",
    "s = set({1, 4, 5, 5, 5})\n",
    "print(\"using set function plus duplicates: {}\".format(s))\n",
    "\n",
    "s = {1, 4, 5, \"a\", \"b\", True, 8.382}\n",
    "print(\"doesn't have to all be the same type: {}\".format(s))\n",
    "\n",
    "\n",
    "banner(\"Can use all the logical list methods…\")\n",
    "# ----------------------------------------\n",
    "print(\"for loop…\")\n",
    "for thing in s:\n",
    "    print(thing)\n",
    "\n",
    "\n",
    "banner(\"Can get unique vals in a list by casting it to a set\")\n",
    "# ----------------------------------------\n",
    "city_list = [\"Oak Park\", \"Lombard\", \"Chicago\", \"Naperville\", \"Lisle\", \"Lombard\", \"Wheaton\", \"Chicago\"]\n",
    "print(\"The list: {}\".format(city_list))\n",
    "bl()\n",
    "city_list_set = set(city_list)\n",
    "print(\"Uniques as a set: {}\".format(list(city_list_set)))\n",
    "bl()\n",
    "print(\"Or just get the unique number of items using set: {}\".format(len(set(city_list))))\n",
    "\n",
    "banner(\"add()\")\n",
    "# ----------------------------------------\n",
    "s = set([1,2,3])\n",
    "s.add(4)\n",
    "print(s)\n",
    "s.add(4)\n",
    "print(s)\n",
    "\n",
    "banner(\"remove()\")\n",
    "# ----------------------------------------\n",
    "s = {1, 2, 3, 4, 5, 6}\n",
    "print(s)\n",
    "bl()\n",
    "s.remove(3)\n",
    "print(s)"
   ]
  },
  {
   "cell_type": "markdown",
   "metadata": {},
   "source": [
    "### discard()\n",
    "\n",
    "is essentially `remove()` but doesn't throw an error if an item in not in the set."
   ]
  },
  {
   "cell_type": "code",
   "execution_count": 28,
   "metadata": {},
   "outputs": [
    {
     "output_type": "execute_result",
     "data": {
      "text/plain": "{1, 2, 3, 4, 5, 6, 7}"
     },
     "metadata": {},
     "execution_count": 28
    }
   ],
   "source": [
    "s = {1, 2, 3, 4, 5, 6, 7}\n",
    "\n",
    "s"
   ]
  },
  {
   "cell_type": "markdown",
   "metadata": {},
   "source": [
    "s.discard(10): 10 is not in the set…"
   ]
  },
  {
   "cell_type": "code",
   "execution_count": 30,
   "metadata": {},
   "outputs": [
    {
     "output_type": "execute_result",
     "data": {
      "text/plain": "'after discard(10), which is not in the set: {1, 2, 3, 4, 5, 6, 7}'"
     },
     "metadata": {},
     "execution_count": 30
    }
   ],
   "source": [
    "s.discard(10)\n",
    "\n",
    "s"
   ]
  },
  {
   "cell_type": "markdown",
   "metadata": {},
   "source": [
    "### Sets: copy()"
   ]
  },
  {
   "cell_type": "code",
   "execution_count": 24,
   "metadata": {},
   "outputs": [
    {
     "output_type": "execute_result",
     "data": {
      "text/plain": "{1, 2, 3}"
     },
     "metadata": {},
     "execution_count": 24
    }
   ],
   "source": [
    "s = {1, 2, 3}\n",
    "\n",
    "s2 = s.copy()\n",
    "\n",
    "s"
   ]
  },
  {
   "cell_type": "code",
   "execution_count": 25,
   "metadata": {},
   "outputs": [
    {
     "output_type": "execute_result",
     "data": {
      "text/plain": "{1, 2, 3}"
     },
     "metadata": {},
     "execution_count": 25
    }
   ],
   "source": [
    "s2"
   ]
  },
  {
   "cell_type": "code",
   "execution_count": 26,
   "metadata": {},
   "outputs": [
    {
     "output_type": "execute_result",
     "data": {
      "text/plain": "False"
     },
     "metadata": {},
     "execution_count": 26
    }
   ],
   "source": [
    "s is s2"
   ]
  },
  {
   "cell_type": "markdown",
   "metadata": {},
   "source": [
    "### Sets: clear()"
   ]
  },
  {
   "cell_type": "code",
   "execution_count": 19,
   "metadata": {},
   "outputs": [
    {
     "output_type": "execute_result",
     "data": {
      "text/plain": "{1, 2, 3}"
     },
     "metadata": {},
     "execution_count": 19
    }
   ],
   "source": [
    "s = {1, 2, 3}\n",
    "\n",
    "s"
   ]
  },
  {
   "cell_type": "code",
   "execution_count": 22,
   "metadata": {},
   "outputs": [
    {
     "output_type": "execute_result",
     "data": {
      "text/plain": "set()"
     },
     "metadata": {},
     "execution_count": 22
    }
   ],
   "source": [
    "s.clear()\n",
    "\n",
    "s"
   ]
  },
  {
   "cell_type": "markdown",
   "metadata": {},
   "source": [
    "### Teaching classes example\n",
    "\n",
    "Two sets of students for two classes, what is unique…"
   ]
  },
  {
   "cell_type": "code",
   "execution_count": 11,
   "metadata": {},
   "outputs": [],
   "source": [
    "math_students = {\"Matt\", \"Helen\", \"Prashant\", \"James\", \"Aparna\"}\n",
    "\n",
    "biology_students = {\"Jane\", \"Matt\", \"Charlotte\", \"Mesut\", \"Oliver\", \"James\"}"
   ]
  },
  {
   "cell_type": "markdown",
   "metadata": {},
   "source": [
    "### Union"
   ]
  },
  {
   "cell_type": "code",
   "execution_count": 17,
   "metadata": {
    "tags": []
   },
   "outputs": [
    {
     "output_type": "execute_result",
     "data": {
      "text/plain": "{'Aparna',\n 'Charlotte',\n 'Helen',\n 'James',\n 'Jane',\n 'Matt',\n 'Mesut',\n 'Oliver',\n 'Prashant'}"
     },
     "metadata": {},
     "execution_count": 17
    }
   ],
   "source": [
    "math_students | biology_students"
   ]
  },
  {
   "cell_type": "markdown",
   "metadata": {},
   "source": [
    "### Intersection"
   ]
  },
  {
   "cell_type": "code",
   "execution_count": 16,
   "metadata": {
    "tags": []
   },
   "outputs": [
    {
     "output_type": "execute_result",
     "data": {
      "text/plain": "{'James', 'Matt'}"
     },
     "metadata": {},
     "execution_count": 16
    }
   ],
   "source": [
    "math_students & biology_students"
   ]
  },
  {
   "cell_type": "markdown",
   "metadata": {},
   "source": [
    "## Conditionals: `if`"
   ]
  },
  {
   "cell_type": "code",
   "execution_count": 52,
   "metadata": {
    "tags": []
   },
   "outputs": [
    {
     "output_type": "stream",
     "name": "stdout",
     "text": "Go be a wildling\n"
    }
   ],
   "source": [
    "name = \"Jon Snow\"\n",
    "\n",
    "if name == \"Arya Stark\":\n",
    "    print(\"A girl needs to be an assassin\")\n",
    "elif name == \"Jon Snow\":\n",
    "    print(\"Go be a wildling\")\n",
    "else:\n",
    "    print(\"Carry on\")"
   ]
  },
  {
   "cell_type": "markdown",
   "metadata": {},
   "source": [
    "## Testing Comparitors"
   ]
  },
  {
   "cell_type": "code",
   "execution_count": 49,
   "metadata": {},
   "outputs": [
    {
     "output_type": "execute_result",
     "data": {
      "text/plain": "True"
     },
     "metadata": {},
     "execution_count": 49
    }
   ],
   "source": [
    "3 == 3"
   ]
  },
  {
   "cell_type": "code",
   "execution_count": 47,
   "metadata": {},
   "outputs": [
    {
     "output_type": "execute_result",
     "data": {
      "text/plain": "True"
     },
     "metadata": {},
     "execution_count": 47
    }
   ],
   "source": [
    "3==3 and 5==5"
   ]
  },
  {
   "cell_type": "code",
   "execution_count": 45,
   "metadata": {},
   "outputs": [
    {
     "output_type": "execute_result",
     "data": {
      "text/plain": "True"
     },
     "metadata": {},
     "execution_count": 45
    }
   ],
   "source": [
    "(3==3) and (5==5)"
   ]
  },
  {
   "cell_type": "code",
   "execution_count": 43,
   "metadata": {},
   "outputs": [
    {
     "output_type": "execute_result",
     "data": {
      "text/plain": "True"
     },
     "metadata": {},
     "execution_count": 43
    }
   ],
   "source": [
    "(3 is 3) and (5 is 5)"
   ]
  },
  {
   "cell_type": "code",
   "execution_count": 41,
   "metadata": {},
   "outputs": [
    {
     "output_type": "execute_result",
     "data": {
      "text/plain": "True"
     },
     "metadata": {},
     "execution_count": 41
    }
   ],
   "source": [
    "(3 is 3) and (5 is 5)"
   ]
  },
  {
   "cell_type": "markdown",
   "metadata": {},
   "source": [
    "single true value always throws true"
   ]
  },
  {
   "cell_type": "code",
   "execution_count": 39,
   "metadata": {},
   "outputs": [
    {
     "output_type": "execute_result",
     "data": {
      "text/plain": "True"
     },
     "metadata": {},
     "execution_count": 39
    }
   ],
   "source": [
    "1 == True"
   ]
  },
  {
   "cell_type": "markdown",
   "metadata": {},
   "source": [
    "## Comparison operators"
   ]
  },
  {
   "cell_type": "markdown",
   "metadata": {},
   "source": [
    "`==` : equals"
   ]
  },
  {
   "cell_type": "code",
   "execution_count": 35,
   "metadata": {},
   "outputs": [
    {
     "output_type": "execute_result",
     "data": {
      "text/plain": "True"
     },
     "metadata": {},
     "execution_count": 35
    }
   ],
   "source": [
    "3 == 3"
   ]
  },
  {
   "cell_type": "markdown",
   "metadata": {},
   "source": [
    "`!=` : not equal to"
   ]
  },
  {
   "cell_type": "code",
   "execution_count": 31,
   "metadata": {},
   "outputs": [
    {
     "output_type": "execute_result",
     "data": {
      "text/plain": "True"
     },
     "metadata": {},
     "execution_count": 31
    }
   ],
   "source": [
    "1 != 3"
   ]
  },
  {
   "cell_type": "markdown",
   "metadata": {},
   "source": [
    "`>` : greater than"
   ]
  },
  {
   "cell_type": "code",
   "execution_count": 29,
   "metadata": {},
   "outputs": [
    {
     "output_type": "execute_result",
     "data": {
      "text/plain": "True"
     },
     "metadata": {},
     "execution_count": 29
    }
   ],
   "source": [
    "3 > 1"
   ]
  },
  {
   "cell_type": "markdown",
   "metadata": {},
   "source": [
    "`<` : less than"
   ]
  },
  {
   "cell_type": "code",
   "execution_count": 27,
   "metadata": {},
   "outputs": [
    {
     "output_type": "execute_result",
     "data": {
      "text/plain": "True"
     },
     "metadata": {},
     "execution_count": 27
    }
   ],
   "source": [
    "1 < 3"
   ]
  },
  {
   "cell_type": "markdown",
   "metadata": {},
   "source": [
    "`>=` : greater than or equal to"
   ]
  },
  {
   "cell_type": "code",
   "execution_count": 25,
   "metadata": {},
   "outputs": [
    {
     "output_type": "execute_result",
     "data": {
      "text/plain": "True"
     },
     "metadata": {},
     "execution_count": 25
    }
   ],
   "source": [
    "4 >= 3"
   ]
  },
  {
   "cell_type": "markdown",
   "metadata": {},
   "source": [
    "`<=` : less than or equal to"
   ]
  },
  {
   "cell_type": "code",
   "execution_count": null,
   "metadata": {},
   "outputs": [],
   "source": [
    "2 <= 3"
   ]
  },
  {
   "cell_type": "markdown",
   "metadata": {},
   "source": [
    "Logical `and` and `or`"
   ]
  },
  {
   "cell_type": "code",
   "execution_count": 18,
   "metadata": {
    "tags": []
   },
   "outputs": [
    {
     "output_type": "execute_result",
     "data": {
      "text/plain": "1"
     },
     "metadata": {},
     "execution_count": 18
    }
   ],
   "source": [
    "1 and 1"
   ]
  },
  {
   "cell_type": "code",
   "execution_count": 19,
   "metadata": {
    "tags": []
   },
   "outputs": [
    {
     "output_type": "execute_result",
     "data": {
      "text/plain": "True"
     },
     "metadata": {},
     "execution_count": 19
    }
   ],
   "source": [
    "(8==1) or (8==8)"
   ]
  },
  {
   "cell_type": "code",
   "execution_count": 20,
   "metadata": {
    "tags": []
   },
   "outputs": [
    {
     "output_type": "execute_result",
     "data": {
      "text/plain": "True"
     },
     "metadata": {},
     "execution_count": 20
    }
   ],
   "source": [
    "-1 is not 1"
   ]
  },
  {
   "cell_type": "markdown",
   "metadata": {
    "tags": []
   },
   "source": [
    "### `==` vs `is`\n",
    "\n",
    "`==` checks the values themselves\n",
    "\n",
    "`is` checks if the variables take up the same place in memory\n",
    "\n"
   ]
  },
  {
   "cell_type": "code",
   "execution_count": 4,
   "metadata": {},
   "outputs": [],
   "source": [
    "a = [1,2,3]\n",
    "b = [1,2,3]"
   ]
  },
  {
   "cell_type": "code",
   "execution_count": 9,
   "metadata": {},
   "outputs": [
    {
     "output_type": "execute_result",
     "data": {
      "text/plain": "True"
     },
     "metadata": {},
     "execution_count": 9
    }
   ],
   "source": [
    "a == b"
   ]
  },
  {
   "cell_type": "code",
   "execution_count": 6,
   "metadata": {},
   "outputs": [
    {
     "output_type": "execute_result",
     "data": {
      "text/plain": "False"
     },
     "metadata": {},
     "execution_count": 6
    }
   ],
   "source": [
    "a is b"
   ]
  },
  {
   "cell_type": "markdown",
   "metadata": {},
   "source": [
    "## Docstrings"
   ]
  },
  {
   "cell_type": "markdown",
   "metadata": {},
   "source": [
    "Note the spacing, it's absolute to what you put in the docstring"
   ]
  },
  {
   "cell_type": "code",
   "execution_count": 67,
   "metadata": {
    "tags": []
   },
   "outputs": [],
   "source": [
    "def say_hello():\n",
    "\n",
    "    \"\"\"\n",
    "    A simple function to say hello.\n",
    "    It'll obey all the formatting you \n",
    "    put in the string itself including\n",
    "    spaces at the beginning.\n",
    "    \"\"\"\n",
    "\n",
    "    return \"Hello!\""
   ]
  },
  {
   "cell_type": "markdown",
   "metadata": {},
   "source": [
    "Using the keyword `<function>.__doc__` will show the docstring definied in a function. It's important to define it at the top of the function."
   ]
  },
  {
   "cell_type": "code",
   "execution_count": 70,
   "metadata": {
    "tags": []
   },
   "outputs": [
    {
     "output_type": "stream",
     "name": "stdout",
     "text": "--- before printing __doc__ ---\n\n    A simple function to say hello.\n    It'll obey all the formatting you \n    put in the string itself including\n    spaces at the beginning.\n    \n--- after printing __doc__ ---\n"
    }
   ],
   "source": [
    "print(\"--- before printing __doc__ ---\")\n",
    "print(say_hello.__doc__)\n",
    "print(\"--- after printing __doc__ ---\")"
   ]
  },
  {
   "cell_type": "code",
   "execution_count": 69,
   "metadata": {
    "tags": []
   },
   "outputs": [
    {
     "output_type": "stream",
     "name": "stdout",
     "text": "Remove and return item at index (default last).\n\nRaises IndexError if list is empty or index is out of range.\n"
    }
   ],
   "source": [
    "print([].pop.__doc__)"
   ]
  },
  {
   "cell_type": "markdown",
   "metadata": {},
   "source": [
    "## Variables"
   ]
  },
  {
   "cell_type": "markdown",
   "metadata": {},
   "source": [
    "## Multiple assignment\n",
    "\n",
    "You can actually assign multiple variables at once like the below, even though that may not be clear."
   ]
  },
  {
   "cell_type": "code",
   "execution_count": 13,
   "metadata": {
    "tags": []
   },
   "outputs": [],
   "source": [
    "all, at, once = 5, 10, 15"
   ]
  },
  {
   "cell_type": "code",
   "execution_count": 10,
   "metadata": {
    "tags": []
   },
   "outputs": [
    {
     "output_type": "stream",
     "name": "stdout",
     "text": "5\n"
    }
   ],
   "source": [
    "print(all)"
   ]
  },
  {
   "cell_type": "code",
   "execution_count": 11,
   "metadata": {
    "tags": []
   },
   "outputs": [
    {
     "output_type": "stream",
     "name": "stdout",
     "text": "10\n"
    }
   ],
   "source": [
    "print(at)"
   ]
  },
  {
   "cell_type": "code",
   "execution_count": 12,
   "metadata": {
    "tags": []
   },
   "outputs": [
    {
     "output_type": "stream",
     "name": "stdout",
     "text": "15\n"
    }
   ],
   "source": [
    "print(once)"
   ]
  },
  {
   "cell_type": "markdown",
   "metadata": {},
   "source": [
    "## Naming Conventions\n",
    "\n",
    "Just printing out some variable naming conventions"
   ]
  },
  {
   "cell_type": "markdown",
   "metadata": {},
   "source": [
    "Most **VARIABLES** should be **snake_case**\n",
    "\n",
    "> `the_first_variable = \"Hi there\"`\n",
    "\n",
    "Most **VARIABLES** should be lowercase\n",
    "\n",
    "> `damnedright = 3`\n",
    "\n",
    "\n",
    "...except **CONSTANTS**, which should be all **UPPERCASE**\n",
    "\n",
    "> `PI = 3.1415`\n",
    "\n",
    "Class names should be UpperCamelCase\n",
    "\n",
    "> `class UserInfo`\n",
    "\n",
    "Private variables should be surrounded with dunders\n",
    "\n",
    "> `__private_info__ = 5.93817`\n"
   ]
  },
  {
   "cell_type": "markdown",
   "metadata": {},
   "source": [
    "## Input\n",
    "\n",
    "To get user input, just use the `input()` command."
   ]
  },
  {
   "cell_type": "code",
   "execution_count": 8,
   "metadata": {
    "tags": []
   },
   "outputs": [
    {
     "output_type": "execute_result",
     "data": {
      "text/plain": "'you said purple'"
     },
     "metadata": {},
     "execution_count": 8
    }
   ],
   "source": [
    "answer = input(\"What's your favorite color? \")\n",
    "\n",
    "f\"you said {answer}\""
   ]
  },
  {
   "cell_type": "markdown",
   "metadata": {},
   "source": [
    "## reversed()\n",
    "\n",
    "Returns a reversed iterator\n",
    "\n",
    "`reversed()` normally returns a `reversed` object so you'd have to convert it or loop through it."
   ]
  },
  {
   "cell_type": "code",
   "execution_count": 6,
   "metadata": {},
   "outputs": [
    {
     "output_type": "execute_result",
     "data": {
      "text/plain": "<reversed at 0x111e1b100>"
     },
     "metadata": {},
     "execution_count": 6
    }
   ],
   "source": [
    "output = reversed(\"hello\")\n",
    "\n",
    "output"
   ]
  },
  {
   "cell_type": "code",
   "execution_count": 7,
   "metadata": {},
   "outputs": [
    {
     "output_type": "execute_result",
     "data": {
      "text/plain": "['o', 'l', 'l', 'e', 'h']"
     },
     "metadata": {},
     "execution_count": 7
    }
   ],
   "source": [
    "list(output)"
   ]
  },
  {
   "cell_type": "code",
   "execution_count": 4,
   "metadata": {
    "tags": []
   },
   "outputs": [
    {
     "output_type": "stream",
     "name": "stdout",
     "text": "4\n3\n2\n1\n"
    }
   ],
   "source": [
    "output = reversed([1,2,3,4])\n",
    "\n",
    "for item in output:\n",
    "    print(item)"
   ]
  },
  {
   "cell_type": "markdown",
   "metadata": {},
   "source": [
    "Reversed could be useful if you're working with something that's already an iterator instead of the usual `<string>.reverse()` or \n",
    "`[::-1]` `slice` methods."
   ]
  }
 ]
}