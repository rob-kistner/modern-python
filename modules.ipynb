{
 "metadata": {
  "language_info": {
   "codemirror_mode": {
    "name": "ipython",
    "version": 3
   },
   "file_extension": ".py",
   "mimetype": "text/x-python",
   "name": "python",
   "nbconvert_exporter": "python",
   "pygments_lexer": "ipython3",
   "version": 3
  },
  "orig_nbformat": 2,
  "kernelspec": {
   "name": "python_defaultSpec_1596342708214",
   "display_name": "Python 3.8.5 64-bit"
  }
 },
 "nbformat": 4,
 "nbformat_minor": 2,
 "cells": [
  {
   "cell_type": "markdown",
   "metadata": {},
   "source": [
    "# Modules"
   ]
  },
  {
   "cell_type": "code",
   "execution_count": 2,
   "metadata": {},
   "outputs": [
    {
     "output_type": "error",
     "ename": "ModuleNotFoundError",
     "evalue": "No module named 'modules'",
     "traceback": [
      "\u001b[0;31m---------------------------------------------------------------------------\u001b[0m",
      "\u001b[0;31mModuleNotFoundError\u001b[0m                       Traceback (most recent call last)",
      "\u001b[0;32m<ipython-input-2-62f47a35b250>\u001b[0m in \u001b[0;36m<module>\u001b[0;34m\u001b[0m\n\u001b[0;32m----> 1\u001b[0;31m \u001b[0;32mfrom\u001b[0m \u001b[0mmodules\u001b[0m\u001b[0;34m.\u001b[0m\u001b[0mprintutils\u001b[0m \u001b[0;32mimport\u001b[0m \u001b[0;34m*\u001b[0m\u001b[0;34m\u001b[0m\u001b[0;34m\u001b[0m\u001b[0m\n\u001b[0m\u001b[1;32m      2\u001b[0m \u001b[0;34m\u001b[0m\u001b[0m\n\u001b[1;32m      3\u001b[0m big_banner(\"\"\"\n\u001b[1;32m      4\u001b[0m     \u001b[0mWhy\u001b[0m \u001b[0mModules\u001b[0m\u001b[0;31m?\u001b[0m\u001b[0;34m\u001b[0m\u001b[0;34m\u001b[0m\u001b[0m\n\u001b[1;32m      5\u001b[0m     \u001b[0;34m-\u001b[0m\u001b[0;34m-\u001b[0m\u001b[0;34m-\u001b[0m\u001b[0;34m-\u001b[0m\u001b[0;34m-\u001b[0m\u001b[0;34m-\u001b[0m\u001b[0;34m-\u001b[0m\u001b[0;34m-\u001b[0m\u001b[0;34m-\u001b[0m\u001b[0;34m-\u001b[0m\u001b[0;34m-\u001b[0m\u001b[0;34m-\u001b[0m\u001b[0;34m-\u001b[0m\u001b[0;34m-\u001b[0m\u001b[0;34m-\u001b[0m\u001b[0;34m-\u001b[0m\u001b[0;34m-\u001b[0m\u001b[0;34m-\u001b[0m\u001b[0;34m-\u001b[0m\u001b[0;34m-\u001b[0m\u001b[0;34m-\u001b[0m\u001b[0;34m-\u001b[0m\u001b[0;34m-\u001b[0m\u001b[0;34m-\u001b[0m\u001b[0;34m-\u001b[0m\u001b[0;34m-\u001b[0m\u001b[0;34m-\u001b[0m\u001b[0;34m-\u001b[0m\u001b[0;34m-\u001b[0m\u001b[0;34m-\u001b[0m\u001b[0;34m-\u001b[0m\u001b[0;34m-\u001b[0m\u001b[0;34m-\u001b[0m\u001b[0;34m-\u001b[0m\u001b[0;34m-\u001b[0m\u001b[0;34m-\u001b[0m\u001b[0;34m-\u001b[0m\u001b[0;34m-\u001b[0m\u001b[0;34m-\u001b[0m\u001b[0;34m-\u001b[0m\u001b[0;34m\u001b[0m\u001b[0;34m\u001b[0m\u001b[0m\n",
      "\u001b[0;31mModuleNotFoundError\u001b[0m: No module named 'modules'"
     ]
    }
   ],
   "source": [
    "from modules.printutils import *\n",
    "\n",
    "big_banner(\"\"\"\n",
    "    Why Modules?\n",
    "    ----------------------------------------\n",
    "    • Keep python files small\n",
    "    • Reuse code just by importing\n",
    "    • Modules are just other python code, no big mystery\n",
    "\"\"\")\n",
    "\n",
    "banner(\"BUILT-IN MODULES\")\n",
    "# ----------------------------------------\n",
    "print(\"https://docs.python.org/3/py-modindex.html\")\n",
    "\n",
    "\n",
    "banner(\"random\")\n",
    "# ----------------------------------------\n",
    "    # import the whole package\n",
    "# import random\n",
    "    # import a couple packages, when you do this,\n",
    "    # you dont have to reference the class anymore\n",
    "    # choice() randint()\n",
    "from random import choice, randint\n",
    "    # good practice, just import one method\n",
    "from random import randint as rint\n",
    "    # can alias, i.e.:\n",
    "    # import random as rnd\n",
    "# import random as rnd\n",
    "\n",
    "fruits = [\"apple\", \"banana\", \"blueberry\", \"cherry\", \"kumkwat\", \"grape\", \"orange\", \"lime\", \"dragonfruit\"]\n",
    "print(choice(fruits))\n",
    "print(randint(1,100))\n",
    "print(rint(1,50))\n",
    "\n",
    "\n",
    "\n",
    "banner(\"Exercise 74\")\n",
    "def contains_keyword(*args):\n",
    "    import keyword\n",
    "    for item in args:\n",
    "        if keyword.iskeyword(item): return True\n",
    "    return False\n",
    "\n",
    "print(contains_keyword(\"adef\", \"alan\"))"
   ]
  },
  {
   "cell_type": "code",
   "execution_count": 3,
   "metadata": {
    "tags": []
   },
   "outputs": [
    {
     "output_type": "stream",
     "name": "stdout",
     "text": "\n\u001b[33m----------------------\u001b[0m\n\u001b[33m    custom modules\u001b[0m\n\u001b[33m----------------------\u001b[0m\n\nHere's a delicious banana dipped in chocolate!\nHere's a delicious banana dipped in chocolate!\nHey, do you like apples?\n"
    }
   ],
   "source": [
    "from modules.printutils import *\n",
    "\n",
    "banner(\"custom modules\")\n",
    "# ----------------------------------------\n",
    "import modules_custom_bananas as bananas\n",
    "import modules_custom_apples as apples\n",
    "    # ugly, but allows you to alias a bunch of function aliases\n",
    "from modules_custom_bananas import \\\n",
    "    dipped_in_chocolate as dip\n",
    "\n",
    "print(bananas.dipped_in_chocolate())\n",
    "print(dip())\n",
    "print(apples.offer())"
   ]
  },
  {
   "cell_type": "markdown",
   "metadata": {},
   "source": [
    "## Custom modules\n",
    "\n",
    "Imports…"
   ]
  },
  {
   "cell_type": "code",
   "execution_count": 24,
   "metadata": {
    "tags": []
   },
   "outputs": [],
   "source": [
    "import modules.bananas as bananas\n",
    "import modules.apples as apples\n",
    "from modules.bananas import dipped_in_chocolate as dip"
   ]
  },
  {
   "cell_type": "code",
   "execution_count": 25,
   "metadata": {
    "tags": []
   },
   "outputs": [
    {
     "output_type": "execute_result",
     "data": {
      "text/plain": "\"Here's a delicious banana dipped in chocolate!\""
     },
     "metadata": {},
     "execution_count": 25
    }
   ],
   "source": [
    "bananas.dipped_in_chocolate()"
   ]
  },
  {
   "cell_type": "code",
   "execution_count": 26,
   "metadata": {
    "tags": []
   },
   "outputs": [
    {
     "output_type": "execute_result",
     "data": {
      "text/plain": "\"Here's a delicious banana dipped in chocolate!\""
     },
     "metadata": {},
     "execution_count": 26
    }
   ],
   "source": [
    "dip()"
   ]
  },
  {
   "cell_type": "code",
   "execution_count": 27,
   "metadata": {
    "tags": []
   },
   "outputs": [
    {
     "output_type": "execute_result",
     "data": {
      "text/plain": "'Hey, do you like apples?'"
     },
     "metadata": {},
     "execution_count": 27
    }
   ],
   "source": [
    "apples.offer()"
   ]
  },
  {
   "cell_type": "markdown",
   "metadata": {},
   "source": [
    "## External Modules\n",
    "\n",
    "    * Built-in modules come with Python\n",
    "    * External modules come from the internet\n",
    "    * Install using pip\n",
    "\n",
    "as of Python 3.4, pip comes installed with Python\n",
    "\n",
    "You can run it (if it's not setup in your path) with:\n",
    "\n",
    "```\n",
    "python3 -m pip install <package_name>\n",
    "```\n",
    "\n",
    "> python3 -m pip install termcolor"
   ]
  },
  {
   "cell_type": "markdown",
   "metadata": {},
   "source": [
    "### Running help on the termcolor \n",
    "\n",
    "Most human-readable information on a package, launches special environment."
   ]
  },
  {
   "cell_type": "code",
   "execution_count": 28,
   "metadata": {},
   "outputs": [],
   "source": [
    "import termcolor as tc\n",
    "\n",
    "# help(tc)"
   ]
  },
  {
   "cell_type": "markdown",
   "metadata": {},
   "source": [
    "### Experiments with termcolor"
   ]
  },
  {
   "cell_type": "code",
   "execution_count": 29,
   "metadata": {
    "tags": []
   },
   "outputs": [
    {
     "output_type": "stream",
     "name": "stdout",
     "text": "\u001b[33mHi There\u001b[0m\n"
    }
   ],
   "source": [
    "txt = tc.colored('Hi There', color=\"yellow\")\n",
    "print(txt)"
   ]
  },
  {
   "cell_type": "code",
   "execution_count": 30,
   "metadata": {
    "tags": []
   },
   "outputs": [
    {
     "output_type": "stream",
     "name": "stdout",
     "text": "\u001b[41m\u001b[37mHi There\u001b[0m\n"
    }
   ],
   "source": [
    "txt = tc.colored('Hi There', color=\"white\", on_color=\"on_red\")\n",
    "\n",
    "print(txt)"
   ]
  },
  {
   "cell_type": "code",
   "execution_count": 31,
   "metadata": {
    "tags": []
   },
   "outputs": [
    {
     "output_type": "stream",
     "name": "stdout",
     "text": "\u001b[45m\u001b[36mHi There\u001b[0m\n"
    }
   ],
   "source": [
    "txt = tc.colored('Hi There', \"cyan\", \"on_magenta\")\n",
    "\n",
    "print(txt)"
   ]
  }
 ]
}