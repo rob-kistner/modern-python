{
 "metadata": {
  "language_info": {
   "codemirror_mode": {
    "name": "ipython",
    "version": 3
   },
   "file_extension": ".py",
   "mimetype": "text/x-python",
   "name": "python",
   "nbconvert_exporter": "python",
   "pygments_lexer": "ipython3",
   "version": 3
  },
  "orig_nbformat": 2,
  "kernelspec": {
   "name": "python_defaultSpec_1597019074404",
   "display_name": "Python 3.8.5 64-bit"
  }
 },
 "nbformat": 4,
 "nbformat_minor": 2,
 "cells": [
  {
   "cell_type": "markdown",
   "metadata": {},
   "source": [
    "# Modules\n",
    "\n",
    "\n",
    "## Why Modules?\n",
    "\n",
    "* Keep python files small\n",
    "* Reuse code just by importing\n",
    "* Modules are just other python code, no big mystery\n",
    "\n"
   ]
  },
  {
   "cell_type": "markdown",
   "metadata": {
    "tags": []
   },
   "source": [
    "\n",
    "## Built-In Modules\n",
    "\n",
    "https://docs.python.org/3/py-modindex.html\n",
    "\n",
    "### Random"
   ]
  },
  {
   "cell_type": "code",
   "execution_count": 29,
   "metadata": {},
   "outputs": [],
   "source": [
    "    # import the whole package\n",
    "import random\n",
    "\n",
    "    # import a couple packages, when you do this,\n",
    "    # you dont have to reference the class anymore\n",
    "    # choice() randint()\n",
    "from random import choice, randint\n",
    "\n",
    "    # good practice, just import one method\n",
    "from random import randint as rint\n",
    "\n",
    "    # can alias the import to be less verbose\n",
    "import random as rnd\n"
   ]
  },
  {
   "cell_type": "code",
   "execution_count": 30,
   "metadata": {
    "tags": []
   },
   "outputs": [],
   "source": [
    "fruits = [\"apple\", \"banana\", \"blueberry\", \"cherry\", \"kumkwat\", \"grape\", \"orange\", \"lime\", \"dragonfruit\"]"
   ]
  },
  {
   "cell_type": "code",
   "execution_count": 31,
   "metadata": {
    "tags": []
   },
   "outputs": [
    {
     "output_type": "execute_result",
     "data": {
      "text/plain": "'dragonfruit'"
     },
     "metadata": {},
     "execution_count": 31
    }
   ],
   "source": [
    "choice(fruits)"
   ]
  },
  {
   "cell_type": "code",
   "execution_count": 32,
   "metadata": {
    "tags": []
   },
   "outputs": [
    {
     "output_type": "execute_result",
     "data": {
      "text/plain": "29"
     },
     "metadata": {},
     "execution_count": 32
    }
   ],
   "source": [
    "randint(1,100)"
   ]
  },
  {
   "cell_type": "code",
   "execution_count": 33,
   "metadata": {},
   "outputs": [
    {
     "output_type": "execute_result",
     "data": {
      "text/plain": "25"
     },
     "metadata": {},
     "execution_count": 33
    }
   ],
   "source": [
    "rint(1,50)"
   ]
  },
  {
   "cell_type": "markdown",
   "metadata": {},
   "source": [
    "## Exercise 74"
   ]
  },
  {
   "cell_type": "code",
   "execution_count": 17,
   "metadata": {
    "tags": []
   },
   "outputs": [],
   "source": [
    "def contains_keyword(*args):\n",
    "    import keyword\n",
    "    for item in args:\n",
    "        if keyword.iskeyword(item): return True\n",
    "    return False"
   ]
  },
  {
   "cell_type": "code",
   "execution_count": 18,
   "metadata": {},
   "outputs": [
    {
     "output_type": "execute_result",
     "data": {
      "text/plain": "False"
     },
     "metadata": {},
     "execution_count": 18
    }
   ],
   "source": [
    "contains_keyword(\"adef\", \"alan\")"
   ]
  },
  {
   "cell_type": "markdown",
   "metadata": {},
   "source": [
    "## Custom modules\n",
    "\n",
    "Imports…"
   ]
  },
  {
   "cell_type": "code",
   "execution_count": 24,
   "metadata": {
    "tags": []
   },
   "outputs": [],
   "source": [
    "import modules.bananas\n",
    "import modules.apples\n",
    "from modules.bananas import dipped_in_chocolate as dip"
   ]
  },
  {
   "cell_type": "code",
   "execution_count": 34,
   "metadata": {
    "tags": []
   },
   "outputs": [
    {
     "output_type": "execute_result",
     "data": {
      "text/plain": "\"Here's a delicious banana dipped in chocolate!\""
     },
     "metadata": {},
     "execution_count": 34
    }
   ],
   "source": [
    "bananas.dipped_in_chocolate()"
   ]
  },
  {
   "cell_type": "code",
   "execution_count": 35,
   "metadata": {
    "tags": []
   },
   "outputs": [
    {
     "output_type": "execute_result",
     "data": {
      "text/plain": "\"Here's a delicious banana dipped in chocolate!\""
     },
     "metadata": {},
     "execution_count": 35
    }
   ],
   "source": [
    "dip()"
   ]
  },
  {
   "cell_type": "code",
   "execution_count": 36,
   "metadata": {
    "tags": []
   },
   "outputs": [
    {
     "output_type": "execute_result",
     "data": {
      "text/plain": "'Hey, do you like apples?'"
     },
     "metadata": {},
     "execution_count": 36
    }
   ],
   "source": [
    "apples.offer()"
   ]
  },
  {
   "cell_type": "markdown",
   "metadata": {},
   "source": [
    "## External Modules\n",
    "\n",
    "    * Built-in modules come with Python\n",
    "    * External modules come from the internet\n",
    "    * Install using pip\n",
    "\n",
    "as of Python 3.4, pip comes installed with Python\n",
    "\n",
    "You can run it (if it's not setup in your path) with:\n",
    "\n",
    "> ```\n",
    "python3 -m pip install <package_name>\n",
    "```\n",
    "\n",
    "**Example:**\n",
    "\n",
    "> python3 -m pip install termcolor"
   ]
  },
  {
   "cell_type": "markdown",
   "metadata": {},
   "source": [
    "### Running help on the termcolor \n",
    "\n",
    "Most human-readable information on a package, launches special environment."
   ]
  },
  {
   "cell_type": "code",
   "execution_count": 28,
   "metadata": {},
   "outputs": [],
   "source": [
    "import termcolor as tc\n",
    "\n",
    "# help(tc)"
   ]
  },
  {
   "cell_type": "markdown",
   "metadata": {},
   "source": [
    "### Experiments with termcolor"
   ]
  },
  {
   "cell_type": "code",
   "execution_count": 29,
   "metadata": {
    "tags": []
   },
   "outputs": [
    {
     "output_type": "stream",
     "name": "stdout",
     "text": "\u001b[33mHi There\u001b[0m\n"
    }
   ],
   "source": [
    "txt = tc.colored('Hi There', color=\"yellow\")\n",
    "print(txt)"
   ]
  },
  {
   "cell_type": "code",
   "execution_count": 30,
   "metadata": {
    "tags": []
   },
   "outputs": [
    {
     "output_type": "stream",
     "name": "stdout",
     "text": "\u001b[41m\u001b[37mHi There\u001b[0m\n"
    }
   ],
   "source": [
    "txt = tc.colored('Hi There', color=\"white\", on_color=\"on_red\")\n",
    "\n",
    "print(txt)"
   ]
  },
  {
   "cell_type": "code",
   "execution_count": 31,
   "metadata": {
    "tags": []
   },
   "outputs": [
    {
     "output_type": "stream",
     "name": "stdout",
     "text": "\u001b[45m\u001b[36mHi There\u001b[0m\n"
    }
   ],
   "source": [
    "txt = tc.colored('Hi There', \"cyan\", \"on_magenta\")\n",
    "\n",
    "print(txt)"
   ]
  }
 ]
}