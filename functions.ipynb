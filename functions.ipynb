{
 "metadata": {
  "language_info": {
   "codemirror_mode": {
    "name": "ipython",
    "version": 3
   },
   "file_extension": ".py",
   "mimetype": "text/x-python",
   "name": "python",
   "nbconvert_exporter": "python",
   "pygments_lexer": "ipython3",
   "version": 3
  },
  "orig_nbformat": 2,
  "kernelspec": {
   "name": "python_defaultSpec_1596261992179",
   "display_name": "Python 3.8.5 64-bit"
  }
 },
 "nbformat": 4,
 "nbformat_minor": 2,
 "cells": [
  {
   "cell_type": "markdown",
   "metadata": {},
   "source": [
    "# Functions"
   ]
  },
  {
   "cell_type": "markdown",
   "metadata": {},
   "source": [
    "## Defining"
   ]
  },
  {
   "cell_type": "code",
   "execution_count": 6,
   "metadata": {
    "tags": []
   },
   "outputs": [
    {
     "output_type": "stream",
     "name": "stdout",
     "text": "Happy Birthday to You\nHappy Birthday to You\nHappy Birthday Dear You\nHappy Birthday to You\n"
    }
   ],
   "source": [
    "\n",
    "def sing_happy_birthday():\n",
    "    print('Happy Birthday to You')\n",
    "    print('Happy Birthday to You')\n",
    "    print('Happy Birthday Dear You')\n",
    "    print('Happy Birthday to You')\n",
    "\n",
    "sing_happy_birthday()"
   ]
  },
  {
   "cell_type": "markdown",
   "metadata": {},
   "source": [
    "## Default Parameters\n",
    "\n",
    "When no 2nd param is supplied, the default parameter will be used, in this case: 2"
   ]
  },
  {
   "cell_type": "code",
   "execution_count": 21,
   "metadata": {},
   "outputs": [
    {
     "output_type": "execute_result",
     "data": {
      "text/plain": "4"
     },
     "metadata": {},
     "execution_count": 21
    }
   ],
   "source": [
    "def exponent(num, power=2):\n",
    "    return num ** power\n",
    "\n",
    "exponent(2)"
   ]
  },
  {
   "cell_type": "code",
   "execution_count": 22,
   "metadata": {},
   "outputs": [
    {
     "output_type": "execute_result",
     "data": {
      "text/plain": "12"
     },
     "metadata": {},
     "execution_count": 22
    }
   ],
   "source": [
    "def add(a=10, b=20):\n",
    "    return a+b\n",
    "\n",
    "add(5,7)"
   ]
  },
  {
   "cell_type": "markdown",
   "metadata": {},
   "source": [
    "Example of specifying a function as a parameter"
   ]
  },
  {
   "cell_type": "code",
   "execution_count": 23,
   "metadata": {},
   "outputs": [],
   "source": [
    "def add(a, b):\n",
    "    return a+b\n",
    "\n",
    "def subtract(a, b):\n",
    "    return a-b\n",
    "\n",
    "def math(a, b, fn=add):\n",
    "    return fn(a,b)"
   ]
  },
  {
   "cell_type": "code",
   "execution_count": 24,
   "metadata": {},
   "outputs": [
    {
     "output_type": "execute_result",
     "data": {
      "text/plain": "5"
     },
     "metadata": {},
     "execution_count": 24
    }
   ],
   "source": [
    "math(3, 2)"
   ]
  },
  {
   "cell_type": "code",
   "execution_count": 25,
   "metadata": {},
   "outputs": [
    {
     "output_type": "execute_result",
     "data": {
      "text/plain": "-1"
     },
     "metadata": {},
     "execution_count": 25
    }
   ],
   "source": [
    "math(2, 3, subtract)"
   ]
  },
  {
   "cell_type": "markdown",
   "metadata": {},
   "source": [
    "### Example: Coin Flip\n",
    "\n",
    "Looked up turnary operator (below) to shorten the if statement"
   ]
  },
  {
   "cell_type": "code",
   "execution_count": 5,
   "metadata": {},
   "outputs": [
    {
     "output_type": "execute_result",
     "data": {
      "text/plain": "'Heads'"
     },
     "metadata": {},
     "execution_count": 5
    }
   ],
   "source": [
    "from random import random\n",
    "\n",
    "def flip_coin():\n",
    "    return (\"Heads\" if random() > 0.5 else \"Tails\")\n",
    "\n",
    "flip_coin()"
   ]
  },
  {
   "cell_type": "markdown",
   "metadata": {
    "tags": []
   },
   "source": [
    "## Inputs\n",
    "\n",
    "* Parameters: variable in a method definition\n",
    "* Arguments: the data you pass in when you call a function"
   ]
  },
  {
   "cell_type": "markdown",
   "metadata": {},
   "source": [
    "### Simple Example"
   ]
  },
  {
   "cell_type": "code",
   "execution_count": 8,
   "metadata": {},
   "outputs": [
    {
     "output_type": "execute_result",
     "data": {
      "text/plain": "16"
     },
     "metadata": {},
     "execution_count": 8
    }
   ],
   "source": [
    "def square(num):\n",
    "    return num ** 2\n",
    "\n",
    "square(4)"
   ]
  },
  {
   "cell_type": "code",
   "execution_count": 9,
   "metadata": {},
   "outputs": [
    {
     "output_type": "execute_result",
     "data": {
      "text/plain": "64"
     },
     "metadata": {},
     "execution_count": 9
    }
   ],
   "source": [
    "square(8)"
   ]
  },
  {
   "cell_type": "markdown",
   "metadata": {},
   "source": [
    "### Example: Happy Birthday"
   ]
  },
  {
   "cell_type": "code",
   "execution_count": 4,
   "metadata": {
    "tags": []
   },
   "outputs": [
    {
     "output_type": "stream",
     "name": "stdout",
     "text": "Happy Birthday to You\nHappy Birthday to You\nHappy Birthday Dear Colt\nHappy Birthday to You!\n\n"
    }
   ],
   "source": [
    "def sing_happy_birthday(name):\n",
    "    print(\"Happy Birthday to You\")\n",
    "    print(\"Happy Birthday to You\")\n",
    "    print(f\"Happy Birthday Dear {name}\")\n",
    "    print(\"Happy Birthday to You!\")\n",
    "    print()\n",
    "\n",
    "sing_happy_birthday(\"Colt\")"
   ]
  },
  {
   "cell_type": "code",
   "execution_count": 5,
   "metadata": {
    "tags": []
   },
   "outputs": [
    {
     "output_type": "stream",
     "name": "stdout",
     "text": "Happy Birthday to You\nHappy Birthday to You\nHappy Birthday Dear Rashida\nHappy Birthday to You!\n\n"
    }
   ],
   "source": [
    "sing_happy_birthday(\"Rashida\")"
   ]
  },
  {
   "cell_type": "code",
   "execution_count": 6,
   "metadata": {
    "tags": []
   },
   "outputs": [
    {
     "output_type": "stream",
     "name": "stdout",
     "text": "Happy Birthday to You\nHappy Birthday to You\nHappy Birthday Dear Nicolette\nHappy Birthday to You!\n\n"
    }
   ],
   "source": [
    "sing_happy_birthday(\"Nicolette\")"
   ]
  },
  {
   "cell_type": "markdown",
   "metadata": {},
   "source": [
    "### Math Examples: Add & Multiply"
   ]
  },
  {
   "cell_type": "code",
   "execution_count": null,
   "metadata": {},
   "outputs": [],
   "source": [
    "def add(a, b):\n",
    "    return a+b\n",
    "\n",
    "def multiply(a, b):\n",
    "    return a*b\n",
    "\n",
    "print(add(1,3))\n",
    "print(multiply(5,3))"
   ]
  },
  {
   "cell_type": "markdown",
   "metadata": {},
   "source": [
    "### Full Name"
   ]
  },
  {
   "cell_type": "code",
   "execution_count": null,
   "metadata": {},
   "outputs": [],
   "source": [
    "def full_name(firstname, lastname):\n",
    "    return f\"{firstname} {lastname}\"\n",
    "\n",
    "print(full_name('Rob', 'Kistner'))"
   ]
  },
  {
   "cell_type": "code",
   "execution_count": 10,
   "metadata": {
    "tags": []
   },
   "outputs": [
    {
     "output_type": "stream",
     "name": "stdout",
     "text": "\n\u001b[33m**************************\u001b[0m\n\u001b[33m*                        *\u001b[0m\n\u001b[33m*    Functions: Scope    *\u001b[0m\n\u001b[33m*                        *\u001b[0m\n\u001b[33m**************************\u001b[0m\n\n\n\u001b[33m------------------------\u001b[0m\n\u001b[33m    Global variables\u001b[0m\n\u001b[33m------------------------\u001b[0m\n\n1\n2\n3\n\n\u001b[33m------------------------------------------------------\u001b[0m\n\u001b[33m    Note: you can still access the global variable\u001b[0m\n\u001b[33m    for read purposes, you just can't write to it\u001b[0m\n\u001b[33m    unless you use the global keyword…\u001b[0m\n\u001b[33m------------------------------------------------------\u001b[0m\n\nRusty\n\n\u001b[33m---------------------------\u001b[0m\n\u001b[33m    nonlocal variables…\u001b[0m\n\u001b[33m---------------------------\u001b[0m\n\n1\n"
    }
   ],
   "source": [
    "from modules.printutils import *\n",
    "\n",
    "big_banner(\"Functions: Scope\")\n",
    "\n",
    "# ----------------------------------------\n",
    "\n",
    "def say_hello():\n",
    "    instructor = \"Colt\"\n",
    "    return f\"Hello {instructor}\"\n",
    "\n",
    "say_hello()\n",
    "\n",
    "# this would throw an error: instructor is local\n",
    "# to the function only\n",
    "#\n",
    "# print(instructor)\n",
    "\n",
    "\n",
    "banner(\"Global variables\")\n",
    "\n",
    "total = 0\n",
    "\n",
    "\"\"\"\n",
    "This would error out, it's assuming total \n",
    "is a local variable in the function below even \n",
    "though we meant the global total.\n",
    "\n",
    "def increment():\n",
    "    total += 1\n",
    "    return total\n",
    "\n",
    "To access that global variable, you need \n",
    "to use the global keyword…\n",
    "\"\"\"\n",
    "\n",
    "def increment():\n",
    "    global total \n",
    "        # now the function is aware of the global\n",
    "    total += 1\n",
    "    return total\n",
    "\n",
    "print(increment())\n",
    "print(increment())\n",
    "print(increment())\n",
    "\n",
    "\n",
    "banner(\"\"\"\n",
    "    Note: you can still access the global variable \n",
    "    for read purposes, you just can't write to it \n",
    "    unless you use the global keyword…\n",
    "\"\"\")\n",
    "\n",
    "name = \"Rusty\"\n",
    "\n",
    "def greet():\n",
    "    print(name)\n",
    "\n",
    "greet()\n",
    "\n",
    "\"\"\"\n",
    "But again, this wouldn't work\n",
    "\n",
    "def greet():\n",
    "    name += \" Steele\"\n",
    "    print(name)\n",
    "\n",
    "because you'd be trying to alter\n",
    "the global variable.\n",
    "\"\"\"\n",
    "\n",
    "\n",
    "banner(\"nonlocal variables…\")\n",
    "\n",
    "def outer():\n",
    "    count = 0\n",
    "    def inner():\n",
    "            # access the variable in \n",
    "            # the parent function\n",
    "        nonlocal count\n",
    "        count += 1\n",
    "        return count\n",
    "    return inner()\n",
    "\n",
    "print(outer())\n"
   ]
  },
  {
   "cell_type": "code",
   "execution_count": 11,
   "metadata": {
    "tags": []
   },
   "outputs": [
    {
     "output_type": "stream",
     "name": "stdout",
     "text": "\n\u001b[33m************************************************\u001b[0m\n\u001b[33m*                                              *\u001b[0m\n\u001b[33m*    Functions: parameter ordering             *\u001b[0m\n\u001b[33m*    -----------------------------             *\u001b[0m\n\u001b[33m*    The proper way to order parameters is:    *\u001b[0m\n\u001b[33m*                                              *\u001b[0m\n\u001b[33m*    1. parameters                             *\u001b[0m\n\u001b[33m*    2. *args                                  *\u001b[0m\n\u001b[33m*    3. default parameters                     *\u001b[0m\n\u001b[33m*    4. **kwargs                               *\u001b[0m\n\u001b[33m*                                              *\u001b[0m\n\u001b[33m************************************************\u001b[0m\n\n<class 'tuple'>\n[1, 2, (3, 4, 5), 'Colt', {'last_name': 'Steele', 'job': 'Instructor'}]\n"
    }
   ],
   "source": [
    "from modules.printutils import *\n",
    "\n",
    "big_banner(\"\"\"\n",
    "    Functions: parameter ordering\n",
    "    -----------------------------\n",
    "    The proper way to order parameters is:\n",
    "    \n",
    "    1. parameters\n",
    "    2. *args\n",
    "    3. default parameters\n",
    "    4. **kwargs\n",
    "\"\"\")\n",
    "\n",
    "# ----------------------------------------\n",
    "\n",
    "def display_info(a, b, *args, instructor=\"Colt\", **kwargs):\n",
    "    print(type(args))\n",
    "    return [a, b, args, instructor, kwargs]\n",
    "\n",
    "print(display_info(1, 2, 3, 4, 5, last_name=\"Steele\", job=\"Instructor\"))\n",
    "\n",
    "# a - 1\n",
    "# b - 2\n",
    "# args (3, 4, 5)\n",
    "# instructor - \"Colt\"\n",
    "# kwargs - {'last_name': \"Steele\", \"job\": \"Instructor\"}\n"
   ]
  },
  {
   "cell_type": "code",
   "execution_count": 12,
   "metadata": {
    "tags": []
   },
   "outputs": [
    {
     "output_type": "stream",
     "name": "stdout",
     "text": "\n\u001b[33m***********************************\u001b[0m\n\u001b[33m*                                 *\u001b[0m\n\u001b[33m*    Functions: Return keyword    *\u001b[0m\n\u001b[33m*                                 *\u001b[0m\n\u001b[33m***********************************\u001b[0m\n\n49\n49\n"
    }
   ],
   "source": [
    "from modules.printutils import *\n",
    "\n",
    "big_banner(\"Functions: Return keyword\")\n",
    "\n",
    "# ----------------------------------------\n",
    "\n",
    "def print_square_of_7():\n",
    "    print(7**2)\n",
    "\n",
    "print_square_of_7()\n",
    "\n",
    "# ----------------------------------------\n",
    "\n",
    "def square_of_7():\n",
    "    return 7**2\n",
    "    # this never runs, it's after return\n",
    "    print(\"after the return\")\n",
    "\n",
    "print(square_of_7())"
   ]
  },
  {
   "cell_type": "code",
   "execution_count": 13,
   "metadata": {
    "tags": []
   },
   "outputs": [
    {
     "output_type": "stream",
     "name": "stdout",
     "text": "\n\u001b[33m********************************************\u001b[0m\n\u001b[33m*                                          *\u001b[0m\n\u001b[33m*    Functions: *args                      *\u001b[0m\n\u001b[33m*    ----------------                      *\u001b[0m\n\u001b[33m*    represents all remaining arguments    *\u001b[0m\n\u001b[33m*    passed into a function                *\u001b[0m\n\u001b[33m*                                          *\u001b[0m\n\u001b[33m********************************************\u001b[0m\n\n29\n321\n\n\u001b[33m---------------------------------\u001b[0m\n\u001b[33m    String comparison example\u001b[0m\n\u001b[33m---------------------------------\u001b[0m\n\nHowdy Colt!\nNot sure who you are…\n\n\u001b[33m-------------------\u001b[0m\n\u001b[33m    Exercise 57\u001b[0m\n\u001b[33m-------------------\u001b[0m\n\nTrue\nFalse\n"
    }
   ],
   "source": [
    "from modules.printutils import *\n",
    "\n",
    "big_banner(\"\"\"\n",
    "    Functions: *args\n",
    "    ----------------\n",
    "    represents all remaining arguments\n",
    "    passed into a function\n",
    "\"\"\")\n",
    "\n",
    "# ----------------------------------------\n",
    "\n",
    "def sum_all_nums(*args):\n",
    "    total = 0\n",
    "    for num in args:\n",
    "        total += num\n",
    "    return total\n",
    "\n",
    "print(sum_all_nums(1,5,23))\n",
    "print(sum_all_nums(1,5,23,200,58,25,9))\n",
    "\n",
    "\n",
    "banner(\"String comparison example\")\n",
    "# ----------------------------------------\n",
    "def correct_info(*names):\n",
    "    if \"Colt\" in names and \"Steele\" in names:\n",
    "        return \"Howdy Colt!\"\n",
    "    else:\n",
    "        return \"Not sure who you are…\"\n",
    "\n",
    "print(correct_info(\"Colt\", \"Mandrake\", \"Alex\", \"Steele\", \"Milly\"))\n",
    "print(correct_info(\"Colt\", \"Mandrake\", \"Alex\", \"Milly\"))\n",
    "\n",
    "\n",
    "banner(\"Exercise 57\")\n",
    "# ----------------------------------------\n",
    "def contains_purple(*colors):\n",
    "    return \"purple\" in colors\n",
    "\n",
    "print(contains_purple('red', 'orange', 'purple'))\n",
    "print(contains_purple('red', 'orange'))"
   ]
  },
  {
   "cell_type": "code",
   "execution_count": 14,
   "metadata": {
    "tags": []
   },
   "outputs": [
    {
     "output_type": "stream",
     "name": "stdout",
     "text": "\n\u001b[33m***********************************************\u001b[0m\n\u001b[33m*                                             *\u001b[0m\n\u001b[33m*    Functions: *kwargs                       *\u001b[0m\n\u001b[33m*    ----------------                         *\u001b[0m\n\u001b[33m*    • Gathers remaining keyword arguments    *\u001b[0m\n\u001b[33m*    as a dict                                *\u001b[0m\n\u001b[33m*                                             *\u001b[0m\n\u001b[33m***********************************************\u001b[0m\n\n{'colt': 'purple', 'ruby': 'red', 'ethel': 'teal'}\n\ncolt's favorite color is purple\nruby's favorite color is red\nethel's favorite color is teal\n\nHello David!\nNot sure who this is...\nYou get a special greeting David!\nYou get a special greeting David!\n\n\u001b[33m-------------------\u001b[0m\n\u001b[33m    Exercise 58\u001b[0m\n\u001b[33m-------------------\u001b[0m\n\nchild\nmanchild\nchildish\n"
    }
   ],
   "source": [
    "from modules.printutils import *\n",
    "\n",
    "big_banner(\"\"\"\n",
    "    Functions: *kwargs\n",
    "    ----------------\n",
    "    • Gathers remaining keyword arguments\n",
    "      as a dict\n",
    "\"\"\")\n",
    "\n",
    "# ----------------------------------------\n",
    "\n",
    "def dump_fav_colors(**colors):\n",
    "    return colors\n",
    "\n",
    "print(dump_fav_colors(colt=\"purple\", ruby=\"red\", ethel=\"teal\"))\n",
    "\n",
    "bl()\n",
    "\n",
    "def fav_colors(**colors):\n",
    "    for person, color in colors.items():\n",
    "        print(f\"{person}'s favorite color is {color}\")\n",
    "\n",
    "fav_colors(colt=\"purple\", ruby=\"red\", ethel=\"teal\")\n",
    "\n",
    "\n",
    "bl()\n",
    "\n",
    "def special_greeting(**kwargs):\n",
    "    if \"David\" in kwargs and kwargs[\"David\"] == \"special\":\n",
    "        return \"You get a special greeting David!\"\n",
    "    elif \"David\" in kwargs:\n",
    "        return f\"{kwargs['David']} David!\"\n",
    "\n",
    "    return \"Not sure who this is...\"\n",
    "\n",
    "print(special_greeting(David='Hello')) # Hello David!\n",
    "print(special_greeting(Bob='hello')) # Not sure who this is...\n",
    "print(special_greeting(David='special')) # You get a special greeting David!\n",
    "\n",
    "print(special_greeting(Heather=\"hello\", David=\"special\"))\n",
    "\n",
    "\n",
    "banner(\"Exercise 58\")\n",
    "# ----------------------------------------\n",
    "def combine_words(word, **pre_suf):\n",
    "    if pre_suf.get('prefix'):\n",
    "        return pre_suf['prefix'] + word\n",
    "    if pre_suf.get('suffix'):\n",
    "        return word + pre_suf['suffix']\n",
    "    return word\n",
    "\n",
    "print(combine_words(\"child\"))\n",
    "print(combine_words(\"child\", prefix=\"man\"))\n",
    "print(combine_words(\"child\", suffix=\"ish\"))"
   ]
  },
  {
   "cell_type": "markdown",
   "metadata": {
    "tags": []
   },
   "source": [
    "## Unpacking\n",
    "\n",
    "use * as argument to unpack arguments"
   ]
  },
  {
   "cell_type": "code",
   "execution_count": 30,
   "metadata": {},
   "outputs": [],
   "source": [
    "def sum_all_values(*args):\n",
    "    print(args)\n",
    "    total = 0\n",
    "    for num in args:\n",
    "        total += num\n",
    "    print(total)\n",
    "\n",
    "nums = [1,2,3,4,5,6]"
   ]
  },
  {
   "cell_type": "markdown",
   "metadata": {},
   "source": [
    "Turn the above list into a bunch of arguments, will work on lists or tuples equally as well"
   ]
  },
  {
   "cell_type": "code",
   "execution_count": null,
   "metadata": {},
   "outputs": [],
   "source": [
    "sum_all_values(*nums)"
   ]
  },
  {
   "cell_type": "markdown",
   "metadata": {},
   "source": [
    "### Unpacking dicts with **"
   ]
  },
  {
   "cell_type": "code",
   "execution_count": 26,
   "metadata": {},
   "outputs": [],
   "source": [
    "def display_names(first, second):\n",
    "    print(f\"{first} says hello to {second}\")\n",
    "\n",
    "names = {\"first\": \"Colt\", \"second\": \"Rusty\"}"
   ]
  },
  {
   "cell_type": "code",
   "execution_count": 27,
   "metadata": {},
   "outputs": [
    {
     "output_type": "error",
     "ename": "TypeError",
     "evalue": "display_names() missing 1 required positional argument: 'second'",
     "traceback": [
      "\u001b[0;31m---------------------------------------------------------------------------\u001b[0m",
      "\u001b[0;31mTypeError\u001b[0m                                 Traceback (most recent call last)",
      "\u001b[0;32m<ipython-input-27-3f2dc36c1a16>\u001b[0m in \u001b[0;36m<module>\u001b[0;34m\u001b[0m\n\u001b[0;32m----> 1\u001b[0;31m \u001b[0mdisplay_names\u001b[0m\u001b[0;34m(\u001b[0m\u001b[0mnames\u001b[0m\u001b[0;34m)\u001b[0m \u001b[0;31m# nope..\u001b[0m\u001b[0;34m\u001b[0m\u001b[0;34m\u001b[0m\u001b[0m\n\u001b[0m",
      "\u001b[0;31mTypeError\u001b[0m: display_names() missing 1 required positional argument: 'second'"
     ]
    }
   ],
   "source": [
    "display_names(names) # nope.."
   ]
  },
  {
   "cell_type": "code",
   "execution_count": 25,
   "metadata": {
    "tags": []
   },
   "outputs": [
    {
     "output_type": "stream",
     "name": "stdout",
     "text": "Colt says hello to Rusty\n"
    }
   ],
   "source": [
    "display_names(**names)  # yup!"
   ]
  },
  {
   "cell_type": "code",
   "execution_count": 20,
   "metadata": {
    "tags": []
   },
   "outputs": [
    {
     "output_type": "stream",
     "name": "stdout",
     "text": "7\nOTHER STUFF....\n{'d': 55, 'name': 'Tony'}\n"
    }
   ],
   "source": [
    "def add_and_multiply_numbers(a,b,c,**kwargs):\n",
    "    print(a + b * c)\n",
    "    print(\"OTHER STUFF....\")\n",
    "    print(kwargs)\n",
    "\n",
    "data = dict(a=1,b=2,c=3,d=55,name=\"Tony\")\n",
    "\n",
    "add_and_multiply_numbers(**data) # 7"
   ]
  },
  {
   "cell_type": "markdown",
   "metadata": {
    "tags": []
   },
   "source": [
    "### Exercise 39\n",
    "    \n",
    "* Define a function called generate_evens\n",
    "* It should return a list of even numbers between \n",
    "* 1 and 50(not including 50)"
   ]
  },
  {
   "cell_type": "code",
   "execution_count": null,
   "metadata": {},
   "outputs": [],
   "source": [
    "def generate_evens():\n",
    "    return [num for num in range(1, 50)][1::2]\n",
    "\n",
    "generate_evens()"
   ]
  },
  {
   "cell_type": "markdown",
   "metadata": {},
   "source": [
    "could also do this, which is probably more clear"
   ]
  },
  {
   "cell_type": "code",
   "execution_count": null,
   "metadata": {},
   "outputs": [],
   "source": [
    "def generate_evens_2():\n",
    "    return [num for num in range(1, 50) if num%2 == 0]"
   ]
  },
  {
   "cell_type": "markdown",
   "metadata": {},
   "source": [
    "### Exercise 40"
   ]
  },
  {
   "cell_type": "code",
   "execution_count": 32,
   "metadata": {},
   "outputs": [
    {
     "output_type": "execute_result",
     "data": {
      "text/plain": "'HI THERE!'"
     },
     "metadata": {},
     "execution_count": 32
    }
   ],
   "source": [
    "def yell(phrase):\n",
    "    return phrase.upper() + \"!\"\n",
    "\n",
    "yell('Hi There')"
   ]
  },
  {
   "cell_type": "code",
   "execution_count": null,
   "metadata": {},
   "outputs": [],
   "source": []
  }
 ]
}