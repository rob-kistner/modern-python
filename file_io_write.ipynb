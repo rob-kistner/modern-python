{
 "metadata": {
  "language_info": {
   "codemirror_mode": {
    "name": "ipython",
    "version": 3
   },
   "file_extension": ".py",
   "mimetype": "text/x-python",
   "name": "python",
   "nbconvert_exporter": "python",
   "pygments_lexer": "ipython3",
   "version": "3.8.5-final"
  },
  "orig_nbformat": 2,
  "kernelspec": {
   "name": "python_defaultSpec_1599065960202",
   "display_name": "Python 3.8.5 64-bit"
  }
 },
 "nbformat": 4,
 "nbformat_minor": 2,
 "cells": [
  {
   "cell_type": "markdown",
   "metadata": {},
   "source": [
    "# File IO: Write\n",
    "\n",
    "## Open & Write\n",
    "\n",
    "Using `open`, add a \"w\" paramater to specify write:"
   ]
  },
  {
   "cell_type": "code",
   "execution_count": 12,
   "metadata": {},
   "outputs": [],
   "source": [
    "with open(\"file_io_write.txt\", \"w\") as file:\n",
    "    file.write(\"Writing the first line\\n\")\n",
    "    file.write(\"And a second line\\n\")\n",
    "    file.write(\"And this would be the third and final line.\")"
   ]
  },
  {
   "cell_type": "markdown",
   "metadata": {},
   "source": [
    "If you did another operation to the same text file, it'll just overwrite whatever's in there…"
   ]
  },
  {
   "cell_type": "code",
   "execution_count": 13,
   "metadata": {},
   "outputs": [],
   "source": [
    "with open(\"file_io_write.txt\", \"w\") as file:\n",
    "    file.write(\"Here's a haiku\\n\")\n",
    "    file.write(\"What about the older one\\n\")\n",
    "    file.write(\"Let's go check it out\")"
   ]
  },
  {
   "cell_type": "markdown",
   "metadata": {},
   "source": [
    "## Modes for Opening Files\n",
    "\n",
    "`r`: read\n",
    "\n",
    "`w`: write (overwrite whatever's there)\n",
    "\n",
    "`a`: append (add to end of a file)\n",
    "\n",
    "`r+`: read+ (read and write to a file based on a cursor)"
   ]
  },
  {
   "cell_type": "markdown",
   "metadata": {},
   "source": [
    "### Append"
   ]
  },
  {
   "cell_type": "code",
   "execution_count": 18,
   "metadata": {},
   "outputs": [],
   "source": [
    "with open(\"file_io_append.txt\", \"w\") as file:\n",
    "    file.write(\"First line in a text file.\\n\")\n",
    "\n",
    "with open(\"file_io_append.txt\", \"a\") as file:\n",
    "    file.write(\"Here's a new line appended to the file.\\n\")"
   ]
  },
  {
   "cell_type": "markdown",
   "metadata": {},
   "source": [
    "### Read+"
   ]
  },
  {
   "cell_type": "markdown",
   "metadata": {},
   "source": [
    "By using `r+`, you can move the cursor up to the top of the file and perform operations from there.\n",
    "\n",
    "**Important Note:**\n",
    "\n",
    "`r+` mode does **NOT** create files if they don't already exist like `w` and `a` will."
   ]
  },
  {
   "cell_type": "code",
   "execution_count": 20,
   "metadata": {},
   "outputs": [],
   "source": [
    "with open(\"file_io_append.txt\", \"r+\") as file:\n",
    "    file.write(\"Added using r+.\\n\")"
   ]
  },
  {
   "cell_type": "markdown",
   "metadata": {},
   "source": [
    "Also, by using `r+`, you can use `seek(n)` to move the cursor to the nth position and write from there…"
   ]
  },
  {
   "cell_type": "code",
   "execution_count": 21,
   "metadata": {},
   "outputs": [],
   "source": [
    "with open(\"file_io_append.txt\", \"r+\") as file:\n",
    "    file.seek(10)\n",
    "    file.write(\":)\")"
   ]
  },
  {
   "cell_type": "markdown",
   "metadata": {},
   "source": [
    "### Exercise 95: Copy\n",
    "\n",
    "Open `orig_file`, copy it's contents into `new_file`"
   ]
  },
  {
   "cell_type": "code",
   "execution_count": 25,
   "metadata": {},
   "outputs": [],
   "source": [
    "def copy(orig_file, new_file):\n",
    "    orig_file_content = open(orig_file)\n",
    "    orig_content = orig_file_content.read()\n",
    "    with open(new_file, \"w\") as new:\n",
    "        new.write(orig_content)\n",
    "\n",
    "copy(\"file_io_write.txt\", \"file_io_write_new.txt\")"
   ]
  },
  {
   "cell_type": "markdown",
   "metadata": {},
   "source": [
    "### Exercise 97: Statistics\n",
    "\n",
    "Given a filename, return a dictionary with the number of lines, words, and characters in the file."
   ]
  },
  {
   "cell_type": "code",
   "execution_count": 7,
   "metadata": {},
   "outputs": [
    {
     "output_type": "execute_result",
     "data": {
      "text/plain": "{'lines': 4, 'words': 17, 'characters': 111}"
     },
     "metadata": {},
     "execution_count": 7
    }
   ],
   "source": [
    "def statistics(file_name):\n",
    "    with open(file_name) as file:\n",
    "        lines = file.readlines()\n",
    " \n",
    "    return {\n",
    "        \"lines\": len(lines),\n",
    "        \"words\": sum(len(line.split(\" \")) for line in lines),\n",
    "        \"characters\": sum(len(line) for line in lines)\n",
    "    }"
   ]
  },
  {
   "cell_type": "markdown",
   "metadata": {},
   "source": [
    "### Exercise 98: Find & Replace\n",
    "\n",
    "Open a file, look for a provided word, replace that word in the file"
   ]
  },
  {
   "cell_type": "code",
   "execution_count": 4,
   "metadata": {
    "tags": []
   },
   "outputs": [
    {
     "output_type": "stream",
     "name": "stdout",
     "text": "This short story is really short, not meh.\nNow it's a little meh.\nThe end isn't meh.\n"
    }
   ],
   "source": [
    "def find_and_replace(file_name, old_word, new_word):\n",
    "    with open(file_name, \"r+\") as file:\n",
    "        text = file.read()\n",
    "        new_text = text.replace(old_word, new_word)\n",
    "        file.seek(0)\n",
    "        file.write(new_text)\n",
    "        file.truncate()\n",
    "\n",
    "filename = \"file_io_story.txt\"\n",
    "find_and_replace(filename, \"longest\", \"meh\")\n",
    "with open(filename) as file:\n",
    "    print(file.read())\n"
   ]
  },
  {
   "cell_type": "code",
   "execution_count": null,
   "metadata": {},
   "outputs": [],
   "source": []
  }
 ]
}