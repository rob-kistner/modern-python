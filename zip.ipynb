{
 "metadata": {
  "language_info": {
   "codemirror_mode": {
    "name": "ipython",
    "version": 3
   },
   "file_extension": ".py",
   "mimetype": "text/x-python",
   "name": "python",
   "nbconvert_exporter": "python",
   "pygments_lexer": "ipython3",
   "version": 3
  },
  "orig_nbformat": 2,
  "kernelspec": {
   "name": "python_defaultSpec_1596470550377",
   "display_name": "Python 3.8.5 64-bit"
  }
 },
 "nbformat": 4,
 "nbformat_minor": 2,
 "cells": [
  {
   "cell_type": "markdown",
   "metadata": {},
   "source": [
    "# zip\n",
    "\n",
    "Makes an iterator that aggregates elements from each of the iterables."
   ]
  },
  {
   "cell_type": "markdown",
   "metadata": {},
   "source": [
    "zipping two simple lists"
   ]
  },
  {
   "cell_type": "code",
   "execution_count": 46,
   "metadata": {},
   "outputs": [],
   "source": [
    "list1 = [1,2,3]\n",
    "list2 = [4,5,6]\n",
    "thelists = zip(list1, list2)"
   ]
  },
  {
   "cell_type": "markdown",
   "metadata": {},
   "source": [
    "Zipped"
   ]
  },
  {
   "cell_type": "code",
   "execution_count": 47,
   "metadata": {
    "tags": []
   },
   "outputs": [
    {
     "output_type": "stream",
     "name": "stdout",
     "text": "(1, 4)\n(2, 5)\n(3, 6)\n"
    }
   ],
   "source": [
    "for item in thelists:\n",
    "    print(item)"
   ]
  },
  {
   "cell_type": "markdown",
   "metadata": {},
   "source": [
    "Stops at shortest iterable"
   ]
  },
  {
   "cell_type": "code",
   "execution_count": 48,
   "metadata": {
    "tags": []
   },
   "outputs": [
    {
     "output_type": "stream",
     "name": "stdout",
     "text": "(1, 6)\n(2, 7)\n(3, 8)\n"
    }
   ],
   "source": [
    "list1 = [1,2,3,4,5]\n",
    "list2 = [6,7,8]\n",
    "\n",
    "thelists = zip(list1, list2)\n",
    "\n",
    "for item in thelists:\n",
    "    print(item)"
   ]
  },
  {
   "cell_type": "markdown",
   "metadata": {},
   "source": [
    "You're not limited to two iterables"
   ]
  },
  {
   "cell_type": "code",
   "execution_count": 49,
   "metadata": {
    "tags": []
   },
   "outputs": [
    {
     "output_type": "stream",
     "name": "stdout",
     "text": "(1, 6, 'Hi')\n(2, 7, 'Howareya')\n(3, 8, 'Howdy')\n"
    }
   ],
   "source": [
    "list1 = [1,2,3]\n",
    "list2 = [6,7,8]\n",
    "list3 = [\"Hi\", \"Howareya\", \"Howdy\"]\n",
    "\n",
    "thelists = zip(list1, list2, list3)\n",
    "\n",
    "for item in thelists:\n",
    "    print(item)"
   ]
  },
  {
   "cell_type": "markdown",
   "metadata": {},
   "source": [
    "The star operator will unpack a list that's zipped: `zip(*listoflists)`"
   ]
  },
  {
   "cell_type": "code",
   "execution_count": 50,
   "metadata": {},
   "outputs": [
    {
     "output_type": "execute_result",
     "data": {
      "text/plain": "[(0, 1, 2, 3, 4), (1, 2, 3, 4, 5)]"
     },
     "metadata": {},
     "execution_count": 50
    }
   ],
   "source": [
    "five_by_two = [(0,1), (1,2), (2,3), (3,4), (4,5)]\n",
    "\n",
    "list(zip(*five_by_two))"
   ]
  },
  {
   "cell_type": "markdown",
   "metadata": {},
   "source": [
    "### Final grades example"
   ]
  },
  {
   "cell_type": "code",
   "execution_count": 51,
   "metadata": {},
   "outputs": [],
   "source": [
    "midterms = [80, 91, 78]\n",
    "finals = [98, 89, 53]\n",
    "students = ['dan', 'ang', 'kate']"
   ]
  },
  {
   "cell_type": "markdown",
   "metadata": {},
   "source": [
    "Goal: make a dict that looks like…\n",
    "\n",
    "`final_grades = {'dan': 98, 'ang': 91, 'kate': 78}`"
   ]
  },
  {
   "cell_type": "markdown",
   "metadata": {},
   "source": [
    "Comprehension with max"
   ]
  },
  {
   "cell_type": "code",
   "execution_count": 52,
   "metadata": {},
   "outputs": [
    {
     "output_type": "execute_result",
     "data": {
      "text/plain": "{'dan': 98, 'ang': 91, 'kate': 78}"
     },
     "metadata": {},
     "execution_count": 52
    }
   ],
   "source": [
    "{t[0]:max(t[1], t[2]) for t in zip(students, midterms, finals)}"
   ]
  },
  {
   "cell_type": "markdown",
   "metadata": {},
   "source": [
    "Zip & map method"
   ]
  },
  {
   "cell_type": "code",
   "execution_count": 53,
   "metadata": {},
   "outputs": [
    {
     "output_type": "execute_result",
     "data": {
      "text/plain": "{'dan': 98, 'ang': 91, 'kate': 78}"
     },
     "metadata": {},
     "execution_count": 53
    }
   ],
   "source": [
    "\n",
    "final_grades = dict(\n",
    "    zip(\n",
    "        students,\n",
    "        map(\n",
    "            lambda pair: max(pair),\n",
    "            zip(midterms, finals)\n",
    "        )\n",
    "    )\n",
    ")\n",
    "\n",
    "final_grades"
   ]
  },
  {
   "cell_type": "markdown",
   "metadata": {},
   "source": [
    "zip & map averging method"
   ]
  },
  {
   "cell_type": "code",
   "execution_count": 54,
   "metadata": {},
   "outputs": [
    {
     "output_type": "execute_result",
     "data": {
      "text/plain": "{'dan': 89.0, 'ang': 90.0, 'kate': 65.5}"
     },
     "metadata": {},
     "execution_count": 54
    }
   ],
   "source": [
    "final_grades = dict(\n",
    "    zip(\n",
    "        students,\n",
    "        map(\n",
    "            lambda pair: ((pair[0] + pair[1])/2),\n",
    "            zip(midterms, finals)\n",
    "        )\n",
    "    )\n",
    ")\n",
    "\n",
    "final_grades"
   ]
  },
  {
   "cell_type": "markdown",
   "metadata": {},
   "source": [
    "### Exercise 69"
   ]
  },
  {
   "cell_type": "code",
   "execution_count": 55,
   "metadata": {},
   "outputs": [
    {
     "output_type": "execute_result",
     "data": {
      "text/plain": "'hmiq'"
     },
     "metadata": {},
     "execution_count": 55
    }
   ],
   "source": [
    "def interleave(str1, str2):\n",
    "    \"\"\"\n",
    "    return a string of interleaved 2 strings\n",
    "    \"\"\"\n",
    "    return ''.join(''.join(x) for x in zip(str1, str2))\n",
    "\n",
    "interleave(\"hi\", \"mq\")"
   ]
  },
  {
   "cell_type": "markdown",
   "metadata": {},
   "source": [
    "### Exercise 70\n",
    "\n",
    "* `triple_and_filter([1,2,3,4])` should give us `[12]`\n",
    "* `triple_and_filter([6,8,10,12])` should give us `[24,36]`"
   ]
  },
  {
   "cell_type": "code",
   "execution_count": 56,
   "metadata": {},
   "outputs": [
    {
     "output_type": "execute_result",
     "data": {
      "text/plain": "[12]"
     },
     "metadata": {},
     "execution_count": 56
    }
   ],
   "source": [
    "def triple_and_filter(lst):\n",
    "    return list(filter(lambda x: x % 4 == 0, map(lambda x: x*3, lst)))\n",
    "\n",
    "triple_and_filter([1,2,3,4])"
   ]
  },
  {
   "cell_type": "code",
   "execution_count": 57,
   "metadata": {},
   "outputs": [
    {
     "output_type": "execute_result",
     "data": {
      "text/plain": "[24, 36]"
     },
     "metadata": {},
     "execution_count": 57
    }
   ],
   "source": [
    "triple_and_filter([6,8,10,12])"
   ]
  },
  {
   "cell_type": "markdown",
   "metadata": {},
   "source": [
    "### Exercise 70"
   ]
  },
  {
   "cell_type": "code",
   "execution_count": 58,
   "metadata": {},
   "outputs": [
    {
     "output_type": "execute_result",
     "data": {
      "text/plain": "['Elie Schoppik', 'Colt Steele']"
     },
     "metadata": {},
     "execution_count": 58
    }
   ],
   "source": [
    "def extract_full_name(lst):\n",
    "    return list(map(lambda val: f\"{val['first']} {val['last']}\", lst))\n",
    "\n",
    "names = [{'first': 'Elie', 'last': 'Schoppik'}, {'first': 'Colt', 'last': 'Steele'}]\n",
    "\n",
    "extract_full_name(names)"
   ]
  }
 ]
}