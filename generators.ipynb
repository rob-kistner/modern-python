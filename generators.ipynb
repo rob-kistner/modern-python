{
 "metadata": {
  "language_info": {
   "codemirror_mode": {
    "name": "ipython",
    "version": 3
   },
   "file_extension": ".py",
   "mimetype": "text/x-python",
   "name": "python",
   "nbconvert_exporter": "python",
   "pygments_lexer": "ipython3",
   "version": 3
  },
  "orig_nbformat": 2,
  "kernelspec": {
   "name": "python_defaultSpec_1596474927682",
   "display_name": "Python 3.8.5 64-bit"
  }
 },
 "nbformat": 4,
 "nbformat_minor": 2,
 "cells": [
  {
   "cell_type": "markdown",
   "metadata": {},
   "source": [
    "# Generators\n",
    "\n",
    "The below function reates generator when run.\n",
    "\n",
    "Returns value of count then pauses immediately after until next it called.\n",
    "\n",
    "Note how you don't need to return anything specifically."
   ]
  },
  {
   "cell_type": "code",
   "execution_count": 3,
   "metadata": {
    "tags": []
   },
   "outputs": [
    {
     "output_type": "execute_result",
     "data": {
      "text/plain": "<generator object count_up_to at 0x114659f20>"
     },
     "metadata": {},
     "execution_count": 3
    }
   ],
   "source": [
    "def count_up_to(max):\n",
    "    count = 1\n",
    "    while count <= max:\n",
    "        yield count\n",
    "        count += 1\n",
    "\n",
    "count_up_to(5)"
   ]
  },
  {
   "cell_type": "markdown",
   "metadata": {},
   "source": [
    "Assign the generator to `counter`. Step through it one line at a time."
   ]
  },
  {
   "cell_type": "code",
   "execution_count": 4,
   "metadata": {
    "tags": []
   },
   "outputs": [
    {
     "output_type": "stream",
     "name": "stdout",
     "text": "1\n2\n3\n4\n5\n"
    }
   ],
   "source": [
    "counter = count_up_to(5)\n",
    "\n",
    "print(next(counter))\n",
    "print(next(counter))\n",
    "print(next(counter))\n",
    "print(next(counter))\n",
    "print(next(counter))"
   ]
  },
  {
   "cell_type": "markdown",
   "metadata": {},
   "source": [
    "One more raises a `StopIteration` error, max has been reached…"
   ]
  },
  {
   "cell_type": "code",
   "execution_count": 8,
   "metadata": {},
   "outputs": [
    {
     "output_type": "error",
     "ename": "StopIteration",
     "evalue": "",
     "traceback": [
      "\u001b[0;31m---------------------------------------------------------------------------\u001b[0m",
      "\u001b[0;31mStopIteration\u001b[0m                             Traceback (most recent call last)",
      "\u001b[0;32m<ipython-input-8-dd87959cd01e>\u001b[0m in \u001b[0;36m<module>\u001b[0;34m\u001b[0m\n\u001b[0;32m----> 1\u001b[0;31m \u001b[0mnext\u001b[0m\u001b[0;34m(\u001b[0m\u001b[0mcounter\u001b[0m\u001b[0;34m)\u001b[0m\u001b[0;34m\u001b[0m\u001b[0;34m\u001b[0m\u001b[0m\n\u001b[0m",
      "\u001b[0;31mStopIteration\u001b[0m: "
     ]
    }
   ],
   "source": [
    "next(counter)"
   ]
  },
  {
   "cell_type": "markdown",
   "metadata": {
    "tags": []
   },
   "source": [
    "For loop through generator"
   ]
  },
  {
   "cell_type": "code",
   "execution_count": 6,
   "metadata": {
    "tags": []
   },
   "outputs": [
    {
     "output_type": "stream",
     "name": "stdout",
     "text": "1\n2\n3\n4\n5\n6\n7\n8\n9\n10\n"
    }
   ],
   "source": [
    "counter = count_up_to(10)\n",
    "\n",
    "for num in counter:\n",
    "    print(num)"
   ]
  },
  {
   "cell_type": "markdown",
   "metadata": {},
   "source": [
    "For loop through generator, but call `next()` 1 time before starting"
   ]
  },
  {
   "cell_type": "code",
   "execution_count": 7,
   "metadata": {
    "tags": []
   },
   "outputs": [
    {
     "output_type": "stream",
     "name": "stdout",
     "text": "2\n3\n4\n5\n6\n7\n8\n9\n10\n"
    }
   ],
   "source": [
    "counter = count_up_to(10)\n",
    "\n",
    "next(counter)\n",
    "for num in counter:\n",
    "    print(num)"
   ]
  },
  {
   "cell_type": "markdown",
   "metadata": {},
   "source": [
    "## Beat Generator\n",
    "\n",
    "Create a metronome using a generator"
   ]
  },
  {
   "cell_type": "markdown",
   "metadata": {},
   "source": [
    "The rediculous long way using a function with a while loop…"
   ]
  },
  {
   "cell_type": "code",
   "execution_count": 12,
   "metadata": {},
   "outputs": [
    {
     "output_type": "execute_result",
     "data": {
      "text/plain": "[1, 2, 3, 4, 1, 2, 3, 4, 1, 2, 3, 4, 1, 2, 3, 4, 1, 2, 3, 4, 1, 2, 3, 4]"
     },
     "metadata": {},
     "execution_count": 12
    }
   ],
   "source": [
    "def current_beat():\n",
    "    max = 24\n",
    "    nums = (1,2,3,4)\n",
    "    i = 0\n",
    "    result = []\n",
    "    while len(result) < max:\n",
    "        if i >= len(nums): i = 0\n",
    "        result.append(nums[i])\n",
    "        i += 1\n",
    "    return result\n",
    "\n",
    "current_beat()"
   ]
  },
  {
   "cell_type": "markdown",
   "metadata": {},
   "source": [
    "Doing the same thing with a generator…"
   ]
  },
  {
   "cell_type": "code",
   "execution_count": 23,
   "metadata": {},
   "outputs": [],
   "source": [
    "def current_beat():\n",
    "    nums = (1, 2, 3, 4)\n",
    "    i = 0\n",
    "    while True:\n",
    "        if i >= len(nums): i=0\n",
    "        yield nums[i]\n",
    "        i += 1\n",
    "\n",
    "counter = current_beat()"
   ]
  },
  {
   "cell_type": "markdown",
   "metadata": {},
   "source": [
    "Just call counter when you need a beat…"
   ]
  },
  {
   "cell_type": "code",
   "execution_count": 24,
   "metadata": {},
   "outputs": [
    {
     "output_type": "execute_result",
     "data": {
      "text/plain": "1"
     },
     "metadata": {},
     "execution_count": 24
    }
   ],
   "source": [
    "next(counter)"
   ]
  },
  {
   "cell_type": "code",
   "execution_count": 25,
   "metadata": {},
   "outputs": [
    {
     "output_type": "execute_result",
     "data": {
      "text/plain": "2"
     },
     "metadata": {},
     "execution_count": 25
    }
   ],
   "source": [
    "next(counter)"
   ]
  },
  {
   "cell_type": "code",
   "execution_count": 26,
   "metadata": {},
   "outputs": [
    {
     "output_type": "execute_result",
     "data": {
      "text/plain": "3"
     },
     "metadata": {},
     "execution_count": 26
    }
   ],
   "source": [
    "next(counter)"
   ]
  },
  {
   "cell_type": "code",
   "execution_count": 27,
   "metadata": {},
   "outputs": [
    {
     "output_type": "execute_result",
     "data": {
      "text/plain": "4"
     },
     "metadata": {},
     "execution_count": 27
    }
   ],
   "source": [
    "next(counter)"
   ]
  },
  {
   "cell_type": "code",
   "execution_count": 28,
   "metadata": {},
   "outputs": [
    {
     "output_type": "execute_result",
     "data": {
      "text/plain": "1"
     },
     "metadata": {},
     "execution_count": 28
    }
   ],
   "source": [
    "next(counter)"
   ]
  },
  {
   "cell_type": "code",
   "execution_count": 29,
   "metadata": {},
   "outputs": [
    {
     "output_type": "execute_result",
     "data": {
      "text/plain": "2"
     },
     "metadata": {},
     "execution_count": 29
    }
   ],
   "source": [
    "next(counter)"
   ]
  },
  {
   "cell_type": "markdown",
   "metadata": {},
   "source": [
    "(infinitely…)"
   ]
  },
  {
   "cell_type": "markdown",
   "metadata": {},
   "source": [
    "## Exercise 86: Make a Song"
   ]
  },
  {
   "cell_type": "code",
   "execution_count": 74,
   "metadata": {},
   "outputs": [],
   "source": [
    "def make_song(verses=99, beverage=\"soda\"):\n",
    "    for num in range(verses, -1, -1):\n",
    "        if num > 1:\n",
    "            yield f\"{num} bottles of {beverage} on the wall\"\n",
    "        elif num == 1:\n",
    "            yield f\"Only 1 bottle of {beverage} left!\"\n",
    "        else:\n",
    "            yield \"No more {beverage}!\"\n",
    "\n",
    "default_song = make_song(5, \"beer\")"
   ]
  },
  {
   "cell_type": "code",
   "execution_count": 75,
   "metadata": {},
   "outputs": [
    {
     "output_type": "execute_result",
     "data": {
      "text/plain": "'5 bottles of beer on the wall'"
     },
     "metadata": {},
     "execution_count": 75
    }
   ],
   "source": [
    "next(default_song)"
   ]
  },
  {
   "cell_type": "code",
   "execution_count": 76,
   "metadata": {},
   "outputs": [
    {
     "output_type": "execute_result",
     "data": {
      "text/plain": "'4 bottles of beer on the wall'"
     },
     "metadata": {},
     "execution_count": 76
    }
   ],
   "source": [
    "next(default_song)"
   ]
  },
  {
   "cell_type": "code",
   "execution_count": 77,
   "metadata": {},
   "outputs": [
    {
     "output_type": "execute_result",
     "data": {
      "text/plain": "'3 bottles of beer on the wall'"
     },
     "metadata": {},
     "execution_count": 77
    }
   ],
   "source": [
    "next(default_song)"
   ]
  },
  {
   "cell_type": "code",
   "execution_count": 78,
   "metadata": {},
   "outputs": [
    {
     "output_type": "execute_result",
     "data": {
      "text/plain": "'2 bottles of beer on the wall'"
     },
     "metadata": {},
     "execution_count": 78
    }
   ],
   "source": [
    "next(default_song)"
   ]
  },
  {
   "cell_type": "code",
   "execution_count": 79,
   "metadata": {},
   "outputs": [
    {
     "output_type": "execute_result",
     "data": {
      "text/plain": "'Only 1 bottle of beer left!'"
     },
     "metadata": {},
     "execution_count": 79
    }
   ],
   "source": [
    "next(default_song)"
   ]
  },
  {
   "cell_type": "code",
   "execution_count": 80,
   "metadata": {},
   "outputs": [
    {
     "output_type": "execute_result",
     "data": {
      "text/plain": "'No more {beverage}!'"
     },
     "metadata": {},
     "execution_count": 80
    }
   ],
   "source": [
    "next(default_song)"
   ]
  },
  {
   "cell_type": "markdown",
   "metadata": {},
   "source": [
    "### Testing Memory with Generators"
   ]
  },
  {
   "cell_type": "code",
   "execution_count": 87,
   "metadata": {},
   "outputs": [],
   "source": [
    "def fib_list(max):\n",
    "    nums = []\n",
    "    a, b = 0, 1\n",
    "    while len(nums) < max:\n",
    "        nums.append(b)\n",
    "        a, b = b, a+b\n",
    "    return nums\n",
    "\n",
    "def fib_gen(max):\n",
    "    x = 0\n",
    "    y = 1\n",
    "    count = 0\n",
    "    while count < max:\n",
    "        x, y = y, x+y\n",
    "        yield x\n",
    "        count += 1"
   ]
  },
  {
   "cell_type": "markdown",
   "metadata": {},
   "source": [
    "Example of using the first list…"
   ]
  },
  {
   "cell_type": "code",
   "execution_count": 90,
   "metadata": {},
   "outputs": [
    {
     "output_type": "execute_result",
     "data": {
      "text/plain": "[1, 1, 2, 3, 5, 8, 13, 21, 34, 55]"
     },
     "metadata": {},
     "execution_count": 90
    }
   ],
   "source": [
    "fib_list(10)"
   ]
  },
  {
   "cell_type": "markdown",
   "metadata": {},
   "source": [
    "and the second list usage is the same…"
   ]
  },
  {
   "cell_type": "code",
   "execution_count": 92,
   "metadata": {},
   "outputs": [
    {
     "output_type": "execute_result",
     "data": {
      "text/plain": "(1, 1, 2, 3, 5, 8, 13, 21, 34, 55)"
     },
     "metadata": {},
     "execution_count": 92
    }
   ],
   "source": [
    "tuple(fib_gen(10))"
   ]
  },
  {
   "cell_type": "markdown",
   "metadata": {},
   "source": [
    "#### RESULT: Using 1,000,000 as the max number on these functions…\n",
    "\n",
    "Memory usage on the first function (the while-only function) is around 480mb since it's storing everything before it reaches the end of the list.\n",
    "\n",
    "**The Generator function (fib_gen) on the same test was only 6.7mb (!).**\n",
    "\n",
    "---\n",
    "\n",
    "**NOTE:**\n",
    "\n",
    "* Generators aren't necessarily **faster** but…\n",
    "* Generators are significantly better on memory\n",
    "\n",
    "So a large function creating lots of numbers into a list would definitely be a job for a generator instead of a conventional list with `.append()`"
   ]
  },
  {
   "cell_type": "markdown",
   "metadata": {},
   "source": [
    "## Exercise 87: Getting Multiples\n",
    "\n",
    "Write a function called `get_multiples` which accepts a number and a count, and returns a generator that yields the first count multiples of the number.\n",
    "\n",
    "The default number should be 1, and the default count should be 10.\n"
   ]
  },
  {
   "cell_type": "code",
   "execution_count": 3,
   "metadata": {},
   "outputs": [
    {
     "output_type": "execute_result",
     "data": {
      "text/plain": "[1, 2, 3, 4, 5, 6, 7, 8, 9, 10]"
     },
     "metadata": {},
     "execution_count": 3
    }
   ],
   "source": [
    "def get_multiples(num=1, count=10):\n",
    "    next_num = num\n",
    "    while count > 0:\n",
    "        yield next_num\n",
    "        count -= 1\n",
    "        next_num += num\n",
    "\n",
    "list(get_multiples())"
   ]
  },
  {
   "cell_type": "markdown",
   "metadata": {},
   "source": [
    "## Exercise 88: Get Unlimited Multiples\n",
    "\n",
    "Like above (ex 87), but accept a number and return a generator that will yield an unlimited number of multiples for that number.\n",
    "\n",
    "the default number should be 1"
   ]
  },
  {
   "cell_type": "code",
   "execution_count": null,
   "metadata": {},
   "outputs": [],
   "source": [
    "def get_unlimited_multiples(num=1):\n",
    "    next_num = num\n",
    "    while True:\n",
    "        yield next_num\n",
    "        next_num += num\n",
    "\n",
    "sevens = get_unlimited_multiples(7)\n",
    "[next(sevens) for i in range(15)]"
   ]
  },
  {
   "cell_type": "markdown",
   "metadata": {},
   "source": [
    "## Generator Expressions\n",
    "\n",
    "* Like list comprehensions are for lists\n",
    "* Use parens instead of list brackets"
   ]
  },
  {
   "cell_type": "code",
   "execution_count": 3,
   "metadata": {
    "tags": []
   },
   "outputs": [
    {
     "output_type": "execute_result",
     "data": {
      "text/plain": "1"
     },
     "metadata": {},
     "execution_count": 3
    }
   ],
   "source": [
    "def nums():\n",
    "    for num in range(1, 10):\n",
    "        yield(num)\n",
    "\n",
    "g = nums()\n",
    "\n",
    "next(g)"
   ]
  },
  {
   "cell_type": "code",
   "execution_count": 4,
   "metadata": {},
   "outputs": [
    {
     "output_type": "execute_result",
     "data": {
      "text/plain": "2"
     },
     "metadata": {},
     "execution_count": 4
    }
   ],
   "source": [
    "next(g)"
   ]
  },
  {
   "cell_type": "code",
   "execution_count": 5,
   "metadata": {},
   "outputs": [
    {
     "output_type": "execute_result",
     "data": {
      "text/plain": "3"
     },
     "metadata": {},
     "execution_count": 5
    }
   ],
   "source": [
    "next(g)"
   ]
  },
  {
   "cell_type": "markdown",
   "metadata": {},
   "source": [
    "Doing the same thing with a generator expression…"
   ]
  },
  {
   "cell_type": "code",
   "execution_count": 8,
   "metadata": {},
   "outputs": [
    {
     "output_type": "execute_result",
     "data": {
      "text/plain": "<generator object <genexpr> at 0x11083b120>"
     },
     "metadata": {},
     "execution_count": 8
    }
   ],
   "source": [
    "g2 = (num for num in range(1, 10))\n",
    "\n",
    "g2"
   ]
  },
  {
   "cell_type": "code",
   "execution_count": 9,
   "metadata": {},
   "outputs": [
    {
     "output_type": "execute_result",
     "data": {
      "text/plain": "1"
     },
     "metadata": {},
     "execution_count": 9
    }
   ],
   "source": [
    "next(g2)"
   ]
  },
  {
   "cell_type": "code",
   "execution_count": 10,
   "metadata": {},
   "outputs": [
    {
     "output_type": "execute_result",
     "data": {
      "text/plain": "2"
     },
     "metadata": {},
     "execution_count": 10
    }
   ],
   "source": [
    "next(g2)"
   ]
  },
  {
   "cell_type": "code",
   "execution_count": 11,
   "metadata": {},
   "outputs": [
    {
     "output_type": "execute_result",
     "data": {
      "text/plain": "3"
     },
     "metadata": {},
     "execution_count": 11
    }
   ],
   "source": [
    "next(g2)"
   ]
  },
  {
   "cell_type": "markdown",
   "metadata": {},
   "source": [
    "### Generator expression vs list comprehension timing\n",
    "\n",
    "Just to illustrate how much time you can save by using a generator expression vs. a list comprehension."
   ]
  },
  {
   "cell_type": "code",
   "execution_count": 39,
   "metadata": {
    "tags": []
   },
   "outputs": [
    {
     "output_type": "stream",
     "name": "stdout",
     "text": "449999985000000\n"
    },
    {
     "output_type": "execute_result",
     "data": {
      "text/plain": "1.6931829452514648"
     },
     "metadata": {},
     "execution_count": 39
    }
   ],
   "source": [
    "import time\n",
    "\n",
    "time_amt = 30000000\n",
    "\n",
    "gen_start_time = time.time()\n",
    "print(sum(n for n in range(time_amt)))\n",
    "gen_time = time.time() - gen_start_time\n",
    "\n",
    "gen_time"
   ]
  },
  {
   "cell_type": "code",
   "execution_count": 40,
   "metadata": {
    "tags": []
   },
   "outputs": [
    {
     "output_type": "stream",
     "name": "stdout",
     "text": "449999985000000\n"
    },
    {
     "output_type": "execute_result",
     "data": {
      "text/plain": "2.1397979259490967"
     },
     "metadata": {},
     "execution_count": 40
    }
   ],
   "source": [
    "list_start_time = time.time()\n",
    "print(sum([n for n in range(time_amt)]))\n",
    "list_time = time.time() - list_start_time\n",
    "\n",
    "list_time"
   ]
  },
  {
   "cell_type": "code",
   "execution_count": 36,
   "metadata": {},
   "outputs": [],
   "source": [
    "\n"
   ]
  }
 ]
}