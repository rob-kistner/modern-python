{
 "metadata": {
  "language_info": {
   "codemirror_mode": {
    "name": "ipython",
    "version": 3
   },
   "file_extension": ".py",
   "mimetype": "text/x-python",
   "name": "python",
   "nbconvert_exporter": "python",
   "pygments_lexer": "ipython3",
   "version": "3.8.5-final"
  },
  "orig_nbformat": 2,
  "kernelspec": {
   "name": "python_defaultSpec_1599066281387",
   "display_name": "Python 3.8.5 64-bit"
  }
 },
 "nbformat": 4,
 "nbformat_minor": 2,
 "cells": [
  {
   "cell_type": "markdown",
   "metadata": {},
   "source": [
    "# CSV & Pickling\n",
    "\n",
    "CSV can be read just like any other text file in Python, but there are specific functions for dealing with CSV files more easily.\n",
    "\n",
    "`reader`: makes all rows into a list\n",
    "\n",
    "`DictReader`: makes all rows into ordered dicts\n"
   ]
  },
  {
   "cell_type": "markdown",
   "metadata": {},
   "source": [
    "## Reader\n",
    "\n",
    "Returns a `reader` object that's iterable. As usual, that iterable is exhausted once used."
   ]
  },
  {
   "cell_type": "code",
   "execution_count": 4,
   "metadata": {
    "tags": []
   },
   "outputs": [
    {
     "output_type": "stream",
     "name": "stdout",
     "text": "['Name', 'Country', 'Height (in cm)']\n['Ryu', 'Japan', '175']\n['Ken', 'USA', '175']\n['Chun-Li', 'China', '165']\n['Guile', 'USA', '182']\n['E. Honda', 'Japan', '185']\n['Dhalsim', 'India', '176']\n['Blanka', 'Brazil', '192']\n['Zangief', 'Russia', '214']\n"
    }
   ],
   "source": [
    "from csv import reader\n",
    "\n",
    "with open(\"csv_files/fighters.csv\") as file:\n",
    "    csv_reader = reader(file)\n",
    "    for row in csv_reader:\n",
    "        print(row)\n"
   ]
  },
  {
   "cell_type": "markdown",
   "metadata": {},
   "source": [
    "## DictReader\n",
    "\n",
    "The same as `reader`, just return a collection type called OrderedDict. Here, we're casting to list instead of using the one-time iterator."
   ]
  },
  {
   "cell_type": "code",
   "execution_count": 8,
   "metadata": {
    "tags": []
   },
   "outputs": [
    {
     "output_type": "stream",
     "name": "stdout",
     "text": "{'Name': 'Ryu', 'Country': 'Japan', 'Height (in cm)': '175'}\n{'Name': 'Ken', 'Country': 'USA', 'Height (in cm)': '175'}\n{'Name': 'Chun-Li', 'Country': 'China', 'Height (in cm)': '165'}\n{'Name': 'Guile', 'Country': 'USA', 'Height (in cm)': '182'}\n{'Name': 'E. Honda', 'Country': 'Japan', 'Height (in cm)': '185'}\n{'Name': 'Dhalsim', 'Country': 'India', 'Height (in cm)': '176'}\n{'Name': 'Blanka', 'Country': 'Brazil', 'Height (in cm)': '192'}\n{'Name': 'Zangief', 'Country': 'Russia', 'Height (in cm)': '214'}\n"
    }
   ],
   "source": [
    "from csv import DictReader\n",
    "\n",
    "with open(\"csv_files/fighters.csv\") as file:\n",
    "    csv_reader = DictReader(file)\n",
    "    data = list(csv_reader)\n",
    "    for row in data:\n",
    "        print(row)"
   ]
  },
  {
   "cell_type": "markdown",
   "metadata": {},
   "source": [
    "You can use a delimiter other than a comma by specifying it in the `DictReader` command. (This shows ',' but could be anything)…"
   ]
  },
  {
   "cell_type": "code",
   "execution_count": 11,
   "metadata": {
    "tags": []
   },
   "outputs": [
    {
     "output_type": "stream",
     "name": "stdout",
     "text": "['Name', 'Country', 'Height (in cm)']\n['Ryu', 'Japan', '175']\n['Ken', 'USA', '175']\n['Chun-Li', 'China', '165']\n['Guile', 'USA', '182']\n['E. Honda', 'Japan', '185']\n['Dhalsim', 'India', '176']\n['Blanka', 'Brazil', '192']\n['Zangief', 'Russia', '214']\n"
    }
   ],
   "source": [
    "from csv import DictReader\n",
    "\n",
    "with open(\"csv_files/fighters.csv\") as file:\n",
    "    csv_reader = reader(file, delimiter=\",\")\n",
    "    for row in csv_reader:\n",
    "        print(row)"
   ]
  },
  {
   "cell_type": "markdown",
   "metadata": {},
   "source": [
    "## Writer\n",
    "\n",
    "`writer`: writer object to write to a CSV. Note you have to specify the write flags `w`, `a`, etc. to use thge writer object.\n",
    "\n",
    "`writerow`: writer object to write to a CSV"
   ]
  },
  {
   "cell_type": "code",
   "execution_count": 17,
   "metadata": {},
   "outputs": [],
   "source": [
    "from csv import writer\n",
    "\n",
    "with open(\"csv_files/fighters2.csv\", \"w\") as file:\n",
    "    csv_writer = writer(file)\n",
    "    csv_writer.writerow([\"Character\", \"Move\"])\n",
    "    csv_writer.writerow([\"Ryu\", \"Hadouken\"])"
   ]
  },
  {
   "cell_type": "markdown",
   "metadata": {},
   "source": [
    "Opening one file, changing data, writing out to another file…"
   ]
  },
  {
   "cell_type": "code",
   "execution_count": 42,
   "metadata": {
    "tags": []
   },
   "outputs": [
    {
     "output_type": "stream",
     "name": "stdout",
     "text": "['NAME', 'COUNTRY', 'HEIGHT (IN CM)']\n['RYU', 'JAPAN', '175']\n['KEN', 'USA', '175']\n['CHUN-LI', 'CHINA', '165']\n['GUILE', 'USA', '182']\n['E. HONDA', 'JAPAN', '185']\n['DHALSIM', 'INDIA', '176']\n['BLANKA', 'BRAZIL', '192']\n['ZANGIEF', 'RUSSIA', '214']\n"
    }
   ],
   "source": [
    "from csv import reader, writer\n",
    "\n",
    "with open(\"csv_files/fighters.csv\") as file:\n",
    "    csv_reader = reader(file)\n",
    "    fighters = [[s.upper() for s in row] for row in csv_reader]\n",
    "    for row in fighters:\n",
    "        print(row)\n",
    "\n",
    "with open(\"csv_files/fighters2.csv\", \"w\") as file2:\n",
    "    csv_writer = writer(file2)\n",
    "    for fighter in fighters:\n",
    "        csv_writer.writerow(fighter)\n"
   ]
  },
  {
   "cell_type": "code",
   "execution_count": null,
   "metadata": {},
   "outputs": [],
   "source": []
  }
 ]
}