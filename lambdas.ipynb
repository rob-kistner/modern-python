{
 "metadata": {
  "language_info": {
   "codemirror_mode": {
    "name": "ipython",
    "version": 3
   },
   "file_extension": ".py",
   "mimetype": "text/x-python",
   "name": "python",
   "nbconvert_exporter": "python",
   "pygments_lexer": "ipython3",
   "version": 3
  },
  "orig_nbformat": 2,
  "kernelspec": {
   "name": "python_defaultSpec_1596346614377",
   "display_name": "Python 3.8.5 64-bit"
  }
 },
 "nbformat": 4,
 "nbformat_minor": 2,
 "cells": [
  {
   "cell_type": "markdown",
   "metadata": {},
   "source": [
    "# Lambdas\n",
    "\n",
    "Properties of a lambda\n",
    "\n",
    "* Can only be one line\n",
    "* Must assign to a variable\n",
    "* Don't use return statement, they're automatically returned\n",
    "* Usage: a throwaway function: one you might not use again"
   ]
  },
  {
   "cell_type": "markdown",
   "metadata": {},
   "source": [
    "### So a normal function…"
   ]
  },
  {
   "cell_type": "code",
   "execution_count": 16,
   "metadata": {
    "tags": []
   },
   "outputs": [
    {
     "output_type": "execute_result",
     "data": {
      "text/plain": "81"
     },
     "metadata": {},
     "execution_count": 16
    }
   ],
   "source": [
    "def square(num):\n",
    "    return num*num\n",
    "\n",
    "square(9)"
   ]
  },
  {
   "cell_type": "markdown",
   "metadata": {},
   "source": [
    "### …converted into a lambda"
   ]
  },
  {
   "cell_type": "code",
   "execution_count": 18,
   "metadata": {},
   "outputs": [
    {
     "output_type": "execute_result",
     "data": {
      "text/plain": "81"
     },
     "metadata": {},
     "execution_count": 18
    }
   ],
   "source": [
    "square_lambda = lambda num: num*num\n",
    "\n",
    "square_lambda(9)"
   ]
  },
  {
   "cell_type": "markdown",
   "metadata": {},
   "source": [
    "### An add lambda"
   ]
  },
  {
   "cell_type": "code",
   "execution_count": 11,
   "metadata": {},
   "outputs": [
    {
     "output_type": "execute_result",
     "data": {
      "text/plain": "13"
     },
     "metadata": {},
     "execution_count": 11
    }
   ],
   "source": [
    "add = lambda a, b: a + b\n",
    "\n",
    "add(3, 10)"
   ]
  },
  {
   "cell_type": "code",
   "execution_count": 12,
   "metadata": {},
   "outputs": [
    {
     "output_type": "execute_result",
     "data": {
      "text/plain": "'<lambda>'"
     },
     "metadata": {},
     "execution_count": 12
    }
   ],
   "source": [
    "add.__name__"
   ]
  },
  {
   "cell_type": "markdown",
   "metadata": {},
   "source": [
    "### Lambda without a parameter"
   ]
  },
  {
   "cell_type": "code",
   "execution_count": 19,
   "metadata": {
    "tags": []
   },
   "outputs": [
    {
     "output_type": "stream",
     "name": "stdout",
     "text": "Hello!\n"
    }
   ],
   "source": [
    "say_hi = lambda: print(\"Hello!\")\n",
    "\n",
    "say_hi()\n"
   ]
  },
  {
   "cell_type": "markdown",
   "metadata": {},
   "source": [
    "### Exercise 61\n",
    "\n",
    "Write a lambda called `cube` that cubes an argument."
   ]
  },
  {
   "cell_type": "code",
   "execution_count": 8,
   "metadata": {},
   "outputs": [
    {
     "output_type": "execute_result",
     "data": {
      "text/plain": "8"
     },
     "metadata": {},
     "execution_count": 8
    }
   ],
   "source": [
    "cube = lambda num: num**3\n",
    "\n",
    "cube(2)"
   ]
  },
  {
   "cell_type": "markdown",
   "metadata": {},
   "source": [
    "### An example using tkinter\n",
    "\n",
    "The below exmaple shows a really short function being passed in as an argument that makes perfect sense as a lambda."
   ]
  },
  {
   "cell_type": "code",
   "execution_count": 4,
   "metadata": {
    "tags": []
   },
   "outputs": [],
   "source": [
    "import tkinter as tk\n",
    "\n",
    "root = tk.Tk()\n",
    "frame = tk.Frame(root)\n",
    "frame.pack()\n",
    "button = tk.Button(\n",
    "    frame,\n",
    "    text=\"Click Me!\",\n",
    "    fg=\"red\",\n",
    "    command=lambda:print(\"Hello!\")\n",
    ")\n",
    "button.pack(side=tk.LEFT)\n",
    "root.mainloop()"
   ]
  }
 ]
}