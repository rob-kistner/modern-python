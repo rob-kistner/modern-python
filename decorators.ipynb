{
 "metadata": {
  "language_info": {
   "codemirror_mode": {
    "name": "ipython",
    "version": 3
   },
   "file_extension": ".py",
   "mimetype": "text/x-python",
   "name": "python",
   "nbconvert_exporter": "python",
   "pygments_lexer": "ipython3",
   "version": 3
  },
  "orig_nbformat": 2,
  "kernelspec": {
   "name": "python_defaultSpec_1596570698334",
   "display_name": "Python 3.8.5 64-bit"
  }
 },
 "nbformat": 4,
 "nbformat_minor": 2,
 "cells": [
  {
   "cell_type": "markdown",
   "metadata": {},
   "source": [
    "# Decorators\n",
    "\n",
    "* Functions\n",
    "* Wrap other functions and enhance their behavior\n",
    "* Examples of higher order functions\n",
    "* Have their own syntax, using \"@\" (syntactic sugar)"
   ]
  },
  {
   "cell_type": "markdown",
   "metadata": {},
   "source": [
    "An example without the syntactic sugar.\n",
    "\n",
    "Below, `wrapper()` is the higher order function that gets returned in `be_polite(fn)`…"
   ]
  },
  {
   "cell_type": "code",
   "execution_count": 23,
   "metadata": {},
   "outputs": [],
   "source": [
    "def be_polite(fn):\n",
    "    def wrapper():\n",
    "        print(\"What a pleasure to meet you!\")\n",
    "        fn()\n",
    "        print(\"Have a great day!\")\n",
    "    return wrapper\n",
    "\n",
    "def greet():\n",
    "    print(\"My name is Colt.\")\n",
    "\n",
    "def rage():\n",
    "    print(\"I HATE YOU!!!\")"
   ]
  },
  {
   "cell_type": "markdown",
   "metadata": {},
   "source": [
    "This is where we decorate it, the syntactic sugar will normally be used instead of lines like below."
   ]
  },
  {
   "cell_type": "code",
   "execution_count": 25,
   "metadata": {},
   "outputs": [],
   "source": [
    "my_greet = be_polite(greet)\n",
    "\n",
    "polite_rage = be_polite(rage)"
   ]
  },
  {
   "cell_type": "code",
   "execution_count": 26,
   "metadata": {
    "tags": []
   },
   "outputs": [
    {
     "output_type": "stream",
     "name": "stdout",
     "text": "What a pleasure to meet you!\nMy name is Colt.\nHave a great day!\n"
    }
   ],
   "source": [
    "my_greet()"
   ]
  },
  {
   "cell_type": "code",
   "execution_count": 27,
   "metadata": {
    "tags": []
   },
   "outputs": [
    {
     "output_type": "stream",
     "name": "stdout",
     "text": "What a pleasure to meet you!\nI HATE YOU!!!\nHave a great day!\n"
    }
   ],
   "source": [
    "polite_rage()"
   ]
  },
  {
   "cell_type": "markdown",
   "metadata": {},
   "source": [
    "The normal way to use a decorator is with the syntactic sugar \"@\" like so…"
   ]
  },
  {
   "cell_type": "code",
   "execution_count": 29,
   "metadata": {},
   "outputs": [],
   "source": [
    "def be_polite(fn):\n",
    "    def wrapper():\n",
    "        print(\"What a pleasure to meet you!\")\n",
    "        fn()\n",
    "        print(\"Have a great day!\")\n",
    "    return wrapper\n",
    "\n",
    "@be_polite\n",
    "def greet():\n",
    "    print(\"My name is Matt.\")\n",
    "\n",
    "@be_polite\n",
    "def rage():\n",
    "    print(\"SHADDAP JERKY!!!\")"
   ]
  },
  {
   "cell_type": "markdown",
   "metadata": {},
   "source": [
    "### Explanation:\n",
    "\n",
    "* You'll call `greet()` or `rage()`\n",
    "* It'll pass the output from either of those functions as called into the decorator `be_polite(fn)` as the `fn` argument\n",
    "* The output from `greet()` or `rage()` gets piped into the `wrapper()` higher order function inside `be_polite()`"
   ]
  },
  {
   "cell_type": "code",
   "execution_count": 30,
   "metadata": {
    "tags": []
   },
   "outputs": [
    {
     "output_type": "stream",
     "name": "stdout",
     "text": "What a pleasure to meet you!\nMy name is Matt.\nHave a great day!\n"
    }
   ],
   "source": [
    "greet()"
   ]
  },
  {
   "cell_type": "code",
   "execution_count": 31,
   "metadata": {
    "tags": []
   },
   "outputs": [
    {
     "output_type": "stream",
     "name": "stdout",
     "text": "What a pleasure to meet you!\nSHADDAP JERKY!!!\nHave a great day!\n"
    }
   ],
   "source": [
    "rage()"
   ]
  },
  {
   "cell_type": "markdown",
   "metadata": {},
   "source": [
    "## Decorators with Different Signatures\n",
    "\n",
    "**NOTE:** `wrapper()` as the higher order function is just a standard. It can actually be any name as long as it gets returned in the end of the decorator function."
   ]
  },
  {
   "cell_type": "code",
   "execution_count": 44,
   "metadata": {},
   "outputs": [],
   "source": [
    "def shout(fn):\n",
    "    def wrapper(*args, **kwargs):\n",
    "        return fn(*args, **kwargs).upper()\n",
    "    return wrapper\n",
    "\n",
    "@shout\n",
    "def greet(name):\n",
    "    return f\"Hi, I'm {name}.\"\n",
    "\n",
    "@shout\n",
    "def order(main, side):\n",
    "    return f\"Hi, I'd like the {main}, with a side of {side}, please.\"\n",
    "\n",
    "@shout\n",
    "def lol():\n",
    "    return \"lol\""
   ]
  },
  {
   "cell_type": "markdown",
   "metadata": {},
   "source": [
    "One argument passed, we've seen it before…"
   ]
  },
  {
   "cell_type": "code",
   "execution_count": 45,
   "metadata": {},
   "outputs": [
    {
     "output_type": "execute_result",
     "data": {
      "text/plain": "\"HI, I'M TODD.\""
     },
     "metadata": {},
     "execution_count": 45
    }
   ],
   "source": [
    "greet(\"Todd\")"
   ]
  },
  {
   "cell_type": "markdown",
   "metadata": {},
   "source": [
    "Two arguments this time, the get passed into `*args` in `wrapper()`"
   ]
  },
  {
   "cell_type": "code",
   "execution_count": 46,
   "metadata": {},
   "outputs": [
    {
     "output_type": "execute_result",
     "data": {
      "text/plain": "\"HI, I'D LIKE THE BURGER, WITH A SIDE OF FRIES, PLEASE.\""
     },
     "metadata": {},
     "execution_count": 46
    }
   ],
   "source": [
    "order(\"burger\", \"fries\")"
   ]
  },
  {
   "cell_type": "markdown",
   "metadata": {},
   "source": [
    "Or even no arguments passed…"
   ]
  },
  {
   "cell_type": "code",
   "execution_count": 47,
   "metadata": {},
   "outputs": [
    {
     "output_type": "execute_result",
     "data": {
      "text/plain": "'LOL'"
     },
     "metadata": {},
     "execution_count": 47
    }
   ],
   "source": [
    "lol()"
   ]
  },
  {
   "cell_type": "markdown",
   "metadata": {},
   "source": [
    "`**kwargs` will be activated if you pass named arguments…"
   ]
  },
  {
   "cell_type": "code",
   "execution_count": 48,
   "metadata": {},
   "outputs": [
    {
     "output_type": "execute_result",
     "data": {
      "text/plain": "\"HI, I'D LIKE THE FISHWICH, WITH A SIDE OF MASHED POTATOES, PLEASE.\""
     },
     "metadata": {},
     "execution_count": 48
    }
   ],
   "source": [
    "order(side=\"mashed potatoes\", main=\"fishwich\")"
   ]
  },
  {
   "cell_type": "markdown",
   "metadata": {},
   "source": [
    "## Preserve Metadata"
   ]
  },
  {
   "cell_type": "code",
   "execution_count": 63,
   "metadata": {},
   "outputs": [],
   "source": [
    "def log_function_data(fn):\n",
    "    def wrapper(*args, **kwargs):\n",
    "        \"\"\"I AM A WRAPPER FUNCTION\"\"\"\n",
    "        print(f\"you are about to call: {fn.__name__}\")\n",
    "        print(f\"here's the documentation: {fn.__doc__}\")\n",
    "        return fn(*args, **kwargs)\n",
    "    return wrapper\n",
    "\n",
    "@log_function_data\n",
    "def add(x, y):\n",
    "    \"\"\"Adds two numbers together\"\"\"\n",
    "    return x + y"
   ]
  },
  {
   "cell_type": "code",
   "execution_count": 64,
   "metadata": {
    "tags": []
   },
   "outputs": [
    {
     "output_type": "stream",
     "name": "stdout",
     "text": "you are about to call: add\nhere's the documentation: Adds two numbers together\n40\n"
    }
   ],
   "source": [
    "print(add(10, 30))"
   ]
  },
  {
   "cell_type": "markdown",
   "metadata": {},
   "source": [
    "But note what happens when call dunders on the add function…"
   ]
  },
  {
   "cell_type": "code",
   "execution_count": 65,
   "metadata": {
    "tags": []
   },
   "outputs": [
    {
     "output_type": "stream",
     "name": "stdout",
     "text": "I AM A WRAPPER FUNCTION\n"
    }
   ],
   "source": [
    "print(add.__doc__)"
   ]
  },
  {
   "cell_type": "code",
   "execution_count": 66,
   "metadata": {
    "tags": []
   },
   "outputs": [
    {
     "output_type": "stream",
     "name": "stdout",
     "text": "wrapper\n"
    }
   ],
   "source": [
    "print(add.__name__)"
   ]
  },
  {
   "cell_type": "markdown",
   "metadata": {},
   "source": [
    "To remedy this, you'd use the `functools` package…\n",
    "\n",
    "```python\n",
    "from functools import wraps\n",
    "\n",
    "def my_decorator(fn):\n",
    "    @wraps(fn)\n",
    "    def wrapper(*args, **kwargs):\n",
    "        # do something here\n",
    "        pass\n",
    "    return wrapper\n",
    "```"
   ]
  },
  {
   "cell_type": "code",
   "execution_count": 67,
   "metadata": {},
   "outputs": [],
   "source": [
    "from functools import wraps\n",
    "\n",
    "def log_function_data(fn):\n",
    "    @wraps(fn) # <-- this is all you need to add\n",
    "    def wrapper(*args, **kwargs):\n",
    "        \"\"\"I AM A WRAPPER FUNCTION\"\"\"\n",
    "        print(f\"you are about to call: {fn.__name__}\")\n",
    "        print(f\"here's the documentation: {fn.__doc__}\")\n",
    "        return fn(*args, **kwargs)\n",
    "    return wrapper\n",
    "\n",
    "@log_function_data\n",
    "def add(x, y):\n",
    "    \"\"\"Adds two numbers together\"\"\"\n",
    "    return x + y"
   ]
  },
  {
   "cell_type": "code",
   "execution_count": 68,
   "metadata": {
    "tags": []
   },
   "outputs": [
    {
     "output_type": "stream",
     "name": "stdout",
     "text": "Adds two numbers together\n"
    }
   ],
   "source": [
    "print(add.__doc__)"
   ]
  },
  {
   "cell_type": "code",
   "execution_count": 69,
   "metadata": {
    "tags": []
   },
   "outputs": [
    {
     "output_type": "stream",
     "name": "stdout",
     "text": "add\n"
    }
   ],
   "source": [
    "print(add.__name__)"
   ]
  },
  {
   "cell_type": "code",
   "execution_count": 70,
   "metadata": {
    "tags": []
   },
   "outputs": [
    {
     "output_type": "stream",
     "name": "stdout",
     "text": "Help on function add in module __main__:\n\nadd(x, y)\n    Adds two numbers together\n\n"
    }
   ],
   "source": [
    "help(add)"
   ]
  },
  {
   "cell_type": "markdown",
   "metadata": {},
   "source": [
    "## Speed-Test Decorator\n",
    "\n",
    "Use decorator to make the speed tests written in the Generators section of the course easier to call."
   ]
  },
  {
   "cell_type": "code",
   "execution_count": 12,
   "metadata": {
    "tags": []
   },
   "outputs": [
    {
     "output_type": "stream",
     "name": "stdout",
     "text": "Time elapsed: 0.56 seconds\n"
    },
    {
     "output_type": "execute_result",
     "data": {
      "text/plain": "49999995000000"
     },
     "metadata": {},
     "execution_count": 12
    }
   ],
   "source": [
    "\n",
    "def speed_test(fn):\n",
    "    from functools import wraps\n",
    "    from time import time\n",
    "    \n",
    "    @wraps(fn)\n",
    "    def wrapper(*args, **kwargs):\n",
    "        start_time = time()\n",
    "        result = fn(*args, **kwargs)\n",
    "        end_time = time()\n",
    "        rounded_time = round(end_time - start_time, 2)\n",
    "        print(f\"Time elapsed: {rounded_time} seconds\")\n",
    "        return result\n",
    "    \n",
    "    return wrapper\n",
    "\n",
    "@speed_test\n",
    "def sum_gen():\n",
    "    return sum(x for x in range(10000000))\n",
    "\n",
    "@speed_test\n",
    "def sum_list():\n",
    "    return sum([x for x in range(10000000)])\n",
    "\n",
    "sum_gen()"
   ]
  },
  {
   "cell_type": "code",
   "execution_count": 13,
   "metadata": {
    "tags": []
   },
   "outputs": [
    {
     "output_type": "stream",
     "name": "stdout",
     "text": "Time elapsed: 0.68 seconds\n"
    },
    {
     "output_type": "execute_result",
     "data": {
      "text/plain": "49999995000000"
     },
     "metadata": {},
     "execution_count": 13
    }
   ],
   "source": [
    "sum_list()"
   ]
  },
  {
   "cell_type": "markdown",
   "metadata": {},
   "source": [
    "## Exercise 89: show_args\n",
    "\n",
    "Write a function called **show_args** which accepts a function and returns another function. Before invoking the function passed to it, **show_args** should be responsible for printing two things: a tuple of the positional arguments, and a dictionary of the keyword arguments."
   ]
  },
  {
   "cell_type": "code",
   "execution_count": 20,
   "metadata": {
    "tags": []
   },
   "outputs": [
    {
     "output_type": "stream",
     "name": "stdout",
     "text": "args: (1, 2, 3)\nkwargs: {'a': 'hi', 'b': 'bye'}\n\nOutput from decorated function: hi\n"
    }
   ],
   "source": [
    "from functools import wraps\n",
    "\n",
    "def show_args(fn):\n",
    "    @wraps(fn)\n",
    "    def wrapper(*args, **kwargs):\n",
    "        print(f\"args: {args}\")\n",
    "        print(f\"kwargs: {kwargs}\")\n",
    "        return fn(*args, **kwargs)\n",
    "    return wrapper\n",
    "\n",
    "@show_args\n",
    "def do_nothing(*args, **kwargs):\n",
    "    print()\n",
    "    print(f\"Output from decorated function: {kwargs['a']}\")\n",
    "\n",
    "do_nothing(1, 2, 3, a=\"hi\", b=\"bye\")\n"
   ]
  },
  {
   "cell_type": "markdown",
   "metadata": {},
   "source": [
    "## Example: Ensuring Args with a Decorator"
   ]
  },
  {
   "cell_type": "code",
   "execution_count": 23,
   "metadata": {
    "tags": []
   },
   "outputs": [
    {
     "output_type": "stream",
     "name": "stdout",
     "text": "Hi there Tony\n"
    }
   ],
   "source": [
    "def ensure_no_kwargs(fn):\n",
    "    from functools import wraps\n",
    "    @wraps(fn)\n",
    "    def wrapper(*args, **kwargs):\n",
    "        if kwargs:\n",
    "            raise ValueError(\"No kwargs allowed! Sorry.\")\n",
    "        return fn(*args, **kwargs)\n",
    "    return wrapper\n",
    "\n",
    "@ensure_no_kwargs\n",
    "def greet(name):\n",
    "    print(f\"Hi there {name}\")\n",
    "\n",
    "greet(\"Tony\")\n"
   ]
  },
  {
   "cell_type": "code",
   "execution_count": 25,
   "metadata": {},
   "outputs": [
    {
     "output_type": "error",
     "ename": "ValueError",
     "evalue": "No kwargs allowed! Sorry.",
     "traceback": [
      "\u001b[0;31m---------------------------------------------------------------------------\u001b[0m",
      "\u001b[0;31mValueError\u001b[0m                                Traceback (most recent call last)",
      "\u001b[0;32m<ipython-input-25-840cee6e8004>\u001b[0m in \u001b[0;36m<module>\u001b[0;34m\u001b[0m\n\u001b[0;32m----> 1\u001b[0;31m \u001b[0mgreet\u001b[0m\u001b[0;34m(\u001b[0m\u001b[0mfirst\u001b[0m\u001b[0;34m=\u001b[0m\u001b[0;34m\"Rob\"\u001b[0m\u001b[0;34m,\u001b[0m \u001b[0mlast\u001b[0m\u001b[0;34m=\u001b[0m\u001b[0;34m\"Kistner\"\u001b[0m\u001b[0;34m)\u001b[0m\u001b[0;34m\u001b[0m\u001b[0;34m\u001b[0m\u001b[0m\n\u001b[0m",
      "\u001b[0;32m<ipython-input-23-d7bd12a5c050>\u001b[0m in \u001b[0;36mwrapper\u001b[0;34m(*args, **kwargs)\u001b[0m\n\u001b[1;32m      4\u001b[0m     \u001b[0;32mdef\u001b[0m \u001b[0mwrapper\u001b[0m\u001b[0;34m(\u001b[0m\u001b[0;34m*\u001b[0m\u001b[0margs\u001b[0m\u001b[0;34m,\u001b[0m \u001b[0;34m**\u001b[0m\u001b[0mkwargs\u001b[0m\u001b[0;34m)\u001b[0m\u001b[0;34m:\u001b[0m\u001b[0;34m\u001b[0m\u001b[0;34m\u001b[0m\u001b[0m\n\u001b[1;32m      5\u001b[0m         \u001b[0;32mif\u001b[0m \u001b[0mkwargs\u001b[0m\u001b[0;34m:\u001b[0m\u001b[0;34m\u001b[0m\u001b[0;34m\u001b[0m\u001b[0m\n\u001b[0;32m----> 6\u001b[0;31m             \u001b[0;32mraise\u001b[0m \u001b[0mValueError\u001b[0m\u001b[0;34m(\u001b[0m\u001b[0;34m\"No kwargs allowed! Sorry.\"\u001b[0m\u001b[0;34m)\u001b[0m\u001b[0;34m\u001b[0m\u001b[0;34m\u001b[0m\u001b[0m\n\u001b[0m\u001b[1;32m      7\u001b[0m         \u001b[0;32mreturn\u001b[0m \u001b[0mfn\u001b[0m\u001b[0;34m(\u001b[0m\u001b[0;34m*\u001b[0m\u001b[0margs\u001b[0m\u001b[0;34m,\u001b[0m \u001b[0;34m**\u001b[0m\u001b[0mkwargs\u001b[0m\u001b[0;34m)\u001b[0m\u001b[0;34m\u001b[0m\u001b[0;34m\u001b[0m\u001b[0m\n\u001b[1;32m      8\u001b[0m     \u001b[0;32mreturn\u001b[0m \u001b[0mwrapper\u001b[0m\u001b[0;34m\u001b[0m\u001b[0;34m\u001b[0m\u001b[0m\n",
      "\u001b[0;31mValueError\u001b[0m: No kwargs allowed! Sorry."
     ]
    }
   ],
   "source": [
    "# this should error out with the\n",
    "# custom error message\n",
    "greet(first=\"Rob\", last=\"Kistner\")\n"
   ]
  },
  {
   "cell_type": "markdown",
   "metadata": {},
   "source": [
    "## Exercise 90: double_return\n",
    "\n",
    "Write a function called **double_return** which accepts a function and returns another function, **double_return** should decorate a function by returning two copies of the inner function's return value inside a list."
   ]
  },
  {
   "cell_type": "code",
   "execution_count": 29,
   "metadata": {},
   "outputs": [
    {
     "output_type": "execute_result",
     "data": {
      "text/plain": "[\"Hi, I'm Colt\", \"Hi, I'm Colt\"]"
     },
     "metadata": {},
     "execution_count": 29
    }
   ],
   "source": [
    "def double_return(fn):\n",
    "    from functools import wraps\n",
    "    @wraps(fn)\n",
    "    def wrapper(*args, **kwargs):\n",
    "        return [fn(*args, **kwargs), fn(*args, **kwargs)]\n",
    "    return wrapper\n",
    "\n",
    "@double_return\n",
    "def add(x, y):\n",
    "    return x+y\n",
    "\n",
    "@double_return\n",
    "def greet(name):\n",
    "    return \"Hi, I'm \" + name\n",
    "\n",
    "greet(\"Colt\")\n"
   ]
  },
  {
   "cell_type": "markdown",
   "metadata": {},
   "source": [
    "## Exercise 91: ensure_fewer_than_three_args\n",
    "\n",
    "Write a function called **ensure_fewer_than_three_args** which accepts a function and returns another function. The function passed to it should only be invoked if there are fewer than three positional arguments passed to it. Otherwise, the inner function should return \"Too many arguments\"."
   ]
  },
  {
   "cell_type": "code",
   "execution_count": 35,
   "metadata": {},
   "outputs": [
    {
     "output_type": "execute_result",
     "data": {
      "text/plain": "'Too many arguments!'"
     },
     "metadata": {},
     "execution_count": 35
    }
   ],
   "source": [
    "def ensure_fewer_than_three_args(fn):\n",
    "    from functools import wraps\n",
    "    @wraps(fn)\n",
    "    def wrapper(*args, **kwargs):\n",
    "        if len(args) < 3:\n",
    "            return fn(*args, **kwargs)\n",
    "        return \"Too many arguments!\"\n",
    "    return wrapper\n",
    "\n",
    "@ensure_fewer_than_three_args\n",
    "def add_all(*args, **kwargs):\n",
    "    result = 0\n",
    "    for n in args:\n",
    "        result += n\n",
    "    return result\n",
    "\n",
    "add_all(3,2,1)\n"
   ]
  },
  {
   "cell_type": "code",
   "execution_count": 36,
   "metadata": {},
   "outputs": [
    {
     "output_type": "execute_result",
     "data": {
      "text/plain": "5"
     },
     "metadata": {},
     "execution_count": 36
    }
   ],
   "source": [
    "add_all(3,2)"
   ]
  },
  {
   "cell_type": "markdown",
   "metadata": {},
   "source": [
    "## Exercise 92: only_ints\n",
    "\n",
    "Write a function called **only_ints** which accepts a function and returns another function. The function passed to it should only be invoked if all the arguments passed to it are integers. Otherwise it should return \"Please only invoke with integers\"."
   ]
  },
  {
   "cell_type": "code",
   "execution_count": 62,
   "metadata": {
    "tags": []
   },
   "outputs": [
    {
     "output_type": "stream",
     "name": "stdout",
     "text": "Output from add() function\n"
    }
   ],
   "source": [
    "def only_ints(fn):\n",
    "    from functools import wraps\n",
    "    @wraps(fn)\n",
    "    def wrapper(*args, **kwargs):\n",
    "        if any([arg for arg in args if type(arg) != int]):\n",
    "            return \"Please only invoke with integers\"\n",
    "        return fn(*args, **kwargs)\n",
    "    return wrapper\n",
    "\n",
    "@only_ints\n",
    "def add(*args):\n",
    "    print(\"Output from add() function\")\n",
    "\n",
    "add(1, 2)\n"
   ]
  },
  {
   "cell_type": "code",
   "execution_count": 63,
   "metadata": {
    "tags": []
   },
   "outputs": [
    {
     "output_type": "execute_result",
     "data": {
      "text/plain": "'Please only invoke with integers'"
     },
     "metadata": {},
     "execution_count": 63
    }
   ],
   "source": [
    "add(\"1\", 2)"
   ]
  },
  {
   "cell_type": "markdown",
   "metadata": {},
   "source": [
    "## Exercise 93: ensure_authorized\n",
    "\n",
    "Write a function called **ensure_authorized** which accepts a function and returns another function. The function passed to it should only be invoked if there is a keyword argument named \"role\" with a value of \"admin\", otherwise, the inner function should return \"Unauthorized\"."
   ]
  },
  {
   "cell_type": "code",
   "execution_count": 68,
   "metadata": {},
   "outputs": [
    {
     "output_type": "execute_result",
     "data": {
      "text/plain": "\"Shh! Don't tell anybody!\""
     },
     "metadata": {},
     "execution_count": 68
    }
   ],
   "source": [
    "def ensure_authorized(fn):\n",
    "    from functools import wraps\n",
    "    @wraps(fn)\n",
    "    def wrapper(*args, **kwargs):\n",
    "        if kwargs.get(\"role\") == \"admin\":\n",
    "            return fn(*args, **kwargs)\n",
    "        return \"Unauthorized\"\n",
    "    return wrapper\n",
    "\n",
    "@ensure_authorized\n",
    "def show_secrets(*args, **kwargs):\n",
    "    return \"Shh! Don't tell anybody!\"\n",
    "\n",
    "show_secrets(role=\"admin\")\n"
   ]
  },
  {
   "cell_type": "code",
   "execution_count": 69,
   "metadata": {},
   "outputs": [
    {
     "output_type": "execute_result",
     "data": {
      "text/plain": "'Unauthorized'"
     },
     "metadata": {},
     "execution_count": 69
    }
   ],
   "source": [
    "show_secrets(role=\"nobody\")"
   ]
  },
  {
   "cell_type": "code",
   "execution_count": 70,
   "metadata": {},
   "outputs": [
    {
     "output_type": "execute_result",
     "data": {
      "text/plain": "'Unauthorized'"
     },
     "metadata": {},
     "execution_count": 70
    }
   ],
   "source": [
    "show_secrets()"
   ]
  },
  {
   "cell_type": "markdown",
   "metadata": {},
   "source": [
    "## Example: writing an ensure_first_arg_is decorator\n",
    "\n",
    "We want to pass an argument into the decorator `wrapper` function"
   ]
  },
  {
   "cell_type": "code",
   "execution_count": 73,
   "metadata": {
    "tags": []
   },
   "outputs": [
    {
     "output_type": "stream",
     "name": "stdout",
     "text": "('burrito', 'ice cream')\n"
    }
   ],
   "source": [
    "def ensure_first_arg_is(val):\n",
    "    from functools import wraps\n",
    "        # this intermediate inner function will run as the \n",
    "        # higher order function, then wrapper acts as the \n",
    "        # function that receives the required argument(s)\n",
    "    def inner(fn):\n",
    "        @wraps(fn)\n",
    "        def wrapper(*args, **kwargs):\n",
    "            if args and args[0] != val:\n",
    "                return f\"First arg needs to be {val}\"\n",
    "            return fn(*args, **kwargs)\n",
    "        return wrapper\n",
    "    return inner\n",
    "        \n",
    "@ensure_first_arg_is(\"burrito\")\n",
    "def fav_foods(*foods):\n",
    "    print(foods)\n",
    "\n",
    "fav_foods(\"burrito\", \"ice cream\")\n"
   ]
  },
  {
   "cell_type": "code",
   "execution_count": 74,
   "metadata": {},
   "outputs": [
    {
     "output_type": "execute_result",
     "data": {
      "text/plain": "'First arg needs to be burrito'"
     },
     "metadata": {},
     "execution_count": 74
    }
   ],
   "source": [
    "fav_foods(\"pizza\", \"asparagus\")"
   ]
  },
  {
   "cell_type": "markdown",
   "metadata": {},
   "source": [
    "## Example: Enforcing Argument Types with a Decorator"
   ]
  },
  {
   "cell_type": "code",
   "execution_count": 80,
   "metadata": {
    "tags": []
   },
   "outputs": [
    {
     "output_type": "stream",
     "name": "stdout",
     "text": "hello\nhello\nhello\n"
    }
   ],
   "source": [
    "def enforce(*types):\n",
    "    def decorator(f):\n",
    "        def new_func(*args, **kwargs):\n",
    "            newargs = []\n",
    "            for (a, t) in zip(args, types):\n",
    "                # this is where the vars get cast\n",
    "                # the proper types\n",
    "                newargs.append(t(a))\n",
    "            return f(*newargs, **kwargs)\n",
    "        return new_func\n",
    "    return decorator\n",
    "\n",
    "@enforce(str, int)\n",
    "def repeat_msg(msg, times):\n",
    "    for time in range(times):\n",
    "        print(msg)"
   ]
  },
  {
   "cell_type": "markdown",
   "metadata": {},
   "source": [
    "For the below call…\n",
    "\n",
    "zipped:\n",
    "`(\"hello\", strs) (\"3\", int)`\n",
    "\n",
    "then convert (\"hello\", to a string)\n",
    "\n",
    "then convert (\"3\", to an int)\n",
    "\n",
    "`[\"hello\", 3]`\n"
   ]
  },
  {
   "cell_type": "code",
   "execution_count": 81,
   "metadata": {
    "tags": []
   },
   "outputs": [
    {
     "output_type": "stream",
     "name": "stdout",
     "text": "hello\nhello\nhello\n"
    }
   ],
   "source": [
    "repeat_msg(\"hello\", \"3\")\n"
   ]
  },
  {
   "cell_type": "markdown",
   "metadata": {},
   "source": [
    "## Example: Delay Decorator"
   ]
  },
  {
   "cell_type": "code",
   "execution_count": 86,
   "metadata": {
    "tags": []
   },
   "outputs": [
    {
     "output_type": "stream",
     "name": "stdout",
     "text": "Waiting 3s before running show_it\nShowing it after a delay.\n"
    }
   ],
   "source": [
    " \n",
    "def delay(timer):\n",
    "    from functools import wraps\n",
    "    from time import sleep\n",
    "\n",
    "    def inner(fn):\n",
    "    \n",
    "        @wraps(fn)\n",
    "        def wrapper(*args, **kwargs):\n",
    "            print(\"Waiting {}s before running {}\".format(timer, fn.__name__))\n",
    "            sleep(timer)\n",
    "            return fn(*args, **kwargs)\n",
    "        return wrapper\n",
    "    \n",
    "    return inner\n",
    "\n",
    "@delay(3)\n",
    "def show_it():\n",
    "    print(f\"Showing it after a delay.\")\n",
    "\n",
    "show_it()\n"
   ]
  }
 ]
}