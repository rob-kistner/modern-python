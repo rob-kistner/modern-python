{
 "metadata": {
  "language_info": {
   "codemirror_mode": {
    "name": "ipython",
    "version": 3
   },
   "file_extension": ".py",
   "mimetype": "text/x-python",
   "name": "python",
   "nbconvert_exporter": "python",
   "pygments_lexer": "ipython3",
   "version": 3
  },
  "orig_nbformat": 2,
  "kernelspec": {
   "name": "python_defaultSpec_1596483292884",
   "display_name": "Python 3.8.5 64-bit"
  }
 },
 "nbformat": 4,
 "nbformat_minor": 2,
 "cells": [
  {
   "cell_type": "markdown",
   "metadata": {},
   "source": [
    "# Decorators\n",
    "\n",
    "* Functions\n",
    "* Wrap other functions and enhance their behavior\n",
    "* Examples of higher order functions\n",
    "* Have their own syntax, using \"@\" (syntactic sugar)"
   ]
  },
  {
   "cell_type": "markdown",
   "metadata": {},
   "source": [
    "An example without the syntactic sugar.\n",
    "\n",
    "Below, `wrapper()` is the higher order function that gets returned in `be_polite(fn)`…"
   ]
  },
  {
   "cell_type": "code",
   "execution_count": 23,
   "metadata": {},
   "outputs": [],
   "source": [
    "def be_polite(fn):\n",
    "    def wrapper():\n",
    "        print(\"What a pleasure to meet you!\")\n",
    "        fn()\n",
    "        print(\"Have a great day!\")\n",
    "    return wrapper\n",
    "\n",
    "def greet():\n",
    "    print(\"My name is Colt.\")\n",
    "\n",
    "def rage():\n",
    "    print(\"I HATE YOU!!!\")"
   ]
  },
  {
   "cell_type": "markdown",
   "metadata": {},
   "source": [
    "This is where we decorate it, the syntactic sugar will normally be used instead of lines like below."
   ]
  },
  {
   "cell_type": "code",
   "execution_count": 25,
   "metadata": {},
   "outputs": [],
   "source": [
    "my_greet = be_polite(greet)\n",
    "\n",
    "polite_rage = be_polite(rage)"
   ]
  },
  {
   "cell_type": "code",
   "execution_count": 26,
   "metadata": {
    "tags": []
   },
   "outputs": [
    {
     "output_type": "stream",
     "name": "stdout",
     "text": "What a pleasure to meet you!\nMy name is Colt.\nHave a great day!\n"
    }
   ],
   "source": [
    "my_greet()"
   ]
  },
  {
   "cell_type": "code",
   "execution_count": 27,
   "metadata": {
    "tags": []
   },
   "outputs": [
    {
     "output_type": "stream",
     "name": "stdout",
     "text": "What a pleasure to meet you!\nI HATE YOU!!!\nHave a great day!\n"
    }
   ],
   "source": [
    "polite_rage()"
   ]
  },
  {
   "cell_type": "markdown",
   "metadata": {},
   "source": [
    "The normal way to use a decorator is with the syntactic sugar \"@\" like so…"
   ]
  },
  {
   "cell_type": "code",
   "execution_count": 29,
   "metadata": {},
   "outputs": [],
   "source": [
    "def be_polite(fn):\n",
    "    def wrapper():\n",
    "        print(\"What a pleasure to meet you!\")\n",
    "        fn()\n",
    "        print(\"Have a great day!\")\n",
    "    return wrapper\n",
    "\n",
    "@be_polite\n",
    "def greet():\n",
    "    print(\"My name is Matt.\")\n",
    "\n",
    "@be_polite\n",
    "def rage():\n",
    "    print(\"SHADDAP JERKY!!!\")"
   ]
  },
  {
   "cell_type": "markdown",
   "metadata": {},
   "source": [
    "### Explanation:\n",
    "\n",
    "* You'll call `greet()` or `rage()`\n",
    "* It'll pass the output from either of those functions as called into the decorator `be_polite(fn)` as the `fn` argument\n",
    "* The output from `greet()` or `rage()` gets piped into the `wrapper()` higher order function inside `be_polite()`"
   ]
  },
  {
   "cell_type": "code",
   "execution_count": 30,
   "metadata": {
    "tags": []
   },
   "outputs": [
    {
     "output_type": "stream",
     "name": "stdout",
     "text": "What a pleasure to meet you!\nMy name is Matt.\nHave a great day!\n"
    }
   ],
   "source": [
    "greet()"
   ]
  },
  {
   "cell_type": "code",
   "execution_count": 31,
   "metadata": {
    "tags": []
   },
   "outputs": [
    {
     "output_type": "stream",
     "name": "stdout",
     "text": "What a pleasure to meet you!\nSHADDAP JERKY!!!\nHave a great day!\n"
    }
   ],
   "source": [
    "rage()"
   ]
  },
  {
   "cell_type": "markdown",
   "metadata": {},
   "source": [
    "## Decorators with Different Signatures\n",
    "\n",
    "**NOTE:** `wrapper()` as the higher order function is just a standard. It can actually be any name as long as it gets returned in the end of the decorator function."
   ]
  },
  {
   "cell_type": "code",
   "execution_count": 44,
   "metadata": {},
   "outputs": [],
   "source": [
    "def shout(fn):\n",
    "    def wrapper(*args, **kwargs):\n",
    "        return fn(*args, **kwargs).upper()\n",
    "    return wrapper\n",
    "\n",
    "@shout\n",
    "def greet(name):\n",
    "    return f\"Hi, I'm {name}.\"\n",
    "\n",
    "@shout\n",
    "def order(main, side):\n",
    "    return f\"Hi, I'd like the {main}, with a side of {side}, please.\"\n",
    "\n",
    "@shout\n",
    "def lol():\n",
    "    return \"lol\""
   ]
  },
  {
   "cell_type": "markdown",
   "metadata": {},
   "source": [
    "One argument passed, we've seen it before…"
   ]
  },
  {
   "cell_type": "code",
   "execution_count": 45,
   "metadata": {},
   "outputs": [
    {
     "output_type": "execute_result",
     "data": {
      "text/plain": "\"HI, I'M TODD.\""
     },
     "metadata": {},
     "execution_count": 45
    }
   ],
   "source": [
    "greet(\"Todd\")"
   ]
  },
  {
   "cell_type": "markdown",
   "metadata": {},
   "source": [
    "Two arguments this time, the get passed into `*args` in `wrapper()`"
   ]
  },
  {
   "cell_type": "code",
   "execution_count": 46,
   "metadata": {},
   "outputs": [
    {
     "output_type": "execute_result",
     "data": {
      "text/plain": "\"HI, I'D LIKE THE BURGER, WITH A SIDE OF FRIES, PLEASE.\""
     },
     "metadata": {},
     "execution_count": 46
    }
   ],
   "source": [
    "order(\"burger\", \"fries\")"
   ]
  },
  {
   "cell_type": "markdown",
   "metadata": {},
   "source": [
    "Or even no arguments passed…"
   ]
  },
  {
   "cell_type": "code",
   "execution_count": 47,
   "metadata": {},
   "outputs": [
    {
     "output_type": "execute_result",
     "data": {
      "text/plain": "'LOL'"
     },
     "metadata": {},
     "execution_count": 47
    }
   ],
   "source": [
    "lol()"
   ]
  },
  {
   "cell_type": "markdown",
   "metadata": {},
   "source": [
    "`**kwargs` will be activated if you pass named arguments…"
   ]
  },
  {
   "cell_type": "code",
   "execution_count": 48,
   "metadata": {},
   "outputs": [
    {
     "output_type": "execute_result",
     "data": {
      "text/plain": "\"HI, I'D LIKE THE FISHWICH, WITH A SIDE OF MASHED POTATOES, PLEASE.\""
     },
     "metadata": {},
     "execution_count": 48
    }
   ],
   "source": [
    "order(side=\"mashed potatoes\", main=\"fishwich\")"
   ]
  },
  {
   "cell_type": "markdown",
   "metadata": {},
   "source": [
    "## Preserve Metadata"
   ]
  },
  {
   "cell_type": "code",
   "execution_count": 63,
   "metadata": {},
   "outputs": [],
   "source": [
    "def log_function_data(fn):\n",
    "    def wrapper(*args, **kwargs):\n",
    "        \"\"\"I AM A WRAPPER FUNCTION\"\"\"\n",
    "        print(f\"you are about to call: {fn.__name__}\")\n",
    "        print(f\"here's the documentation: {fn.__doc__}\")\n",
    "        return fn(*args, **kwargs)\n",
    "    return wrapper\n",
    "\n",
    "@log_function_data\n",
    "def add(x, y):\n",
    "    \"\"\"Adds two numbers together\"\"\"\n",
    "    return x + y"
   ]
  },
  {
   "cell_type": "code",
   "execution_count": 64,
   "metadata": {
    "tags": []
   },
   "outputs": [
    {
     "output_type": "stream",
     "name": "stdout",
     "text": "you are about to call: add\nhere's the documentation: Adds two numbers together\n40\n"
    }
   ],
   "source": [
    "print(add(10, 30))"
   ]
  },
  {
   "cell_type": "markdown",
   "metadata": {},
   "source": [
    "But note what happens when call dunders on the add function…"
   ]
  },
  {
   "cell_type": "code",
   "execution_count": 65,
   "metadata": {
    "tags": []
   },
   "outputs": [
    {
     "output_type": "stream",
     "name": "stdout",
     "text": "I AM A WRAPPER FUNCTION\n"
    }
   ],
   "source": [
    "print(add.__doc__)"
   ]
  },
  {
   "cell_type": "code",
   "execution_count": 66,
   "metadata": {
    "tags": []
   },
   "outputs": [
    {
     "output_type": "stream",
     "name": "stdout",
     "text": "wrapper\n"
    }
   ],
   "source": [
    "print(add.__name__)"
   ]
  },
  {
   "cell_type": "markdown",
   "metadata": {},
   "source": [
    "To remedy this, you'd use the `functools` package…\n",
    "\n",
    "```python\n",
    "from functools import wraps\n",
    "\n",
    "def my_decorator(fn):\n",
    "    @wraps(fn)\n",
    "    def wrapper(*args, **kwargs):\n",
    "        # do something here\n",
    "        pass\n",
    "    return wrapper\n",
    "```"
   ]
  },
  {
   "cell_type": "code",
   "execution_count": 67,
   "metadata": {},
   "outputs": [],
   "source": [
    "from functools import wraps\n",
    "\n",
    "def log_function_data(fn):\n",
    "    @wraps(fn) # <-- this is all you need to add\n",
    "    def wrapper(*args, **kwargs):\n",
    "        \"\"\"I AM A WRAPPER FUNCTION\"\"\"\n",
    "        print(f\"you are about to call: {fn.__name__}\")\n",
    "        print(f\"here's the documentation: {fn.__doc__}\")\n",
    "        return fn(*args, **kwargs)\n",
    "    return wrapper\n",
    "\n",
    "@log_function_data\n",
    "def add(x, y):\n",
    "    \"\"\"Adds two numbers together\"\"\"\n",
    "    return x + y"
   ]
  },
  {
   "cell_type": "code",
   "execution_count": 68,
   "metadata": {
    "tags": []
   },
   "outputs": [
    {
     "output_type": "stream",
     "name": "stdout",
     "text": "Adds two numbers together\n"
    }
   ],
   "source": [
    "print(add.__doc__)"
   ]
  },
  {
   "cell_type": "code",
   "execution_count": 69,
   "metadata": {
    "tags": []
   },
   "outputs": [
    {
     "output_type": "stream",
     "name": "stdout",
     "text": "add\n"
    }
   ],
   "source": [
    "print(add.__name__)"
   ]
  },
  {
   "cell_type": "code",
   "execution_count": 70,
   "metadata": {
    "tags": []
   },
   "outputs": [
    {
     "output_type": "stream",
     "name": "stdout",
     "text": "Help on function add in module __main__:\n\nadd(x, y)\n    Adds two numbers together\n\n"
    }
   ],
   "source": [
    "help(add)"
   ]
  }
 ]
}